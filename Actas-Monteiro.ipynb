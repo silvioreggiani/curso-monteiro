{
 "cells": [
  {
   "cell_type": "markdown",
   "id": "18653fbe",
   "metadata": {
    "slideshow": {
     "slide_type": "slide"
    }
   },
   "source": [
    "# Geometría de Grupos de Lie usando SageMath\n",
    "\n",
    "## XVI Congreso Dr. Antonio Monteiro (2021)\n",
    "\n",
    "### Silvio Reggiani (UNR - Conicet)\n",
    "\n"
   ]
  },
  {
   "cell_type": "markdown",
   "id": "e7bc014a",
   "metadata": {
    "slideshow": {
     "slide_type": "fragment"
    }
   },
   "source": [
    "# Introducción\n",
    "\n",
    "La idea de este curso es presentar, de manera informal, algunos de los conceptos básicos que se estudian en geometría Riemanniana homogénea (esto incluye grupos y álgebras de Lie). A la par iremos viendo cómo se implementan estos conceptos en el software SageMath y algunas de sus funcionalidades. En SageMath las variedades diferenciables están implementadas en el proyecto SageManifolds. \n",
    "\n",
    "Al momento de dictar el curso, la última versión disponible de SageMath era la versión 9.3. Sin embargo, al momento de terminar estas notas la última versión disponible es la 9.4. Estás notas están, dentro de lo posible, adaptadas a la última versión de SageMath. Las notebooks originales (así como algunas imágenes ilustrativas que no tienen la suficiente calidad como para ser incluidas en estas actas) se encuentran en el repositorio https://github.com/silvioreggiani/curso-monteiro.\n",
    "\n",
    "\n"
   ]
  },
  {
   "cell_type": "code",
   "execution_count": 1,
   "id": "5eff79cd",
   "metadata": {},
   "outputs": [
    {
     "data": {
      "text/plain": [
       "'SageMath version 10.0, Release Date: 2023-05-20'"
      ]
     },
     "execution_count": 1,
     "metadata": {},
     "output_type": "execute_result"
    }
   ],
   "source": [
    "version()"
   ]
  },
  {
   "cell_type": "markdown",
   "id": "2fdd3918",
   "metadata": {},
   "source": [
    "Algunos enlaces relevantes para quienes quieran ejecutar las notebooks correspondientes son\n",
    "\n",
    "- https://doc.sagemath.org/html/en/installation/ para la instalación de SageMath y Jupyter.\n",
    "- Alternativamente, las notebooks pueden ejecutarse con una cuenta gratuita en https://cocalc.com/ (la versión gratuita es un poco lenta, pero más que suficiente para este curso).\n",
    "- Para quienes no estén familiarizados con SageMath, se recomienda hacer antes algún tutorial, por ejemplo\n",
    "    https://doc.sagemath.org/html/en/tutorial/index.html\n",
    "- Finalmente la página oficial del proyecto SageManifolds es https://sagemanifolds.obspm.fr/. Además de la docuentación oficial, allí se pueden encontrar los cambios hechos en las últimas actualizaciones. \n",
    "\n",
    "Con respecto a la parte matemática, la idea de este curso es presentar los conceptos de manera informal e intuitiva. La exposición será autocontenida, pero para profundizar en los temas se recomienda estudiar los conceptos elementes de variedades diferenciables y riemannianas, esto pueden encontrarse, por ejemplo, en los primeros capítulos del libro de do Carmo, [??]"
   ]
  },
  {
   "cell_type": "markdown",
   "id": "1d54e962",
   "metadata": {
    "slideshow": {
     "slide_type": "slide"
    }
   },
   "source": [
    "# Variedades diferenciables\n",
    "\n",
    "Decimos que un espacio topológico $M$ es una *variedad diferenciable* de dimensión $n$ si\n",
    "* tenemos coordenadas locales $x_1, \\ldots, x_n$ en (un entorno abierto de) cada punto $p \\in M$;\n",
    "* el cambio de coordenadas $(x_1, \\ldots, x_n) \\mapsto (y_1, \\ldots, y_n)$ es diferenciable (para nosotros diferenciablilidad significará de clase $C^\\infty$)\n",
    "* la topología de $M$ es *suficientemente buena* (espacio localmente euclídeo).\n",
    "    \n",
    "Para definir una variedad diferenciable en SageMath tenemos el comando `Manifold()`. Por ejemplo, una variedad diferenciable $M$ de dimensión $3$ la indicamos como sigue."
   ]
  },
  {
   "cell_type": "code",
   "execution_count": 2,
   "id": "579ce6d9",
   "metadata": {
    "slideshow": {
     "slide_type": "-"
    }
   },
   "outputs": [
    {
     "data": {
      "text/plain": [
       "3-dimensional differentiable manifold M"
      ]
     },
     "execution_count": 2,
     "metadata": {},
     "output_type": "execute_result"
    }
   ],
   "source": [
    "M = Manifold(3, 'M'); M"
   ]
  },
  {
   "cell_type": "markdown",
   "id": "f30febf0",
   "metadata": {
    "slideshow": {
     "slide_type": "fragment"
    }
   },
   "source": [
    "Podemos pedirle a Sage que nos muestre los resultados usando \\LaTeX. Sin embargo, a veces el output mostrado en \\LaTeX es demasiado largo para ser mostrado correctamente. Es por eso que para hacer la exposición más amena, alteremos entre el modo \\LaTeX y el modo código para mostrar los resultados."
   ]
  },
  {
   "cell_type": "code",
   "execution_count": 3,
   "id": "8d0b4e6e",
   "metadata": {
    "slideshow": {
     "slide_type": "-"
    }
   },
   "outputs": [
    {
     "data": {
      "text/html": [
       "<html>\\(\\displaystyle M\\)</html>"
      ],
      "text/latex": [
       "$\\displaystyle M$"
      ],
      "text/plain": [
       "3-dimensional differentiable manifold M"
      ]
     },
     "execution_count": 3,
     "metadata": {},
     "output_type": "execute_result"
    }
   ],
   "source": [
    "%display latex\n",
    "M"
   ]
  },
  {
   "cell_type": "markdown",
   "id": "e52eea08",
   "metadata": {
    "slideshow": {
     "slide_type": "subslide"
    }
   },
   "source": [
    "Investiguemos un poco qué es lo que acabamos de definir."
   ]
  },
  {
   "cell_type": "code",
   "execution_count": 4,
   "id": "21ba3823",
   "metadata": {
    "slideshow": {
     "slide_type": "-"
    }
   },
   "outputs": [
    {
     "data": {
      "text/plain": [
       "<class 'sage.manifolds.differentiable.manifold.DifferentiableManifold_with_category'>"
      ]
     },
     "execution_count": 4,
     "metadata": {},
     "output_type": "execute_result"
    }
   ],
   "source": [
    "#Mostramos los resultados en modo código\n",
    "%display plain \n",
    "M.parent()"
   ]
  },
  {
   "cell_type": "markdown",
   "id": "9486fde5",
   "metadata": {},
   "source": [
    "Lo anterior nos dice, rápidamente hablando, que `M` es un objeto de la clase de las variedades diferenciables. No nos preocuparemos muchos por qué es lo que significa un objeto y una clase. Solo diremos que esto viene heredado de Python, que es el software en el que SageMath está escrito. Otra manera, más matemática, de entender qué es `M` para SageMath, es usando el método `.category()`"
   ]
  },
  {
   "cell_type": "code",
   "execution_count": 5,
   "id": "43a895e0",
   "metadata": {
    "slideshow": {
     "slide_type": "-"
    }
   },
   "outputs": [
    {
     "data": {
      "text/html": [
       "<html>\\(\\displaystyle \\newcommand{\\Bold}[1]{\\mathbf{#1}}\\mathbf{Smooth}_{\\Bold{R}}\\)</html>"
      ],
      "text/latex": [
       "$\\displaystyle \\newcommand{\\Bold}[1]{\\mathbf{#1}}\\mathbf{Smooth}_{\\Bold{R}}$"
      ],
      "text/plain": [
       "Category of smooth manifolds over Real Field with 53 bits of precision"
      ]
     },
     "execution_count": 5,
     "metadata": {},
     "output_type": "execute_result"
    }
   ],
   "source": [
    "#Y volvemos a mostrar el output con LaTeX\n",
    "%display latex \n",
    "M.category()"
   ]
  },
  {
   "cell_type": "markdown",
   "id": "914334a4",
   "metadata": {},
   "source": [
    "Un mismo objeto puede estar en varias categorías."
   ]
  },
  {
   "cell_type": "code",
   "execution_count": 6,
   "id": "c3a375b8",
   "metadata": {
    "slideshow": {
     "slide_type": "-"
    }
   },
   "outputs": [
    {
     "data": {
      "text/plain": [
       "[Category of smooth manifolds over Real Field with 53 bits of precision,\n",
       " Category of differentiable manifolds over Real Field with 53 bits of precision,\n",
       " Category of manifolds over Real Field with 53 bits of precision,\n",
       " Category of topological spaces,\n",
       " Category of sets,\n",
       " Category of sets with partial maps,\n",
       " Category of objects]"
      ]
     },
     "execution_count": 6,
     "metadata": {},
     "output_type": "execute_result"
    }
   ],
   "source": [
    "%display plain\n",
    "M.categories()"
   ]
  },
  {
   "cell_type": "markdown",
   "id": "fc5dd154",
   "metadata": {
    "slideshow": {
     "slide_type": "-"
    }
   },
   "source": [
    "Observemos que todavía no tenemos definido ningún sistema de coordenadas en $M$, y por ende la lista"
   ]
  },
  {
   "cell_type": "code",
   "execution_count": 7,
   "id": "640014e5",
   "metadata": {
    "slideshow": {
     "slide_type": "-"
    }
   },
   "outputs": [
    {
     "data": {
      "text/html": [
       "<html>\\(\\displaystyle \\left[\\right]\\)</html>"
      ],
      "text/latex": [
       "$\\displaystyle \\left[\\right]$"
      ],
      "text/plain": [
       "[]"
      ]
     },
     "execution_count": 7,
     "metadata": {},
     "output_type": "execute_result"
    }
   ],
   "source": [
    "%display latex\n",
    "M.atlas() "
   ]
  },
  {
   "cell_type": "markdown",
   "id": "d31300ba",
   "metadata": {},
   "source": [
    "es una lista vacía. Aquí el método `.atlas()` busca los sistemas de coordenadas definidos por el usuiario y no hay que confundirlo con el atlas maximal de una variedad diferenciable. Definamos una carta en $M$."
   ]
  },
  {
   "cell_type": "code",
   "execution_count": 8,
   "id": "b7ee1e15",
   "metadata": {
    "slideshow": {
     "slide_type": "subslide"
    }
   },
   "outputs": [],
   "source": [
    "x.<x1,x2,x3> = M.chart()"
   ]
  },
  {
   "cell_type": "markdown",
   "id": "38da9b01",
   "metadata": {},
   "source": [
    "Con este comando hemos definido una carta global $x: M \\to \\mathbb R^3$ cuyas funciones coordenadas son $x_1, x_2, x_3$. (Una explicación un poco más técnica es que `.chart()` es un método de la clase `Manifold` que usamos para definir los sistemas de coordenadas.)\n",
    "\n",
    "Ahora vemos que el atlas de $M$ ya no está vacío."
   ]
  },
  {
   "cell_type": "code",
   "execution_count": 9,
   "id": "b03dadeb",
   "metadata": {
    "slideshow": {
     "slide_type": "-"
    }
   },
   "outputs": [
    {
     "data": {
      "text/html": [
       "<html>\\(\\displaystyle \\left[\\left(M,(x_{1}, x_{2}, x_{3})\\right)\\right]\\)</html>"
      ],
      "text/latex": [
       "$\\displaystyle \\left[\\left(M,(x_{1}, x_{2}, x_{3})\\right)\\right]$"
      ],
      "text/plain": [
       "[Chart (M, (x1, x2, x3))]"
      ]
     },
     "execution_count": 9,
     "metadata": {},
     "output_type": "execute_result"
    }
   ],
   "source": [
    "M.atlas()"
   ]
  },
  {
   "cell_type": "markdown",
   "id": "d93c9c9b",
   "metadata": {
    "slideshow": {
     "slide_type": "subslide"
    }
   },
   "source": [
    "Podemos definir un punto $p \\in M$ especificando sus coordenadas en la carta que acabamos de definir y podemos mostrar $p$ de diferentes maneras."
   ]
  },
  {
   "cell_type": "code",
   "execution_count": 10,
   "id": "1d625492",
   "metadata": {
    "slideshow": {
     "slide_type": "-"
    }
   },
   "outputs": [
    {
     "name": "stdout",
     "output_type": "stream",
     "text": [
      "Point p on the 3-dimensional differentiable manifold M\n"
     ]
    },
    {
     "data": {
      "text/html": [
       "<html>\\(\\displaystyle p\\)</html>"
      ],
      "text/latex": [
       "$\\displaystyle p$"
      ],
      "text/plain": [
       "Point p on the 3-dimensional differentiable manifold M"
      ]
     },
     "metadata": {},
     "output_type": "display_data"
    },
    {
     "data": {
      "text/html": [
       "<html>\\(\\displaystyle \\mathrm{True}\\)</html>"
      ],
      "text/latex": [
       "$\\displaystyle \\mathrm{True}$"
      ],
      "text/plain": [
       "True"
      ]
     },
     "metadata": {},
     "output_type": "display_data"
    },
    {
     "data": {
      "text/html": [
       "<html>\\(\\displaystyle \\left(1, -7, 12\\right)\\)</html>"
      ],
      "text/latex": [
       "$\\displaystyle \\left(1, -7, 12\\right)$"
      ],
      "text/plain": [
       "(1, -7, 12)"
      ]
     },
     "execution_count": 10,
     "metadata": {},
     "output_type": "execute_result"
    }
   ],
   "source": [
    "p = M.point((1,-7,12), name='p')\n",
    "print(p)\n",
    "display(p)\n",
    "display(p in M)\n",
    "p.coord()"
   ]
  },
  {
   "cell_type": "markdown",
   "id": "5853360a",
   "metadata": {
    "slideshow": {
     "slide_type": "fragment"
    }
   },
   "source": [
    "La variedad que acabamos de definir no es otra cosa que $\\mathbb R^3$ ya que las coordenadas se mueven entre $-\\infty$ y $\\infty$. "
   ]
  },
  {
   "cell_type": "code",
   "execution_count": 11,
   "id": "f1e75c76",
   "metadata": {
    "slideshow": {
     "slide_type": "-"
    }
   },
   "outputs": [
    {
     "data": {
      "text/html": [
       "<html>\\(\\displaystyle x_{1} :\\ \\left( -\\infty, +\\infty \\right) ;\\quad x_{2} :\\ \\left( -\\infty, +\\infty \\right) ;\\quad x_{3} :\\ \\left( -\\infty, +\\infty \\right)\\)</html>"
      ],
      "text/latex": [
       "$\\displaystyle x_{1} :\\ \\left( -\\infty, +\\infty \\right) ;\\quad x_{2} :\\ \\left( -\\infty, +\\infty \\right) ;\\quad x_{3} :\\ \\left( -\\infty, +\\infty \\right)$"
      ],
      "text/plain": [
       "x1: (-oo, +oo); x2: (-oo, +oo); x3: (-oo, +oo)"
      ]
     },
     "execution_count": 11,
     "metadata": {},
     "output_type": "execute_result"
    }
   ],
   "source": [
    "x.coord_range()"
   ]
  },
  {
   "cell_type": "markdown",
   "id": "1a4e6bfa",
   "metadata": {
    "slideshow": {
     "slide_type": "subslide"
    }
   },
   "source": [
    "En realidad, SageManifolds viene con un comando `EuclideanSpace()` que nos permite definir las variedades $\\mathbb R^n$ de manera más sencilla."
   ]
  },
  {
   "cell_type": "code",
   "execution_count": 12,
   "id": "29bb0e82",
   "metadata": {},
   "outputs": [
    {
     "data": {
      "text/html": [
       "<html>\\(\\displaystyle \\mathbb{E}^{3}\\)</html>"
      ],
      "text/latex": [
       "$\\displaystyle \\mathbb{E}^{3}$"
      ],
      "text/plain": [
       "Euclidean space E^3"
      ]
     },
     "metadata": {},
     "output_type": "display_data"
    },
    {
     "data": {
      "text/html": [
       "<html>\\(\\displaystyle \\left[\\left(\\mathbb{E}^{3},(x, y, z)\\right)\\right]\\)</html>"
      ],
      "text/latex": [
       "$\\displaystyle \\left[\\left(\\mathbb{E}^{3},(x, y, z)\\right)\\right]$"
      ],
      "text/plain": [
       "[Chart (E^3, (x, y, z))]"
      ]
     },
     "execution_count": 12,
     "metadata": {},
     "output_type": "execute_result"
    }
   ],
   "source": [
    "E3 = EuclideanSpace(3)\n",
    "display(E3)\n",
    "E3.atlas()"
   ]
  },
  {
   "cell_type": "markdown",
   "id": "2585a1bc",
   "metadata": {
    "slideshow": {
     "slide_type": "fragment"
    }
   },
   "source": [
    "Notar, sin embargo, que para Sage, `M` y `E3` son dos variedades distintas."
   ]
  },
  {
   "cell_type": "code",
   "execution_count": 13,
   "id": "da92f915",
   "metadata": {},
   "outputs": [
    {
     "data": {
      "text/html": [
       "<html>\\(\\displaystyle \\mathrm{False}\\)</html>"
      ],
      "text/latex": [
       "$\\displaystyle \\mathrm{False}$"
      ],
      "text/plain": [
       "False"
      ]
     },
     "execution_count": 13,
     "metadata": {},
     "output_type": "execute_result"
    }
   ],
   "source": [
    "M == E3"
   ]
  },
  {
   "cell_type": "markdown",
   "id": "0b22358a",
   "metadata": {
    "slideshow": {
     "slide_type": "subslide"
    }
   },
   "source": [
    "De hecho, los espacios euclídeos vienen con estructras adicionales, como por ejemplo la métrica riemannina usual (inducida por el producto escalar).\n",
    "\n",
    "Observemos que el plano $\\mathbb E^2$ viene también con coordenadas polares"
   ]
  },
  {
   "cell_type": "code",
   "execution_count": 14,
   "id": "cede4c1f-f691-47a1-9a46-ed60f52f10e3",
   "metadata": {
    "slideshow": {
     "slide_type": "-"
    },
    "tags": []
   },
   "outputs": [
    {
     "data": {
      "text/html": [
       "<html>\\(\\displaystyle \\left[\\left(\\mathbb{E}^{2},(x, y)\\right)\\right]\\)</html>"
      ],
      "text/latex": [
       "$\\displaystyle \\left[\\left(\\mathbb{E}^{2},(x, y)\\right)\\right]$"
      ],
      "text/plain": [
       "[Chart (E^2, (x, y))]"
      ]
     },
     "execution_count": 14,
     "metadata": {},
     "output_type": "execute_result"
    }
   ],
   "source": [
    "E2 = EuclideanSpace(2)\n",
    "E2.atlas()"
   ]
  },
  {
   "cell_type": "markdown",
   "id": "e7816eaf",
   "metadata": {},
   "source": [
    "Pero no vienen cargadas por defecto, tenemos que hacerlo manualmente."
   ]
  },
  {
   "cell_type": "code",
   "execution_count": 15,
   "id": "2cf0019a",
   "metadata": {},
   "outputs": [
    {
     "data": {
      "text/html": [
       "<html>\\(\\displaystyle \\left[\\left(\\mathbb{E}^{2},(x, y)\\right), \\left(\\mathbb{E}^{2},(r, {\\phi})\\right)\\right]\\)</html>"
      ],
      "text/latex": [
       "$\\displaystyle \\left[\\left(\\mathbb{E}^{2},(x, y)\\right), \\left(\\mathbb{E}^{2},(r, {\\phi})\\right)\\right]$"
      ],
      "text/plain": [
       "[Chart (E^2, (x, y)), Chart (E^2, (r, ph))]"
      ]
     },
     "execution_count": 15,
     "metadata": {},
     "output_type": "execute_result"
    }
   ],
   "source": [
    "coord_cart = E2.cartesian_coordinates()\n",
    "coord_polar = E2.polar_coordinates()\n",
    "E2.atlas()"
   ]
  },
  {
   "cell_type": "markdown",
   "id": "e349b222",
   "metadata": {},
   "source": [
    "Naturalmente $(r, \\phi) \\in \\mathbb R^+ \\times [0, 2\\pi)$."
   ]
  },
  {
   "cell_type": "code",
   "execution_count": 16,
   "id": "bad6556d",
   "metadata": {},
   "outputs": [
    {
     "data": {
      "text/html": [
       "<html>\\(\\displaystyle r :\\ \\left( 0 , +\\infty \\right) ;\\quad {\\phi} :\\ \\left[ 0 , 2 \\, \\pi \\right] \\text{(periodic)}\\)</html>"
      ],
      "text/latex": [
       "$\\displaystyle r :\\ \\left( 0 , +\\infty \\right) ;\\quad {\\phi} :\\ \\left[ 0 , 2 \\, \\pi \\right] \\text{(periodic)}$"
      ],
      "text/plain": [
       "r: (0, +oo); ph: [0, 2*pi] (periodic)"
      ]
     },
     "execution_count": 16,
     "metadata": {},
     "output_type": "execute_result"
    }
   ],
   "source": [
    "coord_polar.coord_range()"
   ]
  },
  {
   "cell_type": "markdown",
   "id": "d24e4179",
   "metadata": {},
   "source": [
    "Definamos un punto génerico en el plano y veamos el cambio de coordenadas."
   ]
  },
  {
   "cell_type": "code",
   "execution_count": 17,
   "id": "70d8bd59",
   "metadata": {
    "slideshow": {
     "slide_type": "subslide"
    }
   },
   "outputs": [
    {
     "data": {
      "text/html": [
       "<html>\\(\\displaystyle \\left(x, y\\right)\\)</html>"
      ],
      "text/latex": [
       "$\\displaystyle \\left(x, y\\right)$"
      ],
      "text/plain": [
       "(x, y)"
      ]
     },
     "metadata": {},
     "output_type": "display_data"
    },
    {
     "data": {
      "text/html": [
       "<html>\\(\\displaystyle \\left(\\sqrt{x^{2} + y^{2}}, \\arctan\\left(y, x\\right)\\right)\\)</html>"
      ],
      "text/latex": [
       "$\\displaystyle \\left(\\sqrt{x^{2} + y^{2}}, \\arctan\\left(y, x\\right)\\right)$"
      ],
      "text/plain": [
       "(sqrt(x^2 + y^2), arctan2(y, x))"
      ]
     },
     "execution_count": 17,
     "metadata": {},
     "output_type": "execute_result"
    }
   ],
   "source": [
    "p = E2.point(coord_cart[:])\n",
    "display(p.coord())\n",
    "p.coord(coord_polar)"
   ]
  },
  {
   "cell_type": "markdown",
   "id": "befdb24c",
   "metadata": {},
   "source": [
    "Observar que el método `.point()` usa la carta por defecto, que en nuestro caso son las coordenadas cartesianas. "
   ]
  },
  {
   "cell_type": "code",
   "execution_count": 18,
   "id": "07c50b00",
   "metadata": {},
   "outputs": [
    {
     "data": {
      "text/html": [
       "<html>\\(\\displaystyle \\left(\\mathbb{E}^{2},(x, y)\\right)\\)</html>"
      ],
      "text/latex": [
       "$\\displaystyle \\left(\\mathbb{E}^{2},(x, y)\\right)$"
      ],
      "text/plain": [
       "Chart (E^2, (x, y))"
      ]
     },
     "execution_count": 18,
     "metadata": {},
     "output_type": "execute_result"
    }
   ],
   "source": [
    "E2.default_chart()"
   ]
  },
  {
   "cell_type": "markdown",
   "id": "e32c69ba",
   "metadata": {},
   "source": [
    "Pero también podríamos definir un punto genéroco en coordenadas polares. Como ya vimos antes el método `.coord()` también usa la carta por defecto, pero podemos pedirle que nos muestre las coordenadas con respecto a cualquier carta."
   ]
  },
  {
   "cell_type": "code",
   "execution_count": 19,
   "id": "0c3ed1d2",
   "metadata": {},
   "outputs": [
    {
     "data": {
      "text/html": [
       "<html>\\(\\displaystyle \\left(r \\cos\\left({\\phi}\\right), r \\sin\\left({\\phi}\\right)\\right)\\)</html>"
      ],
      "text/latex": [
       "$\\displaystyle \\left(r \\cos\\left({\\phi}\\right), r \\sin\\left({\\phi}\\right)\\right)$"
      ],
      "text/plain": [
       "(r*cos(ph), r*sin(ph))"
      ]
     },
     "metadata": {},
     "output_type": "display_data"
    },
    {
     "data": {
      "text/html": [
       "<html>\\(\\displaystyle \\left(r, {\\phi}\\right)\\)</html>"
      ],
      "text/latex": [
       "$\\displaystyle \\left(r, {\\phi}\\right)$"
      ],
      "text/plain": [
       "(r, ph)"
      ]
     },
     "execution_count": 19,
     "metadata": {},
     "output_type": "execute_result"
    }
   ],
   "source": [
    "q = E2.point(coord_polar[:],chart=coord_polar)\n",
    "display(q.coord())\n",
    "q.coord(coord_polar)"
   ]
  },
  {
   "cell_type": "markdown",
   "id": "916c84a0",
   "metadata": {
    "slideshow": {
     "slide_type": "subslide"
    }
   },
   "source": [
    "Es posible graficar como se ve una carta coordenada con respecto a la otra."
   ]
  },
  {
   "cell_type": "code",
   "execution_count": 20,
   "id": "5e3b4f2b",
   "metadata": {},
   "outputs": [
    {
     "data": {
      "image/png": "[encoded data removed]",
      "text/plain": [
       "Graphics object consisting of 18 graphics primitives"
      ]
     },
     "execution_count": 20,
     "metadata": {},
     "output_type": "execute_result"
    }
   ],
   "source": [
    "coord_polar.plot(coord_cart,color={coord_polar[0]:'blue', \n",
    "                                   coord_polar[1]:'red'}\n",
    "                )"
   ]
  },
  {
   "cell_type": "code",
   "execution_count": 21,
   "id": "812a2908",
   "metadata": {
    "slideshow": {
     "slide_type": "subslide"
    }
   },
   "outputs": [
    {
     "data": {
      "image/png": "[encoded data removed]",
      "text/plain": [
       "Graphics object consisting of 18 graphics primitives"
      ]
     },
     "execution_count": 21,
     "metadata": {},
     "output_type": "execute_result"
    }
   ],
   "source": [
    "coord_cart.plot(coord_polar,color={coord_cart[0]:'blue',\n",
    "                                   coord_cart[1]:'red'}\n",
    "               )"
   ]
  },
  {
   "cell_type": "markdown",
   "id": "96507427",
   "metadata": {
    "slideshow": {
     "slide_type": "fragment"
    }
   },
   "source": [
    "Es interesante que el método `chart1.plot(chart2)` funciona en variedades de cualquier dimensión (obviamente, eligiendo secciones de dimensión 2 o 3 para mostrar los gráficos)."
   ]
  },
  {
   "cell_type": "markdown",
   "id": "15a089f5-f63e-4106-897c-1c11a58ce219",
   "metadata": {
    "slideshow": {
     "slide_type": "slide"
    },
    "tags": []
   },
   "source": [
    "## Funciones diferenciables\n",
    "\n",
    "Si $N$ y $M$ son dos variedades diferencibles, una función $f: N \\to M$ se dice *diferenciable* si lo es cuando la escribimos en coordenadas locales. Es decir, si $x_1, \\ldots, x_n$ son coordenadas locales alrededor de $p \\in N$ e $y_1, \\ldots, y_m$ son coordenadas locales alrededor de $f(p) \\in M$, podemos pensar localmente a $f$ como una función $\\mathbb R^n \\to \\mathbb R^m$ (y esta función es la que debe ser diferenciable).\n",
    "\n",
    "Definamos una función $d: \\mathbb R^2 \\to \\mathbb R$ que calcula el cuadrado de la distancia al origen. De paso, mostramos una forma distinta de definir la variedad diferenciable $\\mathbb R$."
   ]
  },
  {
   "cell_type": "code",
   "execution_count": 22,
   "id": "631e24f2",
   "metadata": {},
   "outputs": [
    {
     "name": "stdout",
     "output_type": "stream",
     "text": [
      "Real number line ℝ\n"
     ]
    }
   ],
   "source": [
    "R.<t> = manifolds.RealLine(); \n",
    "%display latex\n",
    "print(R)"
   ]
  },
  {
   "cell_type": "markdown",
   "id": "5adab8d3",
   "metadata": {},
   "source": [
    "En la versión orignal de las notebooks usabamos directamente el comando `RealLine()`. En la nueva versión esto ya es obsoleto por lo que primero tenemos que cargar la recta real con `.manifolds.RealLine()`."
   ]
  },
  {
   "cell_type": "code",
   "execution_count": 23,
   "id": "ee400b4b",
   "metadata": {},
   "outputs": [
    {
     "data": {
      "text/html": [
       "<html>\\(\\displaystyle \\mathbb{E}^{2}\\)</html>"
      ],
      "text/latex": [
       "$\\displaystyle \\mathbb{E}^{2}$"
      ],
      "text/plain": [
       "Euclidean plane E^2"
      ]
     },
     "execution_count": 23,
     "metadata": {},
     "output_type": "execute_result"
    }
   ],
   "source": [
    "E2.<x,y> = EuclideanSpace(2); E2"
   ]
  },
  {
   "cell_type": "markdown",
   "id": "1e3ab512",
   "metadata": {
    "slideshow": {
     "slide_type": "subslide"
    }
   },
   "source": [
    "Hemos vuelto a definir el plano, esta vez indicando el nombre de las coordenadas, lo cual nos resulta más cómodo para definir la función $d$. Para definir una función diferenciable de `M` en `N` podemos usar `M.diff_map(N, ...)`"
   ]
  },
  {
   "cell_type": "code",
   "execution_count": 24,
   "id": "c8ca5e99",
   "metadata": {
    "slideshow": {
     "slide_type": "-"
    }
   },
   "outputs": [
    {
     "data": {
      "text/html": [
       "<html>\\(\\displaystyle \\newcommand{\\Bold}[1]{\\mathbf{#1}}\\begin{array}{llcl} & \\mathbb{E}^{2} & \\longrightarrow & \\Bold{R} \\\\ & \\left(x, y\\right) & \\longmapsto & t = x^{2} + y^{2} \\end{array}\\)</html>"
      ],
      "text/latex": [
       "$\\displaystyle \\newcommand{\\Bold}[1]{\\mathbf{#1}}\\begin{array}{llcl} & \\mathbb{E}^{2} & \\longrightarrow & \\Bold{R} \\\\ & \\left(x, y\\right) & \\longmapsto & t = x^{2} + y^{2} \\end{array}$"
      ],
      "text/plain": [
       "E^2 → ℝ\n",
       "   (x, y) ↦ t = x^2 + y^2"
      ]
     },
     "execution_count": 24,
     "metadata": {},
     "output_type": "execute_result"
    }
   ],
   "source": [
    "d = E2.diff_map(R, x^2+y^2)\n",
    "d.display()"
   ]
  },
  {
   "cell_type": "markdown",
   "id": "6d55e44d",
   "metadata": {},
   "source": [
    "Luego $d$ es un elemento de lo que usualmente se denota por $C^\\infty(\\mathbb R^2, \\mathbb R)$. En el lenguaje de categorías SageMath presenta esto de la siguiente forma"
   ]
  },
  {
   "cell_type": "code",
   "execution_count": 25,
   "id": "86f8d299",
   "metadata": {},
   "outputs": [
    {
     "data": {
      "text/html": [
       "<html>\\(\\displaystyle \\newcommand{\\Bold}[1]{\\mathbf{#1}}\\mathrm{Hom}\\left(\\mathbb{E}^{2},\\Bold{R}\\right)\\)</html>"
      ],
      "text/latex": [
       "$\\displaystyle \\newcommand{\\Bold}[1]{\\mathbf{#1}}\\mathrm{Hom}\\left(\\mathbb{E}^{2},\\Bold{R}\\right)$"
      ],
      "text/plain": [
       "Set of Morphisms from Euclidean plane E^2 to Real number line ℝ in Category of smooth connected manifolds over Real Field with 53 bits of precision"
      ]
     },
     "metadata": {},
     "output_type": "display_data"
    },
    {
     "name": "stdout",
     "output_type": "stream",
     "text": [
      "Set of Morphisms from Euclidean plane E^2 to Real number line ℝ in Category of smooth connected manifolds over Real Field with 53 bits of precision\n"
     ]
    }
   ],
   "source": [
    "display(d.parent())\n",
    "print(d.parent()) #verbose"
   ]
  },
  {
   "cell_type": "markdown",
   "id": "bdf60fd4",
   "metadata": {},
   "source": [
    "Las funciones las podemos evaluar en puntos como lo haríamos normalmente."
   ]
  },
  {
   "cell_type": "code",
   "execution_count": 26,
   "id": "a7f57b4e",
   "metadata": {
    "slideshow": {
     "slide_type": "-"
    }
   },
   "outputs": [
    {
     "data": {
      "text/html": [
       "<html>\\(\\displaystyle \\left(5\\right)\\)</html>"
      ],
      "text/latex": [
       "$\\displaystyle \\left(5\\right)$"
      ],
      "text/plain": [
       "(5,)"
      ]
     },
     "execution_count": 26,
     "metadata": {},
     "output_type": "execute_result"
    }
   ],
   "source": [
    "p = E2.point((-1,2))\n",
    "d(p).coord()"
   ]
  },
  {
   "cell_type": "markdown",
   "id": "15f1f2e6",
   "metadata": {
    "slideshow": {
     "slide_type": "subslide"
    },
    "tags": []
   },
   "source": [
    "Los ejemplos hasta ahora son bastante simples porque las variedades que definimos son también sencillas. \n",
    "En general, para cubrir todos los puntos de una variedad diferenciable $M$ hace falta más de una carta. En estos casos, para definir una función diferenciable $f$ usando `diff_map()`, tendremos que pasar como argumentos las expresiones en coordenadas de $f$ con respecto a un subconjunto de cartas que cubra toda $M$.\n",
    "\n",
    "En un rato veremos ejemplos de esto también."
   ]
  },
  {
   "cell_type": "markdown",
   "id": "18354eb2-cd32-4e78-8489-07c704050f1c",
   "metadata": {
    "slideshow": {
     "slide_type": "slide"
    },
    "tags": []
   },
   "source": [
    "## Curvas y vectores tangentes\n",
    "\n",
    "Una *curva* en $M$ es una función diferenciable \n",
    "$$\n",
    "c: I \\to M\n",
    "$$\n",
    "en donde $I$ es un intervalo en $\\mathbb R$. La *velocidad* de una curva, con respecto a una carta $x_1, \\ldots, x_n$ se define como\n",
    "$$c'(t) \\mapsto (c_1'(t), \\ldots, c_n'(t))\n",
    "$$\n",
    "en donde $c_1(t), \\ldots, c_n(t)$ son las coordenadas de $c(t)$ en la carta antes mencionada. \n",
    "\n",
    "Es posible definir la velocidad de una curva independientemente del sistema de coordenadas, considerando la clase de equivalencia de estos vectores en $\\mathbb R^n$ si se puede pasar de uno a otro vía (la matriz jacobiana de) un cambio de coordenadas. Alternativamente, esto se puede hacer considerando a los vectores tangentes como derivaciones (aplicaciones lineales que cumplen la regla de Leibniz) del álgebra de funciones diferenciables de $M$."
   ]
  },
  {
   "cell_type": "markdown",
   "id": "c158439e",
   "metadata": {
    "slideshow": {
     "slide_type": "subslide"
    }
   },
   "source": [
    "A modo de ejemplo una espiral de Fermat en el plano. Recordemos que en coordenadas polares una espiral de Fermat, que empieza en el orgigen, tiene la forma\n",
    "$$\n",
    "r = \\pm a \\sqrt \\phi, \\qquad \\phi \\ge 0\n",
    "$$"
   ]
  },
  {
   "cell_type": "code",
   "execution_count": 27,
   "id": "ea9ad5b0",
   "metadata": {
    "slideshow": {
     "slide_type": "-"
    }
   },
   "outputs": [],
   "source": [
    "R.<t> = manifolds.RealLine()\n",
    "E2 = EuclideanSpace(2)\n",
    "coord_cart.<x,y> = E2.cartesian_coordinates()\n",
    "coord_polar.<r,ph> = E2.polar_coordinates()"
   ]
  },
  {
   "cell_type": "markdown",
   "id": "7de05408",
   "metadata": {
    "slideshow": {
     "slide_type": "-"
    }
   },
   "source": [
    "Algunas aclaraciones:\n",
    "\n",
    "* En lugar de definir la curva usando `R.diff_map(E2, ...)` es preferible hacerlo con el método `E2.curve(...)`\n",
    "\n",
    "* Igualmente definimos la recta `R.<t> = RealLine` para que Sage cree la variable simbólica `t`\n",
    "\n",
    "* Otra forma de hacer esto sería con `t = var('t')`\n",
    "\n",
    "Ahora sí podemos definir nuestra curva."
   ]
  },
  {
   "cell_type": "code",
   "execution_count": 28,
   "id": "e276e06c",
   "metadata": {
    "slideshow": {
     "slide_type": "subslide"
    }
   },
   "outputs": [
    {
     "name": "stdout",
     "output_type": "stream",
     "text": [
      "Curve in the Euclidean plane E^2\n"
     ]
    },
    {
     "data": {
      "text/html": [
       "<html>\\(\\displaystyle \\begin{array}{llcl} & \\left(0, 3\\right) & \\longrightarrow & \\mathbb{E}^{2} \\\\ & t & \\longmapsto & \\left(x, y\\right) = \\left(t \\cos\\left(t^{2}\\right), t \\sin\\left(t^{2}\\right)\\right) \\\\ & t & \\longmapsto & \\left(r, {\\phi}\\right) = \\left(t, t^{2}\\right) \\end{array}\\)</html>"
      ],
      "text/latex": [
       "$\\displaystyle \\begin{array}{llcl} & \\left(0, 3\\right) & \\longrightarrow & \\mathbb{E}^{2} \\\\ & t & \\longmapsto & \\left(x, y\\right) = \\left(t \\cos\\left(t^{2}\\right), t \\sin\\left(t^{2}\\right)\\right) \\\\ & t & \\longmapsto & \\left(r, {\\phi}\\right) = \\left(t, t^{2}\\right) \\end{array}$"
      ],
      "text/plain": [
       "(0, 3) → E^2\n",
       "   t ↦ (x, y) = (t*cos(t^2), t*sin(t^2))\n",
       "   t ↦ (r, ph) = (t, t^2)"
      ]
     },
     "execution_count": 28,
     "metadata": {},
     "output_type": "execute_result"
    }
   ],
   "source": [
    "c = E2.curve((t,t^2), (t,0,3),chart=coord_polar)\n",
    "print(c)\n",
    "c.display()"
   ]
  },
  {
   "cell_type": "markdown",
   "id": "82529ad5",
   "metadata": {},
   "source": [
    "Observemos que SageMath nos muestra la expresión de $c$ en los dos sistemas de coordenadas disponibles. Grafiquemos la espiral de Fermat, primero en coordenadas polares"
   ]
  },
  {
   "cell_type": "code",
   "execution_count": 29,
   "id": "8d64bb14",
   "metadata": {
    "slideshow": {
     "slide_type": "-"
    }
   },
   "outputs": [
    {
     "data": {
      "image/png": "[encoded data removed]",
      "text/plain": [
       "Graphics object consisting of 1 graphics primitive"
      ]
     },
     "execution_count": 29,
     "metadata": {},
     "output_type": "execute_result"
    }
   ],
   "source": [
    "c.plot(coord_polar) "
   ]
  },
  {
   "cell_type": "markdown",
   "id": "e38caa03",
   "metadata": {},
   "source": [
    "y luego en coordenadas cartesianas"
   ]
  },
  {
   "cell_type": "code",
   "execution_count": 30,
   "id": "4b2a449d",
   "metadata": {
    "slideshow": {
     "slide_type": "subslide"
    }
   },
   "outputs": [
    {
     "data": {
      "image/png": "[encoded data removed]",
      "text/plain": [
       "Graphics object consisting of 1 graphics primitive"
      ]
     },
     "metadata": {},
     "output_type": "display_data"
    }
   ],
   "source": [
    "c1 = E2.curve(c.coord_expr(coord_cart), (t,0,3))\n",
    "g1 = c1.plot(thickness=2)\n",
    "show(g1)"
   ]
  },
  {
   "cell_type": "markdown",
   "id": "96044142",
   "metadata": {},
   "source": [
    "Finalmente definamos y grafiquemos la velocidad de esta curva."
   ]
  },
  {
   "cell_type": "code",
   "execution_count": 31,
   "id": "36be8c11",
   "metadata": {
    "slideshow": {
     "slide_type": "subslide"
    }
   },
   "outputs": [
    {
     "name": "stdout",
     "output_type": "stream",
     "text": [
      "Vector field along the Real interval (0, 3) with values on the Euclidean plane E^2\n"
     ]
    },
    {
     "data": {
      "text/html": [
       "<html>\\(\\displaystyle \\left( -2 \\, t^{2} \\sin\\left(t^{2}\\right) + \\cos\\left(t^{2}\\right) \\right) e_{ x } + \\left( 2 \\, t^{2} \\cos\\left(t^{2}\\right) + \\sin\\left(t^{2}\\right) \\right) e_{ y }\\)</html>"
      ],
      "text/latex": [
       "$\\displaystyle \\left( -2 \\, t^{2} \\sin\\left(t^{2}\\right) + \\cos\\left(t^{2}\\right) \\right) e_{ x } + \\left( 2 \\, t^{2} \\cos\\left(t^{2}\\right) + \\sin\\left(t^{2}\\right) \\right) e_{ y }$"
      ],
      "text/plain": [
       "(-2*t^2*sin(t^2) + cos(t^2)) e_x + (2*t^2*cos(t^2) + sin(t^2)) e_y"
      ]
     },
     "metadata": {},
     "output_type": "display_data"
    },
    {
     "data": {
      "image/png": "[encoded data removed]",
      "text/plain": [
       "Graphics object consisting of 11 graphics primitives"
      ]
     },
     "metadata": {},
     "output_type": "display_data"
    }
   ],
   "source": [
    "v = c1.tangent_vector_field()\n",
    "print(v)\n",
    "display(v.display())\n",
    "g2 = v.plot(chart=coord_cart, number_values=10,scale=0.1)\n",
    "show(g1+g2)"
   ]
  },
  {
   "cell_type": "markdown",
   "id": "336e1c3c-a7a0-450c-8097-e20c8b0ab9a9",
   "metadata": {
    "slideshow": {
     "slide_type": "slide"
    },
    "tags": []
   },
   "source": [
    "## Espacio tangente\n",
    "\n",
    "Si $p \\in M$, el *espacio tangente* a $M$ en $p$ se define por\n",
    "\\begin{equation*}\n",
    "\\hspace{3pc}T_pM = \\{v = c'(0): c \\text{ curva en } M \\text{ tal que } c(0) = p\\}\n",
    "\\end{equation*}\n",
    "\n",
    "Dado $v \\in T_pM$, podemos calcular la *derivada direccional* de una función $f: M \\to \\mathbb R$ en la dirección de $v$ por:\n",
    "$$\n",
    "v(f) = \\frac{d}{dt}\\bigg|_0 f(c(t))\n",
    "$$\n",
    "en donde $c(t)$ es una curva en $M$ tal que $c(0) = p$ y $c'(0) = v$. Esta definición no depende de la curva elegida (siempre que tenga velocidad $v$). Más aún las derivadas direccionales son independientes de las coordenadas locales. Esto último es muy importante, porque nos dice que el espacio vectorial $T_pM$ existe en cada punto y se puede \"construir\" independientemente de las coordenadas locales.\n",
    "\n",
    "Veamos cómo se trabaja con los espacios tangentes en Sage. Primero definimos un punto en una variedad de dimensión $4$"
   ]
  },
  {
   "cell_type": "code",
   "execution_count": 32,
   "id": "0bb70148-d785-45e7-8350-74da4f567244",
   "metadata": {
    "slideshow": {
     "slide_type": "subslide"
    }
   },
   "outputs": [],
   "source": [
    "M = Manifold(4, 'M')\n",
    "M_chart.<x,y,z,w> = M.chart()\n",
    "p = M.point((1,0,-5,1), name='p')"
   ]
  },
  {
   "cell_type": "markdown",
   "id": "c1242783",
   "metadata": {},
   "source": [
    "Y usamos el método `.tangent_space(p)` para acceder a $T_pM$."
   ]
  },
  {
   "cell_type": "code",
   "execution_count": 33,
   "id": "ad7a65a4-f3e7-41da-9713-a5037e982a6f",
   "metadata": {
    "slideshow": {
     "slide_type": "-"
    }
   },
   "outputs": [
    {
     "name": "stdout",
     "output_type": "stream",
     "text": [
      "Tangent space at Point p on the 4-dimensional differentiable manifold M\n"
     ]
    },
    {
     "data": {
      "text/html": [
       "<html>\\(\\displaystyle T_{p}\\,M\\)</html>"
      ],
      "text/latex": [
       "$\\displaystyle T_{p}\\,M$"
      ],
      "text/plain": [
       "Tangent space at Point p on the 4-dimensional differentiable manifold M"
      ]
     },
     "execution_count": 33,
     "metadata": {},
     "output_type": "execute_result"
    }
   ],
   "source": [
    "TpM = M.tangent_space(p)\n",
    "print(TpM)\n",
    "TpM"
   ]
  },
  {
   "cell_type": "markdown",
   "id": "bb11e809",
   "metadata": {},
   "source": [
    "Como $T_pM$ es un espacio vectorial, está en muchas categorías "
   ]
  },
  {
   "cell_type": "code",
   "execution_count": 34,
   "id": "13311c3b",
   "metadata": {
    "slideshow": {
     "slide_type": "-"
    }
   },
   "outputs": [
    {
     "data": {
      "text/plain": [
       "[Category of finite dimensional vector spaces over Symbolic Ring,\n",
       " Category of finite dimensional modules over Symbolic Ring,\n",
       " Category of vector spaces over Symbolic Ring,\n",
       " Category of modules over Symbolic Ring,\n",
       " Category of bimodules over Symbolic Ring on the left and Symbolic Ring on the right,\n",
       " Category of right modules over Symbolic Ring,\n",
       " Category of left modules over Symbolic Ring,\n",
       " Category of commutative additive groups,\n",
       " Category of additive groups,\n",
       " Category of additive inverse additive unital additive magmas,\n",
       " Category of commutative additive monoids,\n",
       " Category of additive monoids,\n",
       " Category of additive unital additive magmas,\n",
       " Category of commutative additive semigroups,\n",
       " Category of additive commutative additive magmas,\n",
       " Category of additive semigroups,\n",
       " Category of additive magmas,\n",
       " Category of sets,\n",
       " Category of sets with partial maps,\n",
       " Category of objects]"
      ]
     },
     "execution_count": 34,
     "metadata": {},
     "output_type": "execute_result"
    }
   ],
   "source": [
    "%display plain\n",
    "TpM.categories()"
   ]
  },
  {
   "cell_type": "markdown",
   "id": "9116acca",
   "metadata": {},
   "source": [
    "Hay varios métodos interestantes para un espacio vectorial en Sage. Por ejemplo,"
   ]
  },
  {
   "cell_type": "code",
   "execution_count": 35,
   "id": "752462dc",
   "metadata": {
    "slideshow": {
     "slide_type": "-"
    }
   },
   "outputs": [
    {
     "data": {
      "text/html": [
       "<html>\\(\\displaystyle 4\\)</html>"
      ],
      "text/latex": [
       "$\\displaystyle 4$"
      ],
      "text/plain": [
       "4"
      ]
     },
     "metadata": {},
     "output_type": "display_data"
    },
    {
     "data": {
      "text/html": [
       "<html>\\(\\displaystyle \\left(\\frac{\\partial}{\\partial x },\\frac{\\partial}{\\partial y },\\frac{\\partial}{\\partial z },\\frac{\\partial}{\\partial w }\\right)\\)</html>"
      ],
      "text/latex": [
       "$\\displaystyle \\left(\\frac{\\partial}{\\partial x },\\frac{\\partial}{\\partial y },\\frac{\\partial}{\\partial z },\\frac{\\partial}{\\partial w }\\right)$"
      ],
      "text/plain": [
       "Basis (∂/∂x,∂/∂y,∂/∂z,∂/∂w) on the Tangent space at Point p on the 4-dimensional differentiable manifold M"
      ]
     },
     "metadata": {},
     "output_type": "display_data"
    },
    {
     "data": {
      "text/html": [
       "<html>\\(\\displaystyle \\frac{\\partial}{\\partial x } + 2 \\frac{\\partial}{\\partial y } + 3 \\frac{\\partial}{\\partial z } + 4 \\frac{\\partial}{\\partial w }\\)</html>"
      ],
      "text/latex": [
       "$\\displaystyle \\frac{\\partial}{\\partial x } + 2 \\frac{\\partial}{\\partial y } + 3 \\frac{\\partial}{\\partial z } + 4 \\frac{\\partial}{\\partial w }$"
      ],
      "text/plain": [
       "∂/∂x + 2 ∂/∂y + 3 ∂/∂z + 4 ∂/∂w"
      ]
     },
     "execution_count": 35,
     "metadata": {},
     "output_type": "execute_result"
    }
   ],
   "source": [
    "%display latex\n",
    "display(TpM.dim())\n",
    "display(TpM.default_basis())\n",
    "vp = TpM.an_element(); vp.display()"
   ]
  },
  {
   "cell_type": "markdown",
   "id": "70a8b56b",
   "metadata": {
    "slideshow": {
     "slide_type": "-"
    }
   },
   "source": [
    "En la notación claśica el vector `vp` debería escribirse como\n",
    "$$\n",
    "\\frac{\\partial}{\\partial x }\\bigg|_p + 2 \\frac{\\partial}{\\partial y }\\bigg|_p + 3 \\frac{\\partial}{\\partial z }\\bigg|_p + 4 \\frac{\\partial}{\\partial w }\\bigg|_p,\n",
    "$$\n",
    "aquí esto no es necesario, ya que al ser `vp` un elemento de `TpM`, SageMath puede inferir que `p` es el punto base. Solamente deberemos tener un poco de cuidado de no confundirnos."
   ]
  },
  {
   "cell_type": "markdown",
   "id": "95c8e67b",
   "metadata": {
    "slideshow": {
     "slide_type": "subslide"
    }
   },
   "source": [
    "Definamos otro vector tangente"
   ]
  },
  {
   "cell_type": "code",
   "execution_count": 36,
   "id": "24d685b2",
   "metadata": {
    "slideshow": {
     "slide_type": "-"
    }
   },
   "outputs": [
    {
     "data": {
      "text/html": [
       "<html>\\(\\displaystyle 5 \\frac{\\partial}{\\partial x } -2 \\frac{\\partial}{\\partial y } +\\frac{\\partial}{\\partial z }\\)</html>"
      ],
      "text/latex": [
       "$\\displaystyle 5 \\frac{\\partial}{\\partial x } -2 \\frac{\\partial}{\\partial y } +\\frac{\\partial}{\\partial z }$"
      ],
      "text/plain": [
       "5 ∂/∂x - 2 ∂/∂y + ∂/∂z"
      ]
     },
     "execution_count": 36,
     "metadata": {},
     "output_type": "execute_result"
    }
   ],
   "source": [
    "wp = TpM._element_constructor_([5,-2,1,0])\n",
    "wp.display()"
   ]
  },
  {
   "cell_type": "markdown",
   "id": "85aa2a17",
   "metadata": {},
   "source": [
    "Y veamos que efectivamente los vectores tangentes se pueden sumar."
   ]
  },
  {
   "cell_type": "code",
   "execution_count": 37,
   "id": "0d38b155",
   "metadata": {
    "slideshow": {
     "slide_type": "-"
    }
   },
   "outputs": [
    {
     "data": {
      "text/html": [
       "<html>\\(\\displaystyle \\mbox{Tangent vector at Point p on the 4-dimensional differentiable manifold M}\\)</html>"
      ],
      "text/latex": [
       "$\\displaystyle \\mbox{Tangent vector at Point p on the 4-dimensional differentiable manifold M}$"
      ],
      "text/plain": [
       "Tangent vector at Point p on the 4-dimensional differentiable manifold M"
      ]
     },
     "metadata": {},
     "output_type": "display_data"
    },
    {
     "data": {
      "text/html": [
       "<html>\\(\\displaystyle 6 \\frac{\\partial}{\\partial x } + 4 \\frac{\\partial}{\\partial z } + 4 \\frac{\\partial}{\\partial w }\\)</html>"
      ],
      "text/latex": [
       "$\\displaystyle 6 \\frac{\\partial}{\\partial x } + 4 \\frac{\\partial}{\\partial z } + 4 \\frac{\\partial}{\\partial w }$"
      ],
      "text/plain": [
       "6 ∂/∂x + 4 ∂/∂z + 4 ∂/∂w"
      ]
     },
     "execution_count": 37,
     "metadata": {},
     "output_type": "execute_result"
    }
   ],
   "source": [
    "display(vp + wp)\n",
    "(vp + wp).display()"
   ]
  },
  {
   "cell_type": "markdown",
   "id": "2076e9ed",
   "metadata": {
    "slideshow": {
     "slide_type": "subslide"
    }
   },
   "source": [
    "Ahora veamos cómo calcular las derivadas direccionales. Técnicamente hablando, en Sage podemos derivar *campos escalares* definidos sobre $M$, en lugar de funciones $M \\to \\mathbb R$. Desde el punto de vista matemático, estas dos cosas son lo mismo, pero para Sage `M.diff_map(R,...)` y `M.scalar_field()` son cosas distintas. "
   ]
  },
  {
   "cell_type": "code",
   "execution_count": 38,
   "id": "6b5be0bb",
   "metadata": {
    "slideshow": {
     "slide_type": "-"
    }
   },
   "outputs": [
    {
     "data": {
      "text/html": [
       "<html>\\(\\displaystyle \\begin{array}{llcl} & M & \\longrightarrow & \\mathbb{R} \\\\ & \\left(x, y, z, w\\right) & \\longmapsto & 4 \\, x y + z^{2} - \\cos\\left(w y\\right) \\end{array}\\)</html>"
      ],
      "text/latex": [
       "$\\displaystyle \\begin{array}{llcl} & M & \\longrightarrow & \\mathbb{R} \\\\ & \\left(x, y, z, w\\right) & \\longmapsto & 4 \\, x y + z^{2} - \\cos\\left(w y\\right) \\end{array}$"
      ],
      "text/plain": [
       "M → ℝ\n",
       "(x, y, z, w) ↦ 4*x*y + z^2 - cos(w*y)"
      ]
     },
     "execution_count": 38,
     "metadata": {},
     "output_type": "execute_result"
    }
   ],
   "source": [
    "R.<t> = manifolds.RealLine()\n",
    "f = M.scalar_field(4*x*y + z^2 - cos(w*y))\n",
    "f.display()"
   ]
  },
  {
   "cell_type": "markdown",
   "id": "36e37435",
   "metadata": {},
   "source": [
    "Para calcular la derivada direccional simplemente aplicamos el vector $v$ al campo escalar $f$."
   ]
  },
  {
   "cell_type": "code",
   "execution_count": 39,
   "id": "eb71ff08",
   "metadata": {
    "slideshow": {
     "slide_type": "-"
    }
   },
   "outputs": [
    {
     "data": {
      "text/html": [
       "<html>\\(\\displaystyle -22\\)</html>"
      ],
      "text/latex": [
       "$\\displaystyle -22$"
      ],
      "text/plain": [
       "-22"
      ]
     },
     "execution_count": 39,
     "metadata": {},
     "output_type": "execute_result"
    }
   ],
   "source": [
    "vp(f)"
   ]
  },
  {
   "cell_type": "markdown",
   "id": "f2247816",
   "metadata": {
    "slideshow": {
     "slide_type": "subslide"
    }
   },
   "source": [
    "Ahora veamos que $v(f)$ coincide con $\\frac{d}{dt}\\big|_0 f(c(t))$ para una curva con $c(0) = p$ y $c'(0) = v$. Primero recordemos quiénes eran $p$ y $v$."
   ]
  },
  {
   "cell_type": "code",
   "execution_count": 40,
   "id": "a315362f",
   "metadata": {},
   "outputs": [
    {
     "data": {
      "text/html": [
       "<html>\\(\\displaystyle \\left(1, 0, -5, 1\\right)\\)</html>"
      ],
      "text/latex": [
       "$\\displaystyle \\left(1, 0, -5, 1\\right)$"
      ],
      "text/plain": [
       "(1, 0, -5, 1)"
      ]
     },
     "metadata": {},
     "output_type": "display_data"
    },
    {
     "data": {
      "text/html": [
       "<html>\\(\\displaystyle \\frac{\\partial}{\\partial x } + 2 \\frac{\\partial}{\\partial y } + 3 \\frac{\\partial}{\\partial z } + 4 \\frac{\\partial}{\\partial w }\\)</html>"
      ],
      "text/latex": [
       "$\\displaystyle \\frac{\\partial}{\\partial x } + 2 \\frac{\\partial}{\\partial y } + 3 \\frac{\\partial}{\\partial z } + 4 \\frac{\\partial}{\\partial w }$"
      ],
      "text/plain": [
       "∂/∂x + 2 ∂/∂y + 3 ∂/∂z + 4 ∂/∂w"
      ]
     },
     "execution_count": 40,
     "metadata": {},
     "output_type": "execute_result"
    }
   ],
   "source": [
    "display(p.coord())\n",
    "vp.display()"
   ]
  },
  {
   "cell_type": "markdown",
   "id": "089b79b9",
   "metadata": {},
   "source": [
    "Luego, necesitamos una curva que en el origen pase por $(1, 0, -5, 1)$ con velocidad $(1, 2, 3, 4)$."
   ]
  },
  {
   "cell_type": "code",
   "execution_count": 41,
   "id": "7cb45550",
   "metadata": {},
   "outputs": [
    {
     "name": "stdout",
     "output_type": "stream",
     "text": [
      "Curve in the 4-dimensional differentiable manifold M\n"
     ]
    },
    {
     "data": {
      "text/html": [
       "<html>\\(\\displaystyle \\newcommand{\\Bold}[1]{\\mathbf{#1}}\\begin{array}{llcl} & \\Bold{R} & \\longrightarrow & M \\\\ & t & \\longmapsto & \\left(x, y, z, w\\right) = \\left(t + 1, 2 \\, t, 3 \\, t - 5, 4 \\, t + 1\\right) \\end{array}\\)</html>"
      ],
      "text/latex": [
       "$\\displaystyle \\newcommand{\\Bold}[1]{\\mathbf{#1}}\\begin{array}{llcl} & \\Bold{R} & \\longrightarrow & M \\\\ & t & \\longmapsto & \\left(x, y, z, w\\right) = \\left(t + 1, 2 \\, t, 3 \\, t - 5, 4 \\, t + 1\\right) \\end{array}$"
      ],
      "text/plain": [
       "ℝ → M\n",
       "   t ↦ (x, y, z, w) = (t + 1, 2*t, 3*t - 5, 4*t + 1)"
      ]
     },
     "execution_count": 41,
     "metadata": {},
     "output_type": "execute_result"
    }
   ],
   "source": [
    "c = M.curve((1 + t, 2*t , -5 + 3*t, 1 + 4*t), t)\n",
    "print(c)\n",
    "c.display()"
   ]
  },
  {
   "cell_type": "markdown",
   "id": "86581cc5",
   "metadata": {},
   "source": [
    "Efectivamente"
   ]
  },
  {
   "cell_type": "code",
   "execution_count": 42,
   "id": "85f38f47",
   "metadata": {},
   "outputs": [
    {
     "data": {
      "text/html": [
       "<html>\\(\\displaystyle \\mathrm{True}\\)</html>"
      ],
      "text/latex": [
       "$\\displaystyle \\mathrm{True}$"
      ],
      "text/plain": [
       "True"
      ]
     },
     "execution_count": 42,
     "metadata": {},
     "output_type": "execute_result"
    }
   ],
   "source": [
    "c(0) == p"
   ]
  },
  {
   "cell_type": "markdown",
   "id": "85d8da59",
   "metadata": {
    "slideshow": {
     "slide_type": "subslide"
    }
   },
   "source": [
    "Observemos que para calcular $c'(0)$ tenemos que evaluar `vp` en el punto `R(0)` (no lo evaluamos en $0$)."
   ]
  },
  {
   "cell_type": "code",
   "execution_count": 43,
   "id": "d043e6a3",
   "metadata": {},
   "outputs": [
    {
     "data": {
      "text/html": [
       "<html>\\(\\displaystyle \\mathrm{True}\\)</html>"
      ],
      "text/latex": [
       "$\\displaystyle \\mathrm{True}$"
      ],
      "text/plain": [
       "True"
      ]
     },
     "execution_count": 43,
     "metadata": {},
     "output_type": "execute_result"
    }
   ],
   "source": [
    "vc = c.tangent_vector_field()\n",
    "vc.at(R(0)) == vp"
   ]
  },
  {
   "cell_type": "markdown",
   "id": "ab5ea06f",
   "metadata": {},
   "source": [
    "Finalmente, hacemos"
   ]
  },
  {
   "cell_type": "code",
   "execution_count": 44,
   "id": "8ba67187",
   "metadata": {},
   "outputs": [
    {
     "data": {
      "text/plain": [
       "2*cos(t)^2*sin(4*t^2)^2 + 4*cos(4*t^2)*cos(t)*sin(4*t^2)*sin(t) + 2*cos(4*t^2)^2*sin(t)^2 + 17*t^2 - 22*t + 24"
      ]
     },
     "execution_count": 44,
     "metadata": {},
     "output_type": "execute_result"
    }
   ],
   "source": [
    "%display plain\n",
    "f(c(t))"
   ]
  },
  {
   "cell_type": "code",
   "execution_count": 45,
   "id": "2e87b93f",
   "metadata": {},
   "outputs": [
    {
     "data": {
      "text/plain": [
       "32*t*cos(4*t^2)*cos(t)^2*sin(4*t^2) + 32*t*cos(4*t^2)^2*cos(t)*sin(t) - 32*t*cos(t)*sin(4*t^2)^2*sin(t) - 32*t*cos(4*t^2)*sin(4*t^2)*sin(t)^2 + 4*cos(4*t^2)*cos(t)^2*sin(4*t^2) + 4*cos(4*t^2)^2*cos(t)*sin(t) - 4*cos(t)*sin(4*t^2)^2*sin(t) - 4*cos(4*t^2)*sin(4*t^2)*sin(t)^2 + 34*t - 22"
      ]
     },
     "execution_count": 45,
     "metadata": {},
     "output_type": "execute_result"
    }
   ],
   "source": [
    "f(c(t)).diff(t) # derivada con respecto a t"
   ]
  },
  {
   "cell_type": "code",
   "execution_count": 46,
   "id": "c5586224",
   "metadata": {},
   "outputs": [
    {
     "data": {
      "text/plain": [
       "-22"
      ]
     },
     "execution_count": 46,
     "metadata": {},
     "output_type": "execute_result"
    }
   ],
   "source": [
    "f(c(t)).diff(t).subs(t=0) # evaluada en t = 0"
   ]
  },
  {
   "cell_type": "markdown",
   "id": "5d80323b",
   "metadata": {
    "slideshow": {
     "slide_type": "slide"
    }
   },
   "source": [
    "## Diferencial de una función\n",
    "\n",
    "Al igual que en analisis en varias variables, la *diferencial* de una función diferenciable $f: M \\to N$ en el punto $p \\in M$ es la transformación lineal\n",
    "$$\n",
    "df|_p: T_pM \\to T_{f(p)}N\n",
    "$$\n",
    "que *mejor aproxima* a $f$. * Podemos definir la diferencial usando curvas: si $v = c'(0) \\in T_pM$, entonces\n",
    "$$\n",
    "df|_p(v) = \\frac{d}{dt}\\bigg|_0 f(c(t))\n",
    "$$\n",
    "\n",
    "También podemos trabajar en coordenadas: si $x_1, \\ldots, x_m$ son coordenadas en $p \\in M$; $y_1, \\ldots, y_m$ son  coordenadas en $f(p) \\in N$ y $f_1, \\ldots, f_n$ es la expresión de $f$ con respecto a este par de coordenadas, entonces la matriz de $df|_p$ con respecto a las bases $\\frac{\\partial}{\\partial x_i}\\big|_p$ y $\\frac{\\partial}{\\partial y_j}\\big|_{f(p)}$ es la matriz jacobiana\n",
    "$$\n",
    "  \\left( \\frac{\\partial f_i}{\\partial x_j}\\bigg|_p\\right)_{i, j}\n",
    "$$\n",
    "Sage nos permite calcular la diferencial de una función en un punto dado usando `f.differential(p)`. A modo de ejemplo calculemos la diferencial del cambio de coordenadas polares a cartesianas en el plano."
   ]
  },
  {
   "cell_type": "code",
   "execution_count": 47,
   "id": "b5160454",
   "metadata": {},
   "outputs": [
    {
     "data": {
      "text/html": [
       "<html>\\(\\displaystyle \\begin{array}{llcl} f:& \\mathbb R^2_\\text{polar} & \\longrightarrow & \\mathbb R^2 \\\\ & \\left(r, \\theta\\right) & \\longmapsto & \\left(x, y\\right) = \\left(r \\cos\\left(\\theta\\right), r \\sin\\left(\\theta\\right)\\right) \\end{array}\\)</html>"
      ],
      "text/latex": [
       "$\\displaystyle \\begin{array}{llcl} f:& \\mathbb R^2_\\text{polar} & \\longrightarrow & \\mathbb R^2 \\\\ & \\left(r, \\theta\\right) & \\longmapsto & \\left(x, y\\right) = \\left(r \\cos\\left(\\theta\\right), r \\sin\\left(\\theta\\right)\\right) \\end{array}$"
      ],
      "text/plain": [
       "f: \\mathbb R^2_\\text{polar} → \\mathbb R^2\n",
       "   (r, theta) ↦ (x, y) = (r*cos(theta), r*sin(theta))"
      ]
     },
     "execution_count": 47,
     "metadata": {},
     "output_type": "execute_result"
    }
   ],
   "source": [
    "%display latex\n",
    "R2_polar = Manifold(2, r'\\mathbb R^2_\\text{polar}')\n",
    "polar_range = r'r:(0,+oo) theta:[0,2*pi]:periodic'\n",
    "R2_polar_chart.<r,theta> = R2_polar.chart(polar_range)\n",
    "R2_comun = Manifold(2, r'\\mathbb R^2')\n",
    "R2_comun_chart.<x,y> = R2_comun.chart()\n",
    "f = R2_polar.diff_map(R2_comun, \n",
    "                      (r*cos(theta), r*sin(theta)),\n",
    "                      name='f'\n",
    "                     )\n",
    "f.display()"
   ]
  },
  {
   "cell_type": "markdown",
   "id": "d6c01a7a",
   "metadata": {},
   "source": [
    "Primero lo hacemos en un punto específico."
   ]
  },
  {
   "cell_type": "code",
   "execution_count": 48,
   "id": "7551d2a8",
   "metadata": {},
   "outputs": [
    {
     "data": {
      "text/html": [
       "<html>\\(\\displaystyle \\left(\\left(1, \\frac{1}{4} \\, \\pi\\right), \\left(\\frac{1}{2} \\, \\sqrt{2}, \\frac{1}{2} \\, \\sqrt{2}\\right)\\right)\\)</html>"
      ],
      "text/latex": [
       "$\\displaystyle \\left(\\left(1, \\frac{1}{4} \\, \\pi\\right), \\left(\\frac{1}{2} \\, \\sqrt{2}, \\frac{1}{2} \\, \\sqrt{2}\\right)\\right)$"
      ],
      "text/plain": [
       "((1, 1/4*pi), (1/2*sqrt(2), 1/2*sqrt(2)))"
      ]
     },
     "execution_count": 48,
     "metadata": {},
     "output_type": "execute_result"
    }
   ],
   "source": [
    "p = R2_polar.point((1,pi/4),name='p')\n",
    "fp = f(p)\n",
    "p.coord(), fp.coord()"
   ]
  },
  {
   "cell_type": "markdown",
   "id": "5336560c",
   "metadata": {},
   "source": [
    "Ahora calculamos la diferencial"
   ]
  },
  {
   "cell_type": "code",
   "execution_count": 49,
   "id": "c54da34f",
   "metadata": {
    "slideshow": {
     "slide_type": "subslide"
    }
   },
   "outputs": [
    {
     "data": {
      "text/html": [
       "<html>\\(\\displaystyle {\\mathrm{d}f}_{p}\\)</html>"
      ],
      "text/latex": [
       "$\\displaystyle {\\mathrm{d}f}_{p}$"
      ],
      "text/plain": [
       "Generic morphism:\n",
       "  From: Tangent space at Point p on the 2-dimensional differentiable manifold \\mathbb R^2_\\text{polar}\n",
       "  To:   Tangent space at Point f(p) on the 2-dimensional differentiable manifold \\mathbb R^2"
      ]
     },
     "metadata": {},
     "output_type": "display_data"
    },
    {
     "name": "stdout",
     "output_type": "stream",
     "text": [
      "Generic morphism:\n",
      "  From: Tangent space at Point p on the 2-dimensional differentiable manifold \\mathbb R^2_\\text{polar}\n",
      "  To:   Tangent space at Point f(p) on the 2-dimensional differentiable manifold \\mathbb R^2\n"
     ]
    },
    {
     "data": {
      "text/html": [
       "<html>\\(\\displaystyle \\left(\\begin{array}{rr}\n",
       "\\frac{1}{2} \\, \\sqrt{2} & -\\frac{1}{2} \\, \\sqrt{2} \\\\\n",
       "\\frac{1}{2} \\, \\sqrt{2} & \\frac{1}{2} \\, \\sqrt{2}\n",
       "\\end{array}\\right)\\)</html>"
      ],
      "text/latex": [
       "$\\displaystyle \\left(\\begin{array}{rr}\n",
       "\\frac{1}{2} \\, \\sqrt{2} & -\\frac{1}{2} \\, \\sqrt{2} \\\\\n",
       "\\frac{1}{2} \\, \\sqrt{2} & \\frac{1}{2} \\, \\sqrt{2}\n",
       "\\end{array}\\right)$"
      ],
      "text/plain": [
       "[ 1/2*sqrt(2) -1/2*sqrt(2)]\n",
       "[ 1/2*sqrt(2)  1/2*sqrt(2)]"
      ]
     },
     "execution_count": 49,
     "metadata": {},
     "output_type": "execute_result"
    }
   ],
   "source": [
    "dfp = f.differential(p)\n",
    "display(dfp)\n",
    "print(dfp)\n",
    "dfp.parent()\n",
    "dfp.matrix()"
   ]
  },
  {
   "cell_type": "markdown",
   "id": "843a4a17",
   "metadata": {
    "slideshow": {
     "slide_type": "subslide"
    }
   },
   "source": [
    "Ahora hacemos lo mismo pero en un punto genérico."
   ]
  },
  {
   "cell_type": "code",
   "execution_count": 50,
   "id": "bed024a2",
   "metadata": {},
   "outputs": [
    {
     "name": "stdout",
     "output_type": "stream",
     "text": [
      "Point p on the 2-dimensional differentiable manifold \\mathbb R^2_\\text{polar}\n"
     ]
    },
    {
     "data": {
      "text/html": [
       "<html>\\(\\displaystyle \\left(r_{0}, \\theta_{0}\\right)\\)</html>"
      ],
      "text/latex": [
       "$\\displaystyle \\left(r_{0}, \\theta_{0}\\right)$"
      ],
      "text/plain": [
       "(r0, theta0)"
      ]
     },
     "metadata": {},
     "output_type": "display_data"
    },
    {
     "data": {
      "text/html": [
       "<html>\\(\\displaystyle \\left(\\begin{array}{rr}\n",
       "\\cos\\left(\\theta_{0}\\right) & -r_{0} \\sin\\left(\\theta_{0}\\right) \\\\\n",
       "\\sin\\left(\\theta_{0}\\right) & r_{0} \\cos\\left(\\theta_{0}\\right)\n",
       "\\end{array}\\right)\\)</html>"
      ],
      "text/latex": [
       "$\\displaystyle \\left(\\begin{array}{rr}\n",
       "\\cos\\left(\\theta_{0}\\right) & -r_{0} \\sin\\left(\\theta_{0}\\right) \\\\\n",
       "\\sin\\left(\\theta_{0}\\right) & r_{0} \\cos\\left(\\theta_{0}\\right)\n",
       "\\end{array}\\right)$"
      ],
      "text/plain": [
       "[    cos(theta0) -r0*sin(theta0)]\n",
       "[    sin(theta0)  r0*cos(theta0)]"
      ]
     },
     "execution_count": 50,
     "metadata": {},
     "output_type": "execute_result"
    }
   ],
   "source": [
    "r0,theta0 = var(\"r0 theta0\")\n",
    "assume(r0>0)\n",
    "p = R2_polar.point((r0,theta0),name='p')\n",
    "print(p)\n",
    "display(p.coord())\n",
    "dfp = f.differential(p)\n",
    "dfp.matrix()"
   ]
  },
  {
   "cell_type": "markdown",
   "id": "533b258b",
   "metadata": {
    "slideshow": {
     "slide_type": "slide"
    }
   },
   "source": [
    "# Campos vectoriales\n",
    "\n",
    "Un *campo vectorial* $X$ en $M$ asigna a cada $p \\in M$ un vector tangente $X_p \\in T_pM$ de manera \"suave\". * Si $x_1, \\ldots, x_n$ son coordenadas locales tenemos asociados $n$ campos coordenados (locales) \n",
    "$$\n",
    "\\frac{\\partial}{\\partial x_1}, \\, \\frac{\\partial}{\\partial x_2}, \\ldots , \\frac{\\partial}{\\partial x_n}\n",
    "$$\n",
    "los cuales se corresponden con los campos constantes $e_1, e_2, \\ldots, e_n$ en $\\mathbb R^n$. Los campos coordenados son linealmente independientes en cada punto y por ende generan cada espacio tangente: si $v \\in T_pM$, \n",
    "$$\n",
    "v = \\sum_{i =1}^n v_i \\frac{\\partial}{\\partial x_i}\\bigg|_p\n",
    "$$\n",
    "Si $f: M \\to \\mathbb R$, \n",
    "$$\n",
    "v(f) = \\sum_{i = 1}^n v_i \\frac{\\partial f}{\\partial x_i}\\bigg|_p, \\qquad \\text{ en donde } \\frac{\\partial f}{\\partial x_i} = \\frac{d}{dt}f(c_i(t)).\n",
    "$$ \n",
    "Aquí $c_i(t)$ es la curva cuyas coordenadas son $(x_1(p), \\ldots , x_i(p) + t, \\ldots, x_n(p))$.\n",
    "De esto último se desprende que $v_i = v(x_i)$.\n",
    "\n",
    "Nuevamente hacemos un ejemplo en dimensión $4$."
   ]
  },
  {
   "cell_type": "code",
   "execution_count": 51,
   "id": "74b8d9a6",
   "metadata": {
    "slideshow": {
     "slide_type": "subslide"
    }
   },
   "outputs": [],
   "source": [
    "M = Manifold(4, 'M')\n",
    "M_chart.<x,y,z,w> = M.chart()\n",
    "R.<t> = manifolds.RealLine()\n",
    "f = M.scalar_field(4*x*y + z^2 - cos(w*y))"
   ]
  },
  {
   "cell_type": "markdown",
   "id": "3341386b",
   "metadata": {},
   "source": [
    "Para acceder a los campos coordenados de una carta local tenemos el método `.frame()`."
   ]
  },
  {
   "cell_type": "code",
   "execution_count": 52,
   "id": "cf7c1451-cd6a-443e-bb08-ddf461be6a31",
   "metadata": {
    "slideshow": {
     "slide_type": "-"
    }
   },
   "outputs": [
    {
     "data": {
      "text/html": [
       "<html>\\(\\displaystyle \\left(M, \\left(\\frac{\\partial}{\\partial x },\\frac{\\partial}{\\partial y },\\frac{\\partial}{\\partial z },\\frac{\\partial}{\\partial w }\\right)\\right)\\)</html>"
      ],
      "text/latex": [
       "$\\displaystyle \\left(M, \\left(\\frac{\\partial}{\\partial x },\\frac{\\partial}{\\partial y },\\frac{\\partial}{\\partial z },\\frac{\\partial}{\\partial w }\\right)\\right)$"
      ],
      "text/plain": [
       "Coordinate frame (M, (∂/∂x,∂/∂y,∂/∂z,∂/∂w))"
      ]
     },
     "execution_count": 52,
     "metadata": {},
     "output_type": "execute_result"
    }
   ],
   "source": [
    "M_chart.frame()"
   ]
  },
  {
   "cell_type": "markdown",
   "id": "51aa35bd",
   "metadata": {},
   "source": [
    "Llamemos $e_0, e_1, e_2, e_3$ a estos campos coordenados y usemos esto para definir un nuevo campo $X$."
   ]
  },
  {
   "cell_type": "code",
   "execution_count": 53,
   "id": "f3506211",
   "metadata": {},
   "outputs": [
    {
     "data": {
      "text/html": [
       "<html>\\(\\displaystyle \\mbox{Vector field on the 4-dimensional differentiable manifold M}\\)</html>"
      ],
      "text/latex": [
       "$\\displaystyle \\mbox{Vector field on the 4-dimensional differentiable manifold M}$"
      ],
      "text/plain": [
       "Vector field on the 4-dimensional differentiable manifold M"
      ]
     },
     "execution_count": 53,
     "metadata": {},
     "output_type": "execute_result"
    }
   ],
   "source": [
    "e0,e1,e2,e3 = M_chart.frame()\n",
    "X = x*e0 - e1 + z*w*e3; X"
   ]
  },
  {
   "cell_type": "markdown",
   "id": "b3fb5424",
   "metadata": {},
   "source": [
    "Notemos que `X` aún no tiene un nombre en \\LaTeX, pero esto lo podemos resolver rápidamente con `.set_name()`."
   ]
  },
  {
   "cell_type": "code",
   "execution_count": 54,
   "id": "22811f72",
   "metadata": {},
   "outputs": [
    {
     "data": {
      "text/html": [
       "<html>\\(\\displaystyle X\\)</html>"
      ],
      "text/latex": [
       "$\\displaystyle X$"
      ],
      "text/plain": [
       "Vector field X on the 4-dimensional differentiable manifold M"
      ]
     },
     "metadata": {},
     "output_type": "display_data"
    },
    {
     "data": {
      "text/html": [
       "<html>\\(\\displaystyle X = x \\frac{\\partial}{\\partial x } -\\frac{\\partial}{\\partial y } + w z \\frac{\\partial}{\\partial w }\\)</html>"
      ],
      "text/latex": [
       "$\\displaystyle X = x \\frac{\\partial}{\\partial x } -\\frac{\\partial}{\\partial y } + w z \\frac{\\partial}{\\partial w }$"
      ],
      "text/plain": [
       "X = x ∂/∂x - ∂/∂y + w*z ∂/∂w"
      ]
     },
     "execution_count": 54,
     "metadata": {},
     "output_type": "execute_result"
    }
   ],
   "source": [
    "X.set_name('X')\n",
    "display(X)\n",
    "X.display()"
   ]
  },
  {
   "cell_type": "markdown",
   "id": "19efef7a",
   "metadata": {},
   "source": [
    "Ahora calculemos la derivada direccional $X(f)$."
   ]
  },
  {
   "cell_type": "code",
   "execution_count": 55,
   "id": "486989ec",
   "metadata": {
    "slideshow": {
     "slide_type": "subslide"
    }
   },
   "outputs": [
    {
     "data": {
      "text/html": [
       "<html>\\(\\displaystyle \\text{Scalar field on the 4-dimensional differentiable manifold M}\\)</html>"
      ],
      "text/latex": [
       "$\\displaystyle \\text{Scalar field on the 4-dimensional differentiable manifold M}$"
      ],
      "text/plain": [
       "Scalar field on the 4-dimensional differentiable manifold M"
      ]
     },
     "metadata": {},
     "output_type": "display_data"
    },
    {
     "data": {
      "text/html": [
       "<html>\\(\\displaystyle \\begin{array}{llcl} & M & \\longrightarrow & \\mathbb{R} \\\\ & \\left(x, y, z, w\\right) & \\longmapsto & 4 \\, x y + z^{2} - \\cos\\left(w y\\right) \\end{array}\\)</html>"
      ],
      "text/latex": [
       "$\\displaystyle \\begin{array}{llcl} & M & \\longrightarrow & \\mathbb{R} \\\\ & \\left(x, y, z, w\\right) & \\longmapsto & 4 \\, x y + z^{2} - \\cos\\left(w y\\right) \\end{array}$"
      ],
      "text/plain": [
       "M → ℝ\n",
       "(x, y, z, w) ↦ 4*x*y + z^2 - cos(w*y)"
      ]
     },
     "metadata": {},
     "output_type": "display_data"
    },
    {
     "data": {
      "text/html": [
       "<html>\\(\\displaystyle \\text{Scalar field on the 4-dimensional differentiable manifold M}\\)</html>"
      ],
      "text/latex": [
       "$\\displaystyle \\text{Scalar field on the 4-dimensional differentiable manifold M}$"
      ],
      "text/plain": [
       "Scalar field on the 4-dimensional differentiable manifold M"
      ]
     },
     "metadata": {},
     "output_type": "display_data"
    },
    {
     "data": {
      "text/html": [
       "<html>\\(\\displaystyle \\begin{array}{llcl} & M & \\longrightarrow & \\mathbb{R} \\\\ & \\left(x, y, z, w\\right) & \\longmapsto & w y z \\sin\\left(w y\\right) + 4 \\, x y - w \\sin\\left(w y\\right) - 4 \\, x \\end{array}\\)</html>"
      ],
      "text/latex": [
       "$\\displaystyle \\begin{array}{llcl} & M & \\longrightarrow & \\mathbb{R} \\\\ & \\left(x, y, z, w\\right) & \\longmapsto & w y z \\sin\\left(w y\\right) + 4 \\, x y - w \\sin\\left(w y\\right) - 4 \\, x \\end{array}$"
      ],
      "text/plain": [
       "M → ℝ\n",
       "(x, y, z, w) ↦ w*y*z*sin(w*y) + 4*x*y - w*sin(w*y) - 4*x"
      ]
     },
     "execution_count": 55,
     "metadata": {},
     "output_type": "execute_result"
    }
   ],
   "source": [
    "display(f)\n",
    "display(f.display())\n",
    "display(X(f))\n",
    "X(f).disp()"
   ]
  },
  {
   "cell_type": "markdown",
   "id": "8b510c01",
   "metadata": {
    "slideshow": {
     "slide_type": "subslide"
    }
   },
   "source": [
    "También podemos usar el método `X(f).expr()` para acceder a la expresión simbólica de $X(f)$ (por si necesitamos usarla en otro lado)."
   ]
  },
  {
   "cell_type": "code",
   "execution_count": 56,
   "id": "300ac0f5",
   "metadata": {},
   "outputs": [
    {
     "data": {
      "text/html": [
       "<html>\\(\\displaystyle w y z \\sin\\left(w y\\right) + 4 \\, x y - w \\sin\\left(w y\\right) - 4 \\, x\\)</html>"
      ],
      "text/latex": [
       "$\\displaystyle w y z \\sin\\left(w y\\right) + 4 \\, x y - w \\sin\\left(w y\\right) - 4 \\, x$"
      ],
      "text/plain": [
       "w*y*z*sin(w*y) + 4*x*y - w*sin(w*y) - 4*x"
      ]
     },
     "metadata": {},
     "output_type": "display_data"
    },
    {
     "name": "stdout",
     "output_type": "stream",
     "text": [
      "w*y*z*sin(w*y) + 4*x*y - w*sin(w*y) - 4*x\n"
     ]
    }
   ],
   "source": [
    "display(X(f).expr())\n",
    "print(X(f).expr())"
   ]
  },
  {
   "cell_type": "markdown",
   "id": "cb6f0b4e",
   "metadata": {},
   "source": [
    "Esto también puede ser útil cuando queremos usar la expresión en LaTeX en algún otro lado"
   ]
  },
  {
   "cell_type": "code",
   "execution_count": 57,
   "id": "585de298",
   "metadata": {},
   "outputs": [
    {
     "name": "stdout",
     "output_type": "stream",
     "text": [
      "w y z \\sin\\left(w y\\right) + 4 \\, x y - w \\sin\\left(w y\\right) - 4 \\, x\n"
     ]
    }
   ],
   "source": [
    "print(latex(X(f).expr()))"
   ]
  },
  {
   "cell_type": "markdown",
   "id": "30baf078",
   "metadata": {
    "slideshow": {
     "slide_type": "slide"
    }
   },
   "source": [
    "## Flujo de campos vectoriales\n",
    "\n",
    "Todo campo vectorial $X \\in \\mathfrak X(M)$ se mueve a lo largo de unas curvas llamadas *curvas integrales* o *líneas de flujo* cuya velocidad es exactamente el valor del campo en el punto dado. Más precisamente, una *curva integral* de $X$ por $p \\in M$ es una curva $\\gamma_p : I \\subset \\mathbb R \\to M$ tal que $\\gamma_p(0) = p$ y $\\gamma_p'(t) = X_{\\gamma_p(t)}$ para todo $t \\in I$. Si pensamos ahora que $t$ está fijo y $p$ es quien varía obtenemos una familia de difeomorfismos locales\n",
    "\\begin{align*}\n",
    "    \\varphi_t: U \\subset M \\to M, && \\varphi_t(p) = \\gamma_p(t)\n",
    "\\end{align*}\n",
    "\n",
    "El conjunto $\\{\\varphi_t\\}$ forma un grupo (local) llamado el *flujo* de $X$ ya que\n",
    "\\begin{align*}\n",
    "\\varphi_0 = \\operatorname{id}_M && \\varphi_t \\circ \\varphi_s = \\varphi_{s + t} && (\\varphi_t)^{-1} = \\varphi_{-t}\n",
    "\\end{align*}\n",
    "\n",
    "El flujo local de un campo $X$ puede pensarse como un grupo de simetrías de $X$, pues\n",
    "$$\n",
    "(\\varphi_t)_*(X) = X\n",
    "$$\n",
    "para todo $t \\in I$.\n",
    "\n"
   ]
  },
  {
   "cell_type": "markdown",
   "id": "f7b5bb6c-e7a8-442e-96be-62edd68efbae",
   "metadata": {
    "slideshow": {
     "slide_type": "slide"
    }
   },
   "source": [
    "## Corchete de campos vectoriales y álgebras de Lie\n",
    "\n",
    "El conjunto $\\mathfrak X(M)$ de todos los campos vectoriales en $M$ forma un un $C^\\infty(M)$-módulo, ya que los campos vectoriales se pueden sumar y multiplicar por funciones diferenciables. El *corchete de Lie* en $\\mathfrak X(M)$ es una de las formas que tenemos para derivar un campo en la dirección de otro. Si $X = \\sum a_i \\frac{\\partial}{\\partial x_i}$, $Y = \\sum b_j \\frac{\\partial}{\\partial x_j}$, definimos el corchete de Lie entre $X$ e $Y$ como\n",
    "$$\n",
    "[X, Y] = XY - YX = \\sum_i \\sum_j \\left( a_j \\frac{\\partial b_i}{\\partial x_j} - b_j \\frac{\\partial a_i}{\\partial x_j}\\right) \\frac{\\partial}{\\partial x_i}\n",
    "$$\n",
    "\n",
    "Notemos que la definición de $[X, Y]$ es independiente del sistema de coordenadas, pues se tiene que aplicado una función $f \\in C^\\infty(M)$, vale\n",
    "$$\n",
    "[X, Y](f) = X(Y(f)) - Y(X(f)).\n",
    "$$"
   ]
  },
  {
   "cell_type": "markdown",
   "id": "25561049",
   "metadata": {
    "slideshow": {
     "slide_type": "subslide"
    }
   },
   "source": [
    "$\\mathfrak X(M)$ junto con el corchete de Lie forma un *álgebra de Lie* real (de dimensión infinita), ya que se cumplen\n",
    "  - $[\\, , \\,]$ es $\\mathbb R$-bilineal\n",
    "  - Antisimétrico: $[X, Y] = -[Y, X]$\n",
    "  - Identidad de Jacobi: $[X, [Y, Z]] + [Y, [Z, X]] + [Z, [X, Y]] = 0$\n",
    "\n",
    "Además se satisface la regla de Leibniz: si $f \\in C^\\infty(M)$,\n",
    "$$\n",
    "[X, fY] = X(f)Y + f [X, Y]\n",
    "$$\n",
    "\n",
    "El siguiente resultado nos dice que el corchete de Lie se puede usar para detectar cuando dos campos son campos coordenadas (con respecto a alguna carta coordenada).\n",
    "\n",
    "**Teorema.** Dos campos $X$ e $Y$ conmutan (i.e. $[X, Y] = 0$) si y sólo si sus flujos conmutan $\\varphi_t^X \\circ \\varphi_s^Y = \\varphi_s^Y \\circ \\varphi_t^X$\n",
    "\n",
    "**Corolario (Teorema de Clairaut).** Los campos coordenados conmutan.\n",
    "\n",
    "*Dem.* En realidad esto es inmediato de la definición del corchete, pero hagámoslo usando flujos a modo de ejemplo.\n",
    "Como este es un teorema local, es suficiente probarlo para $M = \\mathbb R^n$ y los campos coordenados $\\frac{\\partial}{\\partial x_i} = e_i$. Aquí podemos calcular explícitamente $\\varphi_t^i(p) = te_i + p$ y por ende \n",
    "$\\varphi_t^i (\\varphi_s^j(p)) = te_i + se_j + p = \\varphi_s^j (\\varphi_t^i(p))$.\n",
    "\n",
    "Verifiquemos con Sage que los campos coordenados conmutan."
   ]
  },
  {
   "cell_type": "code",
   "execution_count": 58,
   "id": "f4df9040",
   "metadata": {},
   "outputs": [
    {
     "data": {
      "text/html": [
       "<html>\\(\\displaystyle \\verb|{True}|\\)</html>"
      ],
      "text/latex": [
       "$\\displaystyle \\verb|{True}|$"
      ],
      "text/plain": [
       "{True}"
      ]
     },
     "execution_count": 58,
     "metadata": {},
     "output_type": "execute_result"
    }
   ],
   "source": [
    "M = Manifold(3, 'M')\n",
    "M_chart.<x,y,z> = M.chart()\n",
    "M_frame = M_chart.frame()\n",
    "M_frame\n",
    "{X.bracket(Y).is_zero() for X in M_frame for Y in M_frame}"
   ]
  },
  {
   "cell_type": "markdown",
   "id": "ca0089b7",
   "metadata": {
    "slideshow": {
     "slide_type": "subslide"
    }
   },
   "source": [
    "Pero en general dos campos cualesquiera no son conmutativos:"
   ]
  },
  {
   "cell_type": "code",
   "execution_count": 59,
   "id": "b1a16b72",
   "metadata": {},
   "outputs": [
    {
     "data": {
      "text/html": [
       "<html>\\(\\displaystyle \\left[X_0,X_1\\right] = \\left( -2 \\, y^{3} - 2 \\, y \\sin\\left(z\\right) \\right) \\frac{\\partial}{\\partial x }\\)</html>"
      ],
      "text/latex": [
       "$\\displaystyle \\left[X_0,X_1\\right] = \\left( -2 \\, y^{3} - 2 \\, y \\sin\\left(z\\right) \\right) \\frac{\\partial}{\\partial x }$"
      ],
      "text/plain": [
       "[X_0,X_1] = (-2*y^3 - 2*y*sin(z)) ∂/∂x"
      ]
     },
     "metadata": {},
     "output_type": "display_data"
    },
    {
     "data": {
      "text/html": [
       "<html>\\(\\displaystyle \\left[X_0,X_2\\right] = -2 \\, z e^{\\left(-2 \\, x\\right)} \\frac{\\partial}{\\partial x } -2 \\, {\\left(x^{2} + y^{2} + z^{2} + 1\\right)} e^{\\left(-2 \\, x\\right)} \\frac{\\partial}{\\partial z }\\)</html>"
      ],
      "text/latex": [
       "$\\displaystyle \\left[X_0,X_2\\right] = -2 \\, z e^{\\left(-2 \\, x\\right)} \\frac{\\partial}{\\partial x } -2 \\, {\\left(x^{2} + y^{2} + z^{2} + 1\\right)} e^{\\left(-2 \\, x\\right)} \\frac{\\partial}{\\partial z }$"
      ],
      "text/plain": [
       "[X_0,X_2] = -2*z*e^(-2*x) ∂/∂x - 2*(x^2 + y^2 + z^2 + 1)*e^(-2*x) ∂/∂z"
      ]
     },
     "metadata": {},
     "output_type": "display_data"
    },
    {
     "data": {
      "text/html": [
       "<html>\\(\\displaystyle \\left[X_1,X_2\\right] = -\\cos\\left(z\\right) e^{\\left(-2 \\, x\\right)} \\frac{\\partial}{\\partial y }\\)</html>"
      ],
      "text/latex": [
       "$\\displaystyle \\left[X_1,X_2\\right] = -\\cos\\left(z\\right) e^{\\left(-2 \\, x\\right)} \\frac{\\partial}{\\partial y }$"
      ],
      "text/plain": [
       "[X_1,X_2] = -cos(z)*e^(-2*x) ∂/∂y"
      ]
     },
     "metadata": {},
     "output_type": "display_data"
    }
   ],
   "source": [
    "X, Y, Z = M_frame\n",
    "X0, X1, X2 = (x^2 + y^2 + z^2+1)*X, (y^2 + sin(z))*Y, exp(-x*2)*Z\n",
    "X0.set_name('X_0'), X1.set_name('X_1'), X2.set_name('X_2')\n",
    "display(X0.bracket(X1).display())\n",
    "display(X0.bracket(X2).display())\n",
    "display(X1.bracket(X2).display())"
   ]
  },
  {
   "cell_type": "markdown",
   "id": "98a79d49",
   "metadata": {
    "slideshow": {
     "slide_type": "fragment"
    }
   },
   "source": [
    "Los campos $X_0, X_1, X_2$ son linealmente independientes en cada punto y por lo tanto forman una base del espacio tangente. Esto se conoce como un *frame*. Sage nos permite definir frames que no necesariamente estén inducidos por un sistema de coordenadas. **Esto será muy importante cuando trabajemos con grupos de Lie.**"
   ]
  },
  {
   "cell_type": "code",
   "execution_count": 60,
   "id": "fd956435",
   "metadata": {
    "slideshow": {
     "slide_type": "subslide"
    }
   },
   "outputs": [
    {
     "data": {
      "text/html": [
       "<html>\\(\\displaystyle \\left[\\left(M, \\left(\\frac{\\partial}{\\partial x },\\frac{\\partial}{\\partial y },\\frac{\\partial}{\\partial z }\\right)\\right), \\left(M, \\left(X_{0},X_{1},X_{2}\\right)\\right)\\right]\\)</html>"
      ],
      "text/latex": [
       "$\\displaystyle \\left[\\left(M, \\left(\\frac{\\partial}{\\partial x },\\frac{\\partial}{\\partial y },\\frac{\\partial}{\\partial z }\\right)\\right), \\left(M, \\left(X_{0},X_{1},X_{2}\\right)\\right)\\right]$"
      ],
      "text/plain": [
       "[Coordinate frame (M, (∂/∂x,∂/∂y,∂/∂z)), Vector frame (M, (X_0,X_1,X_2))]"
      ]
     },
     "execution_count": 60,
     "metadata": {},
     "output_type": "execute_result"
    }
   ],
   "source": [
    "M_other_frame = M.vector_frame('X', [X0, X1, X2])\n",
    "M.frames()"
   ]
  },
  {
   "cell_type": "markdown",
   "id": "0a946d1b",
   "metadata": {},
   "source": [
    "Sin embargo, solo tenemos definido un sistema de coordenadas"
   ]
  },
  {
   "cell_type": "code",
   "execution_count": 61,
   "id": "1e9ca513",
   "metadata": {},
   "outputs": [
    {
     "data": {
      "text/html": [
       "<html>\\(\\displaystyle \\left[\\left(M,(x, y, z)\\right)\\right]\\)</html>"
      ],
      "text/latex": [
       "$\\displaystyle \\left[\\left(M,(x, y, z)\\right)\\right]$"
      ],
      "text/plain": [
       "[Chart (M, (x, y, z))]"
      ]
     },
     "execution_count": 61,
     "metadata": {},
     "output_type": "execute_result"
    }
   ],
   "source": [
    "M.atlas()"
   ]
  },
  {
   "cell_type": "markdown",
   "id": "04e25ee1",
   "metadata": {
    "slideshow": {
     "slide_type": "subslide"
    }
   },
   "source": [
    "Sage chequea que el frame que queremos definir sea linealmente independiente en cada punto (aunque no es bueno confiarse demasiado)."
   ]
  },
  {
   "cell_type": "code",
   "execution_count": 62,
   "id": "65791fdb",
   "metadata": {},
   "outputs": [
    {
     "ename": "ValueError",
     "evalue": "the provided vector fields are not linearly independent",
     "output_type": "error",
     "traceback": [
      "\u001b[0;31m---------------------------------------------------------------------------\u001b[0m",
      "\u001b[0;31mValueError\u001b[0m                                Traceback (most recent call last)",
      "Cell \u001b[0;32mIn[62], line 1\u001b[0m\n\u001b[0;32m----> 1\u001b[0m \u001b[43mM\u001b[49m\u001b[38;5;241;43m.\u001b[39;49m\u001b[43mvector_frame\u001b[49m\u001b[43m(\u001b[49m\u001b[38;5;124;43m'\u001b[39;49m\u001b[38;5;124;43mX\u001b[39;49m\u001b[38;5;124;43m'\u001b[39;49m\u001b[43m,\u001b[49m\u001b[43m \u001b[49m\u001b[43m[\u001b[49m\u001b[43mX0\u001b[49m\u001b[43m,\u001b[49m\u001b[43m \u001b[49m\u001b[43mX1\u001b[49m\u001b[43m,\u001b[49m\u001b[43m \u001b[49m\u001b[43mX0\u001b[49m\u001b[38;5;241;43m+\u001b[39;49m\u001b[43mX1\u001b[49m\u001b[43m]\u001b[49m\u001b[43m)\u001b[49m\n",
      "File \u001b[0;32m/usr/lib/python3.11/site-packages/sage/manifolds/differentiable/manifold.py:3217\u001b[0m, in \u001b[0;36mDifferentiableManifold.vector_frame\u001b[0;34m(self, *args, **kwargs)\u001b[0m\n\u001b[1;32m   3214\u001b[0m     linked \u001b[38;5;241m=\u001b[39m \u001b[38;5;28mstr\u001b[39m(err) \u001b[38;5;129;01min\u001b[39;00m [\u001b[38;5;124m\"\u001b[39m\u001b[38;5;124mnon-invertible matrix\u001b[39m\u001b[38;5;124m\"\u001b[39m,\n\u001b[1;32m   3215\u001b[0m                           \u001b[38;5;124m\"\u001b[39m\u001b[38;5;124minput matrix must be nonsingular\u001b[39m\u001b[38;5;124m\"\u001b[39m]\n\u001b[1;32m   3216\u001b[0m \u001b[38;5;28;01mif\u001b[39;00m linked:\n\u001b[0;32m-> 3217\u001b[0m     \u001b[38;5;28;01mraise\u001b[39;00m \u001b[38;5;167;01mValueError\u001b[39;00m(\u001b[38;5;124m\"\u001b[39m\u001b[38;5;124mthe provided vector fields are not \u001b[39m\u001b[38;5;124m\"\u001b[39m\n\u001b[1;32m   3218\u001b[0m                      \u001b[38;5;124m\"\u001b[39m\u001b[38;5;124mlinearly independent\u001b[39m\u001b[38;5;124m\"\u001b[39m)\n\u001b[1;32m   3219\u001b[0m \u001b[38;5;66;03m# Adding the newly generated changes of frame to the\u001b[39;00m\n\u001b[1;32m   3220\u001b[0m \u001b[38;5;66;03m# dictionary _frame_changes of self and its supersets:\u001b[39;00m\n\u001b[1;32m   3221\u001b[0m \u001b[38;5;28;01mfor\u001b[39;00m frame_pair, chge \u001b[38;5;129;01min\u001b[39;00m resu\u001b[38;5;241m.\u001b[39m_fmodule\u001b[38;5;241m.\u001b[39m_basis_changes\u001b[38;5;241m.\u001b[39mitems():\n",
      "\u001b[0;31mValueError\u001b[0m: the provided vector fields are not linearly independent"
     ]
    }
   ],
   "source": [
    "M.vector_frame('X', [X0, X1, X0+X1])"
   ]
  },
  {
   "cell_type": "markdown",
   "id": "7b22fa6e",
   "metadata": {
    "slideshow": {
     "slide_type": "slide"
    }
   },
   "source": [
    "# Grupos de Lie \n",
    "\n",
    "Un *grupo de Lie* $G$ es a la vez un grupo y una variedad diferenciable tal que las operaciones \n",
    "\\begin{align*}\n",
    "m: G \\times G & \\to G & i: G &\\to G \\\\\n",
    "(x,y) & \\mapsto xy & x &\\mapsto x^{-1} \n",
    "\\end{align*}\n",
    "son diferenciables."
   ]
  },
  {
   "cell_type": "markdown",
   "id": "e76551b2",
   "metadata": {
    "slideshow": {
     "slide_type": "subslide"
    }
   },
   "source": [
    "Algunos ejemplos importantes son\n",
    "\n",
    "* El grupo lineal general $GL_n(\\mathbb R)$ de matrices invertibles $n \\times n$. Notar que $GL_n(\\mathbb R) = \\det^{-1}(\\mathbb R - \\{0\\})$ es un grupo de Lie, ya que es un abierto en $M_{n \\times n}(\\mathbb R) \\simeq \\mathbb R^{n^2}$. Muchos (casi todos) ejemplos de grupos de Lie se pueden presentar como subgrupos del grupo lineal general.\n",
    "* El grupo ortogonal $O_n = \\{A \\in GL_n(\\mathbb R): AA^T = I_n\\}$ el cual es un subgrupo compacto de $GL_n(\\mathbb R)$.\n",
    "* El grupo lineal especial $SL_n(\\mathbb R) = \\{A \\in GL_n(\\mathbb R): \\det A = 1\\}$.\n"
   ]
  },
  {
   "cell_type": "markdown",
   "id": "763e7bc4",
   "metadata": {
    "slideshow": {
     "slide_type": "slide"
    }
   },
   "source": [
    "# Ejemplo: $SL_2(\\mathbb R)$\n",
    "\n",
    "El grupo lineal especial $SL_2(\\mathbb R)$  es muy importantes en muchas áreas de la matemática. Si quisiéramos probar que $SL_2(\\mathbb R)$ es una variedad diferenciable con *lapiz y papel* usaríamos el *teorema de la función implícita* para variedades (que también nos da información sobre su topología). Para definir las coordenadas en Sage de una matriz $A \\in SL_2(\\mathbb R)$ lo haremos *a mano* escribiendo una de las entradas de $A$ como función de las otras tres. En primer lugar, escribimos $A = \\begin{pmatrix} a & b \\\\ c & d\\end{pmatrix}$. Como $ad - bc = 1$, tenemos que $\\displaystyle a \\neq 0 \\implies d = \\frac{1 + bc}{a}$ y $\\displaystyle b \\neq 0 \\implies c = \\frac{ad - 1}{b}$. Además $SL_2(\\mathbb R) = U \\cup V$ con  $U \\simeq \\{(a, b, c) \\in \\mathbb R^3: a \\neq 0\\}$ y $V \\simeq \\{(a,b,d) \\in \\mathbb R^3 : b \\neq 0\\}$. Los símbolos $\\simeq$ anteriores los hemos usado para indicar difeomorfismo (una función diferenciable biyectiva con inversa diferenciable).\n",
    "\n",
    "Veamos nuestro primer ejemplo de una variedad diferenciable que no podemos cubrir con un solo sistema de coordenadas. En primer lugar, debemos definir los abiertos $U$ y $V$ usando el método `.open_subset()` y luego indicamos que con estos dos abiertos ya tenemos todos los puntos de $SL_2(\\mathbb R)$ usando `.declare_union()`."
   ]
  },
  {
   "cell_type": "code",
   "execution_count": 63,
   "id": "c6b84cd4",
   "metadata": {},
   "outputs": [
    {
     "data": {
      "text/html": [
       "<html>\\(\\displaystyle SL_2(\\mathbb R)\\)</html>"
      ],
      "text/latex": [
       "$\\displaystyle SL_2(\\mathbb R)$"
      ],
      "text/plain": [
       "3-dimensional differentiable manifold SL_2(\\mathbb R)"
      ]
     },
     "metadata": {},
     "output_type": "display_data"
    },
    {
     "data": {
      "text/html": [
       "<html>\\(\\displaystyle \\{\\{SL_2(\\mathbb R)\\}, \\{U, V\\}\\}\\)</html>"
      ],
      "text/latex": [
       "$\\displaystyle \\{\\{SL_2(\\mathbb R)\\}, \\{U, V\\}\\}$"
      ],
      "text/plain": [
       "Set {{SL_2(\\mathbb R)}, {U, V}} of objects of the 3-dimensional differentiable manifold SL_2(\\mathbb R)"
      ]
     },
     "metadata": {},
     "output_type": "display_data"
    }
   ],
   "source": [
    "SL2 = Manifold(3, name=r\"SL_2(\\mathbb R)\")\n",
    "U = SL2.open_subset(\"U\")\n",
    "V = SL2.open_subset(\"V\")\n",
    "SL2.declare_union(U, V)\n",
    "display(U.union(V))\n",
    "display(SL2.open_cover_family())"
   ]
  },
  {
   "cell_type": "markdown",
   "id": "c595f2aa",
   "metadata": {
    "slideshow": {
     "slide_type": "subslide"
    }
   },
   "source": [
    "Ahora definimos las coordenadas en $U$ y $V$ como hicimos más arriba"
   ]
  },
  {
   "cell_type": "code",
   "execution_count": 64,
   "id": "23501f9b",
   "metadata": {},
   "outputs": [],
   "source": [
    "rest_a = lambda a00,a01,a10: a00!=0\n",
    "rest_b = lambda b00,b01,b11: b01!=0\n",
    "a.<a00,a01,a10> = U.chart(coord_restrictions=rest_a)\n",
    "b.<b00,b01,b11> = V.chart(coord_restrictions=rest_b)"
   ]
  },
  {
   "cell_type": "markdown",
   "id": "fbbf435f",
   "metadata": {},
   "source": [
    "Vale la pena aclarar que el parámetro `coord_restrictions` es usado precisamente para indicar las coordenadas que queremos que sean no nulas en $U$ y en $V$. En versiones anteriores de SageMath esto se hacía con el método `.add_restrictions()` que ahora es obsoleto.\n",
    "\n",
    "Ahora tenemos un atlas con dos sistemas de coordenadas:"
   ]
  },
  {
   "cell_type": "code",
   "execution_count": 65,
   "id": "d9c740ed",
   "metadata": {},
   "outputs": [
    {
     "data": {
      "text/html": [
       "<html>\\(\\displaystyle \\left[\\left(U,(a_{00}, a_{01}, a_{10})\\right), \\left(V,(b_{00}, b_{01}, b_{11})\\right)\\right]\\)</html>"
      ],
      "text/latex": [
       "$\\displaystyle \\left[\\left(U,(a_{00}, a_{01}, a_{10})\\right), \\left(V,(b_{00}, b_{01}, b_{11})\\right)\\right]$"
      ],
      "text/plain": [
       "[Chart (U, (a00, a01, a10)), Chart (V, (b00, b01, b11))]"
      ]
     },
     "execution_count": 65,
     "metadata": {},
     "output_type": "execute_result"
    }
   ],
   "source": [
    "SL2.atlas()"
   ]
  },
  {
   "cell_type": "markdown",
   "id": "cc68831d",
   "metadata": {
    "slideshow": {
     "slide_type": "subslide"
    }
   },
   "source": [
    "pero Sage aún piensa que $U$ y $V$ son abiertos disjuntos. Para resolver esto tenemos que definir el cambio de coordenadas. \n",
    "\n",
    "Si en la matriz $A = \\begin{pmatrix} a & b \\\\ c & d\\end{pmatrix}$ tenemos que $a \\neq 0$ y $b \\neq 0$ tendremos que\n",
    "\\begin{align*}\n",
    "a_{00}(A) = a, && a_{01}(A) = b, && a_{10}(A) = c \\\\\n",
    "b_{00}(A) = a, && b_{01}(A) = b, && b_{11}(A) = d\n",
    "\\end{align*}\n",
    "Luego\n",
    "\\begin{align*}\n",
    "b_{00} = a_{00}, && b_{01} = a_{01}, && b_{11} = \\frac{1 + a_{01}a_{10}}{a_{00}}\n",
    "\\end{align*}\n",
    "Para explicitar como son las coordenadas de `b` como función de las coordenadas de `a` usamos `a.transition_map(b, ...)`"
   ]
  },
  {
   "cell_type": "code",
   "execution_count": 66,
   "id": "6784445a",
   "metadata": {},
   "outputs": [
    {
     "data": {
      "text/html": [
       "<html>\\(\\displaystyle \\left\\{\\begin{array}{lcl} b_{00} & = & a_{00} \\\\ b_{01} & = & a_{01} \\\\ b_{11} & = & \\frac{a_{01} a_{10} + 1}{a_{00}} \\end{array}\\right.\\)</html>"
      ],
      "text/latex": [
       "$\\displaystyle \\left\\{\\begin{array}{lcl} b_{00} & = & a_{00} \\\\ b_{01} & = & a_{01} \\\\ b_{11} & = & \\frac{a_{01} a_{10} + 1}{a_{00}} \\end{array}\\right.$"
      ],
      "text/plain": [
       "b00 = a00\n",
       "b01 = a01\n",
       "b11 = (a01*a10 + 1)/a00"
      ]
     },
     "execution_count": 66,
     "metadata": {},
     "output_type": "execute_result"
    }
   ],
   "source": [
    "a_to_b = a.transition_map(b,\n",
    "                         (a00, a01, (1+a01*a10)/a00),\n",
    "                         intersection_name='W',\n",
    "                         restrictions1= [a00!=0,a01!=0],\n",
    "                         restrictions2 = [b00!=0,b01!=0]\n",
    "                         )\n",
    "a_to_b.display()"
   ]
  },
  {
   "cell_type": "markdown",
   "id": "6b5ec23e",
   "metadata": {
    "slideshow": {
     "slide_type": "subslide"
    }
   },
   "source": [
    "Para el otro cambio de coordenadas podemos usar el método `inverse()`."
   ]
  },
  {
   "cell_type": "code",
   "execution_count": 67,
   "id": "0244e6a7",
   "metadata": {},
   "outputs": [
    {
     "data": {
      "text/html": [
       "<html>\\(\\displaystyle \\left\\{\\begin{array}{lcl} a_{00} & = & b_{00} \\\\ a_{01} & = & b_{01} \\\\ a_{10} & = & \\frac{b_{00} b_{11} - 1}{b_{01}} \\end{array}\\right.\\)</html>"
      ],
      "text/latex": [
       "$\\displaystyle \\left\\{\\begin{array}{lcl} a_{00} & = & b_{00} \\\\ a_{01} & = & b_{01} \\\\ a_{10} & = & \\frac{b_{00} b_{11} - 1}{b_{01}} \\end{array}\\right.$"
      ],
      "text/plain": [
       "a00 = b00\n",
       "a01 = b01\n",
       "a10 = (b00*b11 - 1)/b01"
      ]
     },
     "execution_count": 67,
     "metadata": {},
     "output_type": "execute_result"
    }
   ],
   "source": [
    "b_to_a = a_to_b.inverse()\n",
    "b_to_a.display()"
   ]
  },
  {
   "cell_type": "markdown",
   "id": "1d43f520",
   "metadata": {
    "slideshow": {
     "slide_type": "-"
    }
   },
   "source": [
    "Ahora aparecen nuevos sistemas de coordenadas en nuestro atlas, por que en la intersección de los dominios de dos cartas coordendas, tenemos definidas dos tipos de coordenadas."
   ]
  },
  {
   "cell_type": "code",
   "execution_count": 68,
   "id": "114353fd",
   "metadata": {},
   "outputs": [
    {
     "data": {
      "text/html": [
       "<html>\\(\\displaystyle \\left[\\left(U,(a_{00}, a_{01}, a_{10})\\right), \\left(V,(b_{00}, b_{01}, b_{11})\\right), \\left(W,(a_{00}, a_{01}, a_{10})\\right), \\left(W,(b_{00}, b_{01}, b_{11})\\right)\\right]\\)</html>"
      ],
      "text/latex": [
       "$\\displaystyle \\left[\\left(U,(a_{00}, a_{01}, a_{10})\\right), \\left(V,(b_{00}, b_{01}, b_{11})\\right), \\left(W,(a_{00}, a_{01}, a_{10})\\right), \\left(W,(b_{00}, b_{01}, b_{11})\\right)\\right]$"
      ],
      "text/plain": [
       "[Chart (U, (a00, a01, a10)),\n",
       " Chart (V, (b00, b01, b11)),\n",
       " Chart (W, (a00, a01, a10)),\n",
       " Chart (W, (b00, b01, b11))]"
      ]
     },
     "execution_count": 68,
     "metadata": {},
     "output_type": "execute_result"
    }
   ],
   "source": [
    "SL2.atlas()"
   ]
  },
  {
   "cell_type": "markdown",
   "id": "0bb1b2d3",
   "metadata": {},
   "source": [
    "Veamos un ejemplo de un elemento de `SL2` que no está en dicha intersección."
   ]
  },
  {
   "cell_type": "code",
   "execution_count": 69,
   "id": "85371738",
   "metadata": {
    "slideshow": {
     "slide_type": "-"
    }
   },
   "outputs": [
    {
     "data": {
      "text/html": [
       "<html>\\(\\displaystyle \\mathrm{False}\\)</html>"
      ],
      "text/latex": [
       "$\\displaystyle \\mathrm{False}$"
      ],
      "text/plain": [
       "False"
      ]
     },
     "metadata": {},
     "output_type": "display_data"
    },
    {
     "data": {
      "text/html": [
       "<html>\\(\\displaystyle \\mathrm{True}\\)</html>"
      ],
      "text/latex": [
       "$\\displaystyle \\mathrm{True}$"
      ],
      "text/plain": [
       "True"
      ]
     },
     "metadata": {},
     "output_type": "display_data"
    }
   ],
   "source": [
    "A = SL2.point((0,16,-7),chart=b)\n",
    "display(A in U)\n",
    "display(A in V)"
   ]
  },
  {
   "cell_type": "markdown",
   "id": "0443f31e",
   "metadata": {
    "slideshow": {
     "slide_type": "subslide"
    }
   },
   "source": [
    "Podemos armar un pequeño programa que nos de la representación matricial de los elementos de `SL2`."
   ]
  },
  {
   "cell_type": "code",
   "execution_count": 70,
   "id": "2caac39c",
   "metadata": {},
   "outputs": [],
   "source": [
    "def SL2_to_mat(M):\n",
    "    if M in U:\n",
    "        M00,M01,M10 = M.coord(chart=a)\n",
    "        M11 = (1+M01*M10)/M00\n",
    "    else:\n",
    "        M00,M01,M11 = M.coord(chart=b)\n",
    "        M10 = (M00*M11-1)/M01\n",
    "    return matrix(2,2,[M00,M01,M10,M11])"
   ]
  },
  {
   "cell_type": "code",
   "execution_count": 71,
   "id": "c1a3ecd3",
   "metadata": {},
   "outputs": [
    {
     "data": {
      "text/html": [
       "<html>\\(\\displaystyle \\left(\\begin{array}{rr}\n",
       "0 & 16 \\\\\n",
       "-\\frac{1}{16} & -7\n",
       "\\end{array}\\right)\\)</html>"
      ],
      "text/latex": [
       "$\\displaystyle \\left(\\begin{array}{rr}\n",
       "0 & 16 \\\\\n",
       "-\\frac{1}{16} & -7\n",
       "\\end{array}\\right)$"
      ],
      "text/plain": [
       "[    0    16]\n",
       "[-1/16    -7]"
      ]
     },
     "execution_count": 71,
     "metadata": {},
     "output_type": "execute_result"
    }
   ],
   "source": [
    "A_mat = SL2_to_mat(A); A_mat"
   ]
  },
  {
   "cell_type": "markdown",
   "id": "0f7a27bf",
   "metadata": {
    "slideshow": {
     "slide_type": "subslide"
    }
   },
   "source": [
    "Con la representación matricial podemos usar todos los métodos que Sage tiene definidos para matrices. Por ejemplo:"
   ]
  },
  {
   "cell_type": "code",
   "execution_count": 72,
   "id": "e39c4cdd",
   "metadata": {},
   "outputs": [
    {
     "data": {
      "text/html": [
       "<html>\\(\\displaystyle \\newcommand{\\Bold}[1]{\\mathbf{#1}}\\mathrm{Mat}_{2\\times 2}(\\Bold{Q})\\)</html>"
      ],
      "text/latex": [
       "$\\displaystyle \\newcommand{\\Bold}[1]{\\mathbf{#1}}\\mathrm{Mat}_{2\\times 2}(\\Bold{Q})$"
      ],
      "text/plain": [
       "Full MatrixSpace of 2 by 2 dense matrices over Rational Field"
      ]
     },
     "metadata": {},
     "output_type": "display_data"
    },
    {
     "data": {
      "text/html": [
       "<html>\\(\\displaystyle 1\\)</html>"
      ],
      "text/latex": [
       "$\\displaystyle 1$"
      ],
      "text/plain": [
       "1"
      ]
     },
     "metadata": {},
     "output_type": "display_data"
    },
    {
     "data": {
      "text/html": [
       "<html>\\(\\displaystyle x^{2} + 7 x + 1\\)</html>"
      ],
      "text/latex": [
       "$\\displaystyle x^{2} + 7 x + 1$"
      ],
      "text/plain": [
       "x^2 + 7*x + 1"
      ]
     },
     "metadata": {},
     "output_type": "display_data"
    },
    {
     "data": {
      "text/html": [
       "<html>\\(\\displaystyle \\left(\\begin{array}{rr}\n",
       "-7 & -16 \\\\\n",
       "\\frac{1}{16} & 0\n",
       "\\end{array}\\right)\\)</html>"
      ],
      "text/latex": [
       "$\\displaystyle \\left(\\begin{array}{rr}\n",
       "-7 & -16 \\\\\n",
       "\\frac{1}{16} & 0\n",
       "\\end{array}\\right)$"
      ],
      "text/plain": [
       "[  -7  -16]\n",
       "[1/16    0]"
      ]
     },
     "execution_count": 72,
     "metadata": {},
     "output_type": "execute_result"
    }
   ],
   "source": [
    "display(A_mat.parent())\n",
    "display(A_mat.det())\n",
    "display(A_mat.characteristic_polynomial())\n",
    "A_mat.inverse()"
   ]
  },
  {
   "cell_type": "markdown",
   "id": "fe093e18",
   "metadata": {
    "slideshow": {
     "slide_type": "subslide"
    }
   },
   "source": [
    "También podemos escribir un programa reciba matrices de determinante 1 y devuelva puntos de `SL2`."
   ]
  },
  {
   "cell_type": "code",
   "execution_count": 73,
   "id": "67fd37cd",
   "metadata": {},
   "outputs": [],
   "source": [
    "def mat_to_SL2(A):\n",
    "    \"\"\"\n",
    "    Atención: este programa no chequea si A.det(1) == 1, \n",
    "    tampoco chequea si los coeficientes de A son reales.\n",
    "    \"\"\"\n",
    "    if A[0,0] != 0:\n",
    "        return SL2.point((A[0,0],A[0,1],A[1,0]),chart=a)\n",
    "    else:\n",
    "        return SL2.point((A[0,0],A[0,1],A[1,1]),chart=b)"
   ]
  },
  {
   "cell_type": "code",
   "execution_count": 74,
   "id": "762dc3e6",
   "metadata": {},
   "outputs": [
    {
     "data": {
      "text/html": [
       "<html>\\(\\displaystyle \\left(\\begin{array}{rr}\n",
       "0 & 1 \\\\\n",
       "-1 & 2\n",
       "\\end{array}\\right)\\)</html>"
      ],
      "text/latex": [
       "$\\displaystyle \\left(\\begin{array}{rr}\n",
       "0 & 1 \\\\\n",
       "-1 & 2\n",
       "\\end{array}\\right)$"
      ],
      "text/plain": [
       "[ 0  1]\n",
       "[-1  2]"
      ]
     },
     "execution_count": 74,
     "metadata": {},
     "output_type": "execute_result"
    }
   ],
   "source": [
    "A_mat = matrix(2,2,[0,1,-1,2]); A_mat"
   ]
  },
  {
   "cell_type": "code",
   "execution_count": 75,
   "id": "06010c08",
   "metadata": {
    "slideshow": {
     "slide_type": "subslide"
    }
   },
   "outputs": [
    {
     "data": {
      "text/html": [
       "<html>\\(\\displaystyle \\mathrm{False}\\)</html>"
      ],
      "text/latex": [
       "$\\displaystyle \\mathrm{False}$"
      ],
      "text/plain": [
       "False"
      ]
     },
     "metadata": {},
     "output_type": "display_data"
    },
    {
     "data": {
      "text/html": [
       "<html>\\(\\displaystyle \\mathrm{True}\\)</html>"
      ],
      "text/latex": [
       "$\\displaystyle \\mathrm{True}$"
      ],
      "text/plain": [
       "True"
      ]
     },
     "metadata": {},
     "output_type": "display_data"
    },
    {
     "data": {
      "text/html": [
       "<html>\\(\\displaystyle \\left(0, 1, 2\\right)\\)</html>"
      ],
      "text/latex": [
       "$\\displaystyle \\left(0, 1, 2\\right)$"
      ],
      "text/plain": [
       "(0, 1, 2)"
      ]
     },
     "execution_count": 75,
     "metadata": {},
     "output_type": "execute_result"
    }
   ],
   "source": [
    "A = mat_to_SL2(A_mat)\n",
    "display(A in U)\n",
    "display(A in V)\n",
    "A.coord(b)"
   ]
  },
  {
   "cell_type": "markdown",
   "id": "9c34bdd6",
   "metadata": {
    "slideshow": {
     "slide_type": "fragment"
    }
   },
   "source": [
    "**Ejercicio.** ¿Qué pasaría si hacemos `A.coord()`?"
   ]
  },
  {
   "cell_type": "markdown",
   "id": "a880c24f",
   "metadata": {
    "slideshow": {
     "slide_type": "slide"
    }
   },
   "source": [
    "# Campos invariantes a izquierda\n",
    "\n",
    "Si bien, en general, los grupos de Lie no se pueden cubrir con una sola carta, siempre dispondremos de un frame global de campos *invariantes a izquierda*. Si $G$ es un grupo de Lie, $e \\in G$ es elelemento neutro y $v \\in T_eG$. El campo invariante a izquierda $X^v$ inducido por $v$ se define como\n",
    "$$\n",
    "X^v|_g = dL_g|_e v = \\frac{d}{dt} \\bigg|_0 g \\cdot c(t), \\qquad g \\in G,\n",
    "$$\n",
    "en donde $c(0) = e$ y $c'(0) = v$.\n",
    "\n",
    "El corchete de Lie de dos campos invariantes a izquierda es nuevamente invariante a izquierda. Más aún,\n",
    "$$\n",
    "\\mathfrak g = \\{X \\in \\mathfrak X(G): X \\text{ es invariante a izquierda}\\}\n",
    "$$\n",
    "es una subálgebra de Lie de dimensión finita $\\dim \\mathfrak g = \\dim G$ de $\\mathfrak X(G)$, llamada el *álgebra de Lie de* $G$. El álgebra de Lie es la versión infinitesimal de un grupo de Lie y todo grupo de Lie queda determinado localmente por su álgebra de Lie.\n",
    "\n",
    "Tratemos de definir un campo invariante a izquierda en `SL2` (esta es una de esas cosas que es más fácil de hacer en papel que en Sage). En primer lugar, notemos que el álgebra de Lie $\\mathfrak{sl}_2(\\mathbb R)$ de $SL_2(\\mathbb R)$ queda determinada por $T_ISL_2(\\mathbb R)$.\n",
    "\n",
    "**Ejercicio:** La derivada en $t = 0$ de una curva de matrices de determinante $1$ que en $0$ pasa por $I$ tiene traza $0$. Es decir, \n",
    "$$\n",
    "T_ISL_2(\\mathbb R) = \\{X \\in M_{2 \\times 2}(\\mathbb R): \\operatorname{tr}A = 0\\}.\n",
    "$$ \n",
    "\n",
    "Tomemos, por ejemplo, \n",
    "$$\n",
    "v = c'(0) = \n",
    "\\begin{pmatrix} 0 & 1 \\\\\n",
    "0 & 0 \n",
    "\\end{pmatrix}, \\qquad \\text{ donde } c(t) = \n",
    "\\begin{pmatrix} 1 & t \\\\ \n",
    "0 & 1 \n",
    "\\end{pmatrix}\n",
    "$$\n",
    "\n",
    "Sea $X$ el campo invariante a izquierda tal que $X_I = v$. Calculemos $X_A$ con $A = \\begin{pmatrix} a & b \\\\ c & d\\end{pmatrix}$:\n",
    "$$\n",
    "\\frac{d}{dt}\\bigg|_0 A \\cdot c(t) = \\frac{d}{dt}\\bigg|_0 \n",
    "\\begin{pmatrix}\n",
    "a & at + b \\\\\n",
    "c & ct + d\n",
    "\\end{pmatrix}\n",
    "$$\n",
    "\n",
    "Para ver cuáles son las componentes de $X$ tenemos que trabajar en coordenadas. Si $A \\in U$, \n",
    "$$\\frac{d}{dt}\\big|_0 (a, at + b, c) = (0, a, 0).$$\n",
    "Por otro lado, si $A \\in V$, \n",
    "$$\\frac{d}{dt}\\big|_0 (a, at + b, ct + d) = (0, a, c) = (0, a, (ad - 1)/b ).$$\n"
   ]
  },
  {
   "cell_type": "markdown",
   "id": "4642d558",
   "metadata": {},
   "source": [
    "Primero inicializamos un campo `X`"
   ]
  },
  {
   "cell_type": "code",
   "execution_count": 76,
   "id": "ae144b9a",
   "metadata": {
    "slideshow": {
     "slide_type": "subslide"
    }
   },
   "outputs": [
    {
     "data": {
      "text/html": [
       "<html>\\(\\displaystyle \\mathfrak{X}\\left(SL_2(\\mathbb R)\\right)\\)</html>"
      ],
      "text/latex": [
       "$\\displaystyle \\mathfrak{X}\\left(SL_2(\\mathbb R)\\right)$"
      ],
      "text/plain": [
       "Module X(SL_2(\\mathbb R)) of vector fields on the 3-dimensional differentiable manifold SL_2(\\mathbb R)"
      ]
     },
     "execution_count": 76,
     "metadata": {},
     "output_type": "execute_result"
    }
   ],
   "source": [
    "X = SL2.vector_field(name='X')\n",
    "X.parent()"
   ]
  },
  {
   "cell_type": "markdown",
   "id": "28fd3e6b",
   "metadata": {},
   "source": [
    "y luego indicamos cuáles son sus coeficientes según los campos coordenados:"
   ]
  },
  {
   "cell_type": "code",
   "execution_count": 77,
   "id": "0d9634ba",
   "metadata": {},
   "outputs": [
    {
     "data": {
      "text/html": [
       "<html>\\(\\displaystyle X = a_{00} \\frac{\\partial}{\\partial a_{01} }\\)</html>"
      ],
      "text/latex": [
       "$\\displaystyle X = a_{00} \\frac{\\partial}{\\partial a_{01} }$"
      ],
      "text/plain": [
       "X = a00 ∂/∂a01"
      ]
     },
     "metadata": {},
     "output_type": "display_data"
    },
    {
     "data": {
      "text/html": [
       "<html>\\(\\displaystyle X = b_{00} \\frac{\\partial}{\\partial b_{01} } + \\left( \\frac{b_{00} b_{11} - 1}{b_{01}} \\right) \\frac{\\partial}{\\partial b_{11} }\\)</html>"
      ],
      "text/latex": [
       "$\\displaystyle X = b_{00} \\frac{\\partial}{\\partial b_{01} } + \\left( \\frac{b_{00} b_{11} - 1}{b_{01}} \\right) \\frac{\\partial}{\\partial b_{11} }$"
      ],
      "text/plain": [
       "X = b00 ∂/∂b01 + (b00*b11 - 1)/b01 ∂/∂b11"
      ]
     },
     "metadata": {},
     "output_type": "display_data"
    }
   ],
   "source": [
    "X[a.frame(),:] = [0,a00,0]\n",
    "X[b.frame(),:] = [0,b00,(b00*b11-1)/b01]\n",
    "display(X.display(a))\n",
    "display(X.display(b))"
   ]
  },
  {
   "cell_type": "markdown",
   "id": "81113b1b",
   "metadata": {
    "slideshow": {
     "slide_type": "subslide"
    }
   },
   "source": [
    "Por la forma en que lo definimos, ya sabemos que $X$ es invariante a izquierda. A modo de ejemplo, verifiquemos con alguna matriz $A$ que\n",
    "$$\n",
    "X_A = dL_A|_I(X_I)\n",
    "$$"
   ]
  },
  {
   "cell_type": "code",
   "execution_count": 78,
   "id": "05e2ba6c",
   "metadata": {},
   "outputs": [
    {
     "data": {
      "text/html": [
       "<html>\\(\\displaystyle \\left(\\begin{array}{rr}\n",
       "1 & 0 \\\\\n",
       "2 & 1\n",
       "\\end{array}\\right)\\)</html>"
      ],
      "text/latex": [
       "$\\displaystyle \\left(\\begin{array}{rr}\n",
       "1 & 0 \\\\\n",
       "2 & 1\n",
       "\\end{array}\\right)$"
      ],
      "text/plain": [
       "[1 0]\n",
       "[2 1]"
      ]
     },
     "metadata": {},
     "output_type": "display_data"
    },
    {
     "data": {
      "text/html": [
       "<html>\\(\\displaystyle \\mathrm{True}\\)</html>"
      ],
      "text/latex": [
       "$\\displaystyle \\mathrm{True}$"
      ],
      "text/plain": [
       "True"
      ]
     },
     "metadata": {},
     "output_type": "display_data"
    },
    {
     "data": {
      "text/html": [
       "<html>\\(\\displaystyle \\mathrm{False}\\)</html>"
      ],
      "text/latex": [
       "$\\displaystyle \\mathrm{False}$"
      ],
      "text/plain": [
       "False"
      ]
     },
     "metadata": {},
     "output_type": "display_data"
    }
   ],
   "source": [
    "A = SL2.point((1,0,2),name='A')\n",
    "display(SL2_to_mat(A))\n",
    "display(A in U)\n",
    "display(A in V)"
   ]
  },
  {
   "cell_type": "markdown",
   "id": "cffdd83d",
   "metadata": {},
   "source": [
    "Para calcular $L_A : SL_2(\\mathbb R) \\to SL_2(\\mathbb R)$ necesitamos saber cuáles son las coordenadas de $AB$ para cualquier $B \\in SL_2(\\mathbb R)$. En este caso tenemos una pequeña ventaja, ya que $L_A(U) \\subset U$ y $L_A(V) \\subset V$.\n",
    "\n",
    "Un punto genérico en $U$ se puede obtener como sigue."
   ]
  },
  {
   "cell_type": "code",
   "execution_count": 79,
   "id": "76c2ba08",
   "metadata": {},
   "outputs": [
    {
     "data": {
      "text/html": [
       "<html>\\(\\displaystyle \\left(\\left(\\begin{array}{rr}\n",
       "1 & 0 \\\\\n",
       "2 & 1\n",
       "\\end{array}\\right), \\left(\\begin{array}{rr}\n",
       "a_{00} & a_{01} \\\\\n",
       "a_{10} & \\frac{a_{01} a_{10} + 1}{a_{00}}\n",
       "\\end{array}\\right)\\right)\\)</html>"
      ],
      "text/latex": [
       "$\\displaystyle \\left(\\left(\\begin{array}{rr}\n",
       "1 & 0 \\\\\n",
       "2 & 1\n",
       "\\end{array}\\right), \\left(\\begin{array}{rr}\n",
       "a_{00} & a_{01} \\\\\n",
       "a_{10} & \\frac{a_{01} a_{10} + 1}{a_{00}}\n",
       "\\end{array}\\right)\\right)$"
      ],
      "text/plain": [
       "(\n",
       "[1 0]  [              a00               a01]\n",
       "[2 1], [              a10 (a01*a10 + 1)/a00]\n",
       ")"
      ]
     },
     "execution_count": 79,
     "metadata": {},
     "output_type": "execute_result"
    }
   ],
   "source": [
    "assume(a00!=0,b01!=0) #para que las coordenadas sean válidas\n",
    "SL2.point(a[:])\n",
    "SL2_to_mat(A), SL2_to_mat(SL2.point(a[:]))"
   ]
  },
  {
   "cell_type": "markdown",
   "id": "a083926c",
   "metadata": {},
   "source": [
    "Ahora podemos multiplicar normalmente las matrices"
   ]
  },
  {
   "cell_type": "code",
   "execution_count": 80,
   "id": "93c40609",
   "metadata": {},
   "outputs": [
    {
     "data": {
      "text/html": [
       "<html>\\(\\displaystyle \\left(\\begin{array}{rr}\n",
       "a_{00} & a_{01} \\\\\n",
       "2 \\, a_{00} + a_{10} & 2 \\, a_{01} + \\frac{a_{01} a_{10} + 1}{a_{00}}\n",
       "\\end{array}\\right)\\)</html>"
      ],
      "text/latex": [
       "$\\displaystyle \\left(\\begin{array}{rr}\n",
       "a_{00} & a_{01} \\\\\n",
       "2 \\, a_{00} + a_{10} & 2 \\, a_{01} + \\frac{a_{01} a_{10} + 1}{a_{00}}\n",
       "\\end{array}\\right)$"
      ],
      "text/plain": [
       "[                      a00                       a01]\n",
       "[              2*a00 + a10 2*a01 + (a01*a10 + 1)/a00]"
      ]
     },
     "execution_count": 80,
     "metadata": {},
     "output_type": "execute_result"
    }
   ],
   "source": [
    "SL2_to_mat(A) * SL2_to_mat(SL2.point(a[:]))"
   ]
  },
  {
   "cell_type": "markdown",
   "id": "f93486e9",
   "metadata": {
    "slideshow": {
     "slide_type": "subslide"
    }
   },
   "source": [
    "y luego volver a `SL2` con `mat_to_SL2`"
   ]
  },
  {
   "cell_type": "code",
   "execution_count": 81,
   "id": "802a1096",
   "metadata": {},
   "outputs": [
    {
     "data": {
      "text/html": [
       "<html>\\(\\displaystyle \\left(a_{00}, a_{01}, 2 \\, a_{00} + a_{10}\\right)\\)</html>"
      ],
      "text/latex": [
       "$\\displaystyle \\left(a_{00}, a_{01}, 2 \\, a_{00} + a_{10}\\right)$"
      ],
      "text/plain": [
       "(a00, a01, 2*a00 + a10)"
      ]
     },
     "execution_count": 81,
     "metadata": {},
     "output_type": "execute_result"
    }
   ],
   "source": [
    "mat_to_SL2(SL2_to_mat(A) * SL2_to_mat(SL2.point(a[:]))).coord() "
   ]
  },
  {
   "cell_type": "markdown",
   "id": "83226c70",
   "metadata": {
    "slideshow": {
     "slide_type": "subslide"
    }
   },
   "source": [
    "Una forma fácil de obtener las coordenadas en el formato apropiado es usar `print()` y luego copiarlas."
   ]
  },
  {
   "cell_type": "code",
   "execution_count": 82,
   "id": "9b0a5c15",
   "metadata": {},
   "outputs": [
    {
     "name": "stdout",
     "output_type": "stream",
     "text": [
      "(a00, a01, 2*a00 + a10)\n"
     ]
    }
   ],
   "source": [
    "print(_)"
   ]
  },
  {
   "cell_type": "markdown",
   "id": "09e438fb",
   "metadata": {},
   "source": [
    "Hacemos lo mismo con los puntos de $V$ (teniendo cuidado de usar las coordenadas de la carta `b`)."
   ]
  },
  {
   "cell_type": "code",
   "execution_count": 83,
   "id": "a9ba1996",
   "metadata": {},
   "outputs": [
    {
     "name": "stdout",
     "output_type": "stream",
     "text": [
      "(b00, b01, 2*b01 + b11)\n"
     ]
    }
   ],
   "source": [
    "print(mat_to_SL2(SL2_to_mat(A) * \\\n",
    "                 SL2_to_mat(SL2.point(b[:],b))).coord(b))"
   ]
  },
  {
   "cell_type": "markdown",
   "id": "d9982181",
   "metadata": {
    "slideshow": {
     "slide_type": "subslide"
    }
   },
   "source": [
    "Ya estamos en condiciones de definir el difeomorfismo $L_A$ ya que conocemos la expresión en todos los sistemas de coordenadas."
   ]
  },
  {
   "cell_type": "code",
   "execution_count": 84,
   "id": "c36e1d22",
   "metadata": {},
   "outputs": [
    {
     "data": {
      "text/html": [
       "<html>\\(\\displaystyle \\begin{array}{llcl} L_A:& SL_2(\\mathbb R) & \\longrightarrow & SL_2(\\mathbb R) \\\\ \\text{on}\\ U : & \\left(a_{00}, a_{01}, a_{10}\\right) & \\longmapsto & \\left(a_{00}, a_{01}, 2 \\, a_{00} + a_{10}\\right) \\\\ \\text{on}\\ V : & \\left(b_{00}, b_{01}, b_{11}\\right) & \\longmapsto & \\left(b_{00}, b_{01}, 2 \\, b_{01} + b_{11}\\right) \\end{array}\\)</html>"
      ],
      "text/latex": [
       "$\\displaystyle \\begin{array}{llcl} L_A:& SL_2(\\mathbb R) & \\longrightarrow & SL_2(\\mathbb R) \\\\ \\text{on}\\ U : & \\left(a_{00}, a_{01}, a_{10}\\right) & \\longmapsto & \\left(a_{00}, a_{01}, 2 \\, a_{00} + a_{10}\\right) \\\\ \\text{on}\\ V : & \\left(b_{00}, b_{01}, b_{11}\\right) & \\longmapsto & \\left(b_{00}, b_{01}, 2 \\, b_{01} + b_{11}\\right) \\end{array}$"
      ],
      "text/plain": [
       "L_A: SL_2(\\mathbb R) → SL_2(\\mathbb R)\n",
       "on U: (a00, a01, a10) ↦ (a00, a01, 2*a00 + a10)\n",
       "on V: (b00, b01, b11) ↦ (b00, b01, 2*b01 + b11)"
      ]
     },
     "execution_count": 84,
     "metadata": {},
     "output_type": "execute_result"
    }
   ],
   "source": [
    "LA = SL2.diff_map(SL2,{(a,a):(a00, a01, 2*a00 + a10),\n",
    "             (b,b):(b00, b01, 2*b01 + b11)},name=\"L_A\")\n",
    "LA.display()"
   ]
  },
  {
   "cell_type": "markdown",
   "id": "7df05310",
   "metadata": {
    "slideshow": {
     "slide_type": "subslide"
    }
   },
   "source": [
    "Definimos la matriz identidad."
   ]
  },
  {
   "cell_type": "code",
   "execution_count": 85,
   "id": "0393d87e",
   "metadata": {},
   "outputs": [
    {
     "data": {
      "text/html": [
       "<html>\\(\\displaystyle \\left(\\begin{array}{rr}\n",
       "1 & 0 \\\\\n",
       "0 & 1\n",
       "\\end{array}\\right)\\)</html>"
      ],
      "text/latex": [
       "$\\displaystyle \\left(\\begin{array}{rr}\n",
       "1 & 0 \\\\\n",
       "0 & 1\n",
       "\\end{array}\\right)$"
      ],
      "text/plain": [
       "[1 0]\n",
       "[0 1]"
      ]
     },
     "metadata": {},
     "output_type": "display_data"
    },
    {
     "data": {
      "text/html": [
       "<html>\\(\\displaystyle \\mathrm{True}\\)</html>"
      ],
      "text/latex": [
       "$\\displaystyle \\mathrm{True}$"
      ],
      "text/plain": [
       "True"
      ]
     },
     "execution_count": 85,
     "metadata": {},
     "output_type": "execute_result"
    }
   ],
   "source": [
    "I2 = SL2.point((1,0,0),name='I_2')\n",
    "display(SL2_to_mat(I2))\n",
    "LA(I2)== A #chequeamos A * I2 = A"
   ]
  },
  {
   "cell_type": "markdown",
   "id": "ae457872",
   "metadata": {
    "slideshow": {
     "slide_type": "subslide"
    }
   },
   "source": [
    "Calculamos la diferencial $dL_A|_{I_2} : T_{I_2} SL_2(\\mathbb R) \\to T_A SL_2(\\mathbb R)$"
   ]
  },
  {
   "cell_type": "code",
   "execution_count": 86,
   "id": "9a542dbe",
   "metadata": {},
   "outputs": [
    {
     "data": {
      "text/html": [
       "<html>\\(\\displaystyle \\mathrm{Hom}\\left(T_{I_2}\\,SL_2(\\mathbb R),T_{L_A\\left(I_2\\right)}\\,SL_2(\\mathbb R)\\right)\\)</html>"
      ],
      "text/latex": [
       "$\\displaystyle \\mathrm{Hom}\\left(T_{I_2}\\,SL_2(\\mathbb R),T_{L_A\\left(I_2\\right)}\\,SL_2(\\mathbb R)\\right)$"
      ],
      "text/plain": [
       "Set of Morphisms from Tangent space at Point I_2 on the 3-dimensional differentiable manifold SL_2(\\mathbb R) to Tangent space at Point L_A(I_2) on the 3-dimensional differentiable manifold SL_2(\\mathbb R) in Category of finite dimensional vector spaces over Symbolic Ring"
      ]
     },
     "metadata": {},
     "output_type": "display_data"
    },
    {
     "data": {
      "text/html": [
       "<html>\\(\\displaystyle \\left(\\begin{array}{rrr}\n",
       "1 & 0 & 0 \\\\\n",
       "0 & 1 & 0 \\\\\n",
       "2 & 0 & 1\n",
       "\\end{array}\\right)\\)</html>"
      ],
      "text/latex": [
       "$\\displaystyle \\left(\\begin{array}{rrr}\n",
       "1 & 0 & 0 \\\\\n",
       "0 & 1 & 0 \\\\\n",
       "2 & 0 & 1\n",
       "\\end{array}\\right)$"
      ],
      "text/plain": [
       "[1 0 0]\n",
       "[0 1 0]\n",
       "[2 0 1]"
      ]
     },
     "execution_count": 86,
     "metadata": {},
     "output_type": "execute_result"
    }
   ],
   "source": [
    "dLA = LA.differential(I2)\n",
    "display(dLA.parent())\n",
    "dLA.matrix()"
   ]
  },
  {
   "cell_type": "markdown",
   "id": "43af0fa3",
   "metadata": {
    "slideshow": {
     "slide_type": "subslide"
    }
   },
   "source": [
    "Y finalmente chequeamos que $dL_A|_{I_2} X_{I_2} = X_A$"
   ]
  },
  {
   "cell_type": "code",
   "execution_count": 87,
   "id": "d0f46efe",
   "metadata": {},
   "outputs": [
    {
     "data": {
      "text/html": [
       "<html>\\(\\displaystyle \\mathrm{True}\\)</html>"
      ],
      "text/latex": [
       "$\\displaystyle \\mathrm{True}$"
      ],
      "text/plain": [
       "True"
      ]
     },
     "execution_count": 87,
     "metadata": {},
     "output_type": "execute_result"
    }
   ],
   "source": [
    "dLA(X.at(I2)) == X.at(A)"
   ]
  },
  {
   "cell_type": "markdown",
   "id": "8dc99dbc",
   "metadata": {
    "slideshow": {
     "slide_type": "subslide"
    }
   },
   "source": [
    "### Ejercicio\n",
    "\n",
    "1) Escribir una función `left_translation(A)` que reciba un elemento $A \\in SL_2(\\mathbb R)$ y devuelva la traslación a izquierda $L_A: SL_2(\\mathbb R) \\to SL_2(\\mathbb R)$.\n",
    "\n",
    "2) Definir un frame invariante a izquierda en `SL2`."
   ]
  },
  {
   "cell_type": "markdown",
   "id": "f1d39c79",
   "metadata": {
    "slideshow": {
     "slide_type": "slide"
    }
   },
   "source": [
    "# Teoría de Lie en 2'\n",
    "\n",
    "## Teorema de Ado\n",
    "\n",
    "Toda álgebra de Lie (real) de dimensión finita es isomorfa a una subálgebra de Lie de $\\mathfrak{gl}_n(\\mathbb R)$ para algún $n$. Es decir, toda álgebra de Lie puede penarse como una subálgebra de matrices con respecto al corchete\n",
    "$$\n",
    "[A, B] = AB - BA\n",
    "$$\n",
    "\n",
    "## Álgebras de Lie semisimples y solubles\n",
    "\n",
    "Hay dos clases distinguidas de álgebras de Lie de dimensión finita: las algebras de Lie *(semi)simples* y las álgebras de Lie *solubles*. Las álgebras de Lie semimples son las \"más sencillas\", están clasificadas y de esta [clasificación](https://en.wikipedia.org/wiki/Semisimple_Lie_algebra) sabemos que hay una cantidad finita en cada dimensión. Por otro lado las álgebras de Lie solubles pueden presentarse como subálgebras de matrices triangulares, aunque son bastante más complicadas de describir. No existe una clasificación completa y se sabe que hay familias infinitas de álgebras solubles no isomorfas en una misma dimensión (a partir de dimensión 3).\n",
    "\n",
    "El **Teorema de descomposición de Levi** nos dice que toda álgebra de Lie $\\mathfrak g$ tiene una parte soluble y una parte semisimple que determinan completamente su estructura  \n",
    "$$\n",
    "\\mathfrak g \\simeq \\mathfrak g_{\\mathrm{sol}} \\rtimes \\mathfrak g_{\\mathrm{ss}}\n",
    "$$"
   ]
  },
  {
   "cell_type": "markdown",
   "id": "d418ad73",
   "metadata": {
    "slideshow": {
     "slide_type": "subslide"
    }
   },
   "source": [
    "## ¿Cómo pasamos del álgebra de Lie al grupo de Lie?\n",
    "\n",
    "Si $G \\subset GL_n(\\mathbb R)$ es un grupo de Lie y $\\mathfrak g \\subset \\mathfrak{gl}_n(\\mathbb R)$ es su álgebra de Lie, la función exponencial nos da un difeomorfismo local entre un entorno del origen en $\\mathfrak g$ y un entorno de la identidad en $G$.\n",
    "\\begin{align*}\n",
    "\\exp : \\mathfrak g &\\to G \\\\\n",
    " A & \\mapsto e^A = I_n + A + \\frac{1}{2!}A^2 + \\frac{1}{3!}A^3 + \\cdots\n",
    "\\end{align*}"
   ]
  },
  {
   "cell_type": "markdown",
   "id": "862c8300",
   "metadata": {
    "slideshow": {
     "slide_type": "subslide"
    }
   },
   "source": [
    "Una familia muy importante de grupos/álgebras de Lie solubles son los grupos/álgebras de Lie *nilpotentes*. Si pensamos matricialmente un álgebra de Lie nilpotente, sus elementos se pueden representar con matrices triangulares estrictas. Una ventaja de los grupos de Lie solubles y, sobre todo, los nilpotentes (simplemente conexos) es que son mucho más fáciles de implementar en Sage, ya se pueden cubrir con una sola carta\n",
    "\n",
    "\n",
    "**Teorema.**\n",
    "1) Si $G$ es soluble simplemente conexo, entonces $G$ es difeomorfo a $\\mathbb R^n$ con $n = \\dim G$.\n",
    "\n",
    "2) Si $G$ es nilpotente simplemente conexo, entonces $\\exp: \\mathfrak g \\to G$ es un difeomorfismo. Más aún, la serie de $e^A$ es una suma finita para toda $A \\in \\mathfrak g$."
   ]
  },
  {
   "cell_type": "markdown",
   "id": "c4db199a",
   "metadata": {
    "slideshow": {
     "slide_type": "subslide"
    }
   },
   "source": [
    "Sage también viene con álgebras de Lie"
   ]
  },
  {
   "cell_type": "code",
   "execution_count": 88,
   "id": "b191dac3",
   "metadata": {},
   "outputs": [
    {
     "name": "stdout",
     "output_type": "stream",
     "text": [
      "Special linear Lie algebra of rank 2 over Rational Field\n"
     ]
    },
    {
     "data": {
      "text/html": [
       "<html>\\(\\displaystyle \\left(\\left(\\begin{array}{rr}\n",
       "0 & 1 \\\\\n",
       "0 & 0\n",
       "\\end{array}\\right), \\left(\\begin{array}{rr}\n",
       "0 & 0 \\\\\n",
       "1 & 0\n",
       "\\end{array}\\right), \\left(\\begin{array}{rr}\n",
       "1 & 0 \\\\\n",
       "0 & -1\n",
       "\\end{array}\\right)\\right)\\)</html>"
      ],
      "text/latex": [
       "$\\displaystyle \\left(\\left(\\begin{array}{rr}\n",
       "0 & 1 \\\\\n",
       "0 & 0\n",
       "\\end{array}\\right), \\left(\\begin{array}{rr}\n",
       "0 & 0 \\\\\n",
       "1 & 0\n",
       "\\end{array}\\right), \\left(\\begin{array}{rr}\n",
       "1 & 0 \\\\\n",
       "0 & -1\n",
       "\\end{array}\\right)\\right)$"
      ],
      "text/plain": [
       "(\n",
       "[0 1]  [0 0]  [ 1  0]\n",
       "[0 0], [1 0], [ 0 -1]\n",
       ")"
      ]
     },
     "metadata": {},
     "output_type": "display_data"
    },
    {
     "data": {
      "text/html": [
       "<html>\\(\\displaystyle \\mathrm{False}\\)</html>"
      ],
      "text/latex": [
       "$\\displaystyle \\mathrm{False}$"
      ],
      "text/plain": [
       "False"
      ]
     },
     "metadata": {},
     "output_type": "display_data"
    },
    {
     "data": {
      "text/html": [
       "<html>\\(\\displaystyle \\mathrm{True}\\)</html>"
      ],
      "text/latex": [
       "$\\displaystyle \\mathrm{True}$"
      ],
      "text/plain": [
       "True"
      ]
     },
     "metadata": {},
     "output_type": "display_data"
    },
    {
     "data": {
      "text/html": [
       "<html>\\(\\displaystyle \\mathrm{False}\\)</html>"
      ],
      "text/latex": [
       "$\\displaystyle \\mathrm{False}$"
      ],
      "text/plain": [
       "False"
      ]
     },
     "metadata": {},
     "output_type": "display_data"
    }
   ],
   "source": [
    "sl2 = lie_algebras.sl(QQ,2, representation='matrix')\n",
    "print(sl2)\n",
    "display(sl2.gens())\n",
    "display(sl2.is_abelian())\n",
    "display(sl2.is_semisimple())\n",
    "display(sl2.is_solvable())"
   ]
  },
  {
   "cell_type": "markdown",
   "id": "eb7ec16c",
   "metadata": {
    "slideshow": {
     "slide_type": "subslide"
    }
   },
   "source": [
    "El ejemplo más famoso de un álgebra de Lie nilpotente es el *álgebra de Lie de Heisenberg*, la cual tiene una base $X, Y, Z$ con el único corchete no trivial\n",
    "$$\n",
    "[X, Y] = Z\n",
    "$$"
   ]
  },
  {
   "cell_type": "code",
   "execution_count": 89,
   "id": "d30295f0",
   "metadata": {},
   "outputs": [
    {
     "name": "stdout",
     "output_type": "stream",
     "text": [
      "Heisenberg algebra of rank 1 over Rational Field\n"
     ]
    },
    {
     "data": {
      "text/html": [
       "<html>\\(\\displaystyle 3\\)</html>"
      ],
      "text/latex": [
       "$\\displaystyle 3$"
      ],
      "text/plain": [
       "3"
      ]
     },
     "metadata": {},
     "output_type": "display_data"
    },
    {
     "data": {
      "text/html": [
       "<html>\\(\\displaystyle \\left(\\left(\\begin{array}{rrr}\n",
       "0 & 1 & 0 \\\\\n",
       "0 & 0 & 0 \\\\\n",
       "0 & 0 & 0\n",
       "\\end{array}\\right), \\left(\\begin{array}{rrr}\n",
       "0 & 0 & 0 \\\\\n",
       "0 & 0 & 1 \\\\\n",
       "0 & 0 & 0\n",
       "\\end{array}\\right), \\left(\\begin{array}{rrr}\n",
       "0 & 0 & 1 \\\\\n",
       "0 & 0 & 0 \\\\\n",
       "0 & 0 & 0\n",
       "\\end{array}\\right)\\right)\\)</html>"
      ],
      "text/latex": [
       "$\\displaystyle \\left(\\left(\\begin{array}{rrr}\n",
       "0 & 1 & 0 \\\\\n",
       "0 & 0 & 0 \\\\\n",
       "0 & 0 & 0\n",
       "\\end{array}\\right), \\left(\\begin{array}{rrr}\n",
       "0 & 0 & 0 \\\\\n",
       "0 & 0 & 1 \\\\\n",
       "0 & 0 & 0\n",
       "\\end{array}\\right), \\left(\\begin{array}{rrr}\n",
       "0 & 0 & 1 \\\\\n",
       "0 & 0 & 0 \\\\\n",
       "0 & 0 & 0\n",
       "\\end{array}\\right)\\right)$"
      ],
      "text/plain": [
       "(\n",
       "[0 1 0]  [0 0 0]  [0 0 1]\n",
       "[0 0 0]  [0 0 1]  [0 0 0]\n",
       "[0 0 0], [0 0 0], [0 0 0]\n",
       ")"
      ]
     },
     "metadata": {},
     "output_type": "display_data"
    },
    {
     "data": {
      "text/html": [
       "<html>\\(\\displaystyle \\left(\\left(\\begin{array}{rrr}\n",
       "0 & 1 & 0 \\\\\n",
       "0 & 0 & 0 \\\\\n",
       "0 & 0 & 0\n",
       "\\end{array}\\right), \\left(\\begin{array}{rrr}\n",
       "0 & 0 & 0 \\\\\n",
       "0 & 0 & 1 \\\\\n",
       "0 & 0 & 0\n",
       "\\end{array}\\right)\\right)\\)</html>"
      ],
      "text/latex": [
       "$\\displaystyle \\left(\\left(\\begin{array}{rrr}\n",
       "0 & 1 & 0 \\\\\n",
       "0 & 0 & 0 \\\\\n",
       "0 & 0 & 0\n",
       "\\end{array}\\right), \\left(\\begin{array}{rrr}\n",
       "0 & 0 & 0 \\\\\n",
       "0 & 0 & 1 \\\\\n",
       "0 & 0 & 0\n",
       "\\end{array}\\right)\\right)$"
      ],
      "text/plain": [
       "(\n",
       "[0 1 0]  [0 0 0]\n",
       "[0 0 0]  [0 0 1]\n",
       "[0 0 0], [0 0 0]\n",
       ")"
      ]
     },
     "metadata": {},
     "output_type": "display_data"
    },
    {
     "data": {
      "text/html": [
       "<html>\\(\\displaystyle \\mathrm{True}\\)</html>"
      ],
      "text/latex": [
       "$\\displaystyle \\mathrm{True}$"
      ],
      "text/plain": [
       "True"
      ]
     },
     "metadata": {},
     "output_type": "display_data"
    },
    {
     "data": {
      "text/html": [
       "<html>\\(\\displaystyle \\mathrm{True}\\)</html>"
      ],
      "text/latex": [
       "$\\displaystyle \\mathrm{True}$"
      ],
      "text/plain": [
       "True"
      ]
     },
     "metadata": {},
     "output_type": "display_data"
    },
    {
     "data": {
      "text/html": [
       "<html>\\(\\displaystyle \\mathrm{False}\\)</html>"
      ],
      "text/latex": [
       "$\\displaystyle \\mathrm{False}$"
      ],
      "text/plain": [
       "False"
      ]
     },
     "metadata": {},
     "output_type": "display_data"
    }
   ],
   "source": [
    "h = lie_algebras.Heisenberg(QQ, 1, representation=\"matrix\"); \n",
    "print(h) \n",
    "display(h.dimension())\n",
    "X, Y, Z =  h.basis()\n",
    "display((X, Y, Z))\n",
    "display(h.gens())\n",
    "display(X.bracket(Y) == Z)\n",
    "display(h.is_nilpotent())\n",
    "display(h.is_semisimple())"
   ]
  },
  {
   "cell_type": "markdown",
   "id": "0bbd9405-f101-459b-98bf-114e826208c3",
   "metadata": {
    "slideshow": {
     "slide_type": "slide"
    }
   },
   "source": [
    "## Métricas riemannianas\n",
    "\n",
    "Una *métrica riemanniana* $g$, a veces también denotada por $\\langle\\cdot,\\cdot\\rangle$, en una variedad diferenciable $M$ asigna a cada $p \\in M$ un producto escalar $g_p$ en $T_pM$ de manera diferenciable: en coordenadas locales las funciones \n",
    "$$\n",
    "g_{ij} = g\\left( \\frac{\\partial}{\\partial x_i}, \\frac{\\partial}{\\partial x_j}\\right)\n",
    "$$\n",
    "son funciones diferenciables. Esto permite:\n",
    "* Calcular la norma de vectores tangentes (y de campos vectoriales): $\\|v\\| = \\sqrt{g(v, v)}$\n",
    "* Calcular ángulos entre vectores tangentes $g(v, w) = \\|v\\| \\|w\\| \\cos \\theta$, en donde $v, w \\in T_pM$\n",
    "* Calcular longitudes de curvas $c:[a, b] \\to M$\n",
    "$$\n",
    "L(c) = \\int_a^b \\|c'(t)\\| \\, dt\n",
    "$$\n",
    "\n",
    "Esto hace de $M$ un espacio métrico y de hecho, la topología métrica inducida por la distancia\n",
    "$$\n",
    "d(p, q) = \\inf_c\\{L(c): c(a) = p, \\, c(b) = q\\}\n",
    "$$\n",
    "coincide con la topología de $M$.\n",
    "\n",
    "El ejemplo más sencillo de variedad riemanniana es el espacio euclídeo (en cada punto el producto escalar es el mismo)"
   ]
  },
  {
   "cell_type": "code",
   "execution_count": 90,
   "id": "0452c4d9-9ae0-4d9b-bea3-6e84b5b1b013",
   "metadata": {
    "slideshow": {
     "slide_type": "-"
    }
   },
   "outputs": [
    {
     "data": {
      "text/plain": [
       "[Join of Category of smooth manifolds over Real Field with 53 bits of precision and Category of connected manifolds over Real Field with 53 bits of precision and Category of complete metric spaces,\n",
       " Category of smooth manifolds over Real Field with 53 bits of precision,\n",
       " Category of connected manifolds over Real Field with 53 bits of precision,\n",
       " Category of connected topological spaces,\n",
       " Category of differentiable manifolds over Real Field with 53 bits of precision,\n",
       " Category of manifolds over Real Field with 53 bits of precision,\n",
       " Category of complete metric spaces,\n",
       " Category of metric spaces,\n",
       " Category of topological spaces,\n",
       " Category of sets,\n",
       " Category of sets with partial maps,\n",
       " Category of objects]"
      ]
     },
     "execution_count": 90,
     "metadata": {},
     "output_type": "execute_result"
    }
   ],
   "source": [
    "%display plain\n",
    "E2.<x,y> = EuclideanSpace(2)\n",
    "E2.categories()"
   ]
  },
  {
   "cell_type": "markdown",
   "id": "55fd8b5b",
   "metadata": {},
   "source": [
    "Sage utiliza la notación tensorial para representar las métricas riemannianas."
   ]
  },
  {
   "cell_type": "code",
   "execution_count": 91,
   "id": "ee97431b",
   "metadata": {},
   "outputs": [
    {
     "data": {
      "text/html": [
       "<html>\\(\\displaystyle \\left(\\mathbb{E}^{2},(x, y)\\right)\\)</html>"
      ],
      "text/latex": [
       "$\\displaystyle \\left(\\mathbb{E}^{2},(x, y)\\right)$"
      ],
      "text/plain": [
       "Chart (E^2, (x, y))"
      ]
     },
     "metadata": {},
     "output_type": "display_data"
    },
    {
     "data": {
      "text/html": [
       "<html>\\(\\displaystyle g = \\mathrm{d} x\\otimes \\mathrm{d} x+\\mathrm{d} y\\otimes \\mathrm{d} y\\)</html>"
      ],
      "text/latex": [
       "$\\displaystyle g = \\mathrm{d} x\\otimes \\mathrm{d} x+\\mathrm{d} y\\otimes \\mathrm{d} y$"
      ],
      "text/plain": [
       "g = dx⊗dx + dy⊗dy"
      ]
     },
     "execution_count": 91,
     "metadata": {},
     "output_type": "execute_result"
    }
   ],
   "source": [
    "%display latex\n",
    "display(E2.default_chart())\n",
    "g = E2.metric()\n",
    "g.display()"
   ]
  },
  {
   "cell_type": "markdown",
   "id": "93672d1e",
   "metadata": {
    "slideshow": {
     "slide_type": "subslide"
    }
   },
   "source": [
    "En la métrica euclídea los campos coordenados canónicos forman una base ortonormal."
   ]
  },
  {
   "cell_type": "code",
   "execution_count": 92,
   "id": "9b76af70",
   "metadata": {},
   "outputs": [
    {
     "data": {
      "text/html": [
       "<html>\\(\\displaystyle \\begin{array}{llcl} g\\left( e_{ x } , e_{ x } \\right) : & \\mathbb{E}^{2} & \\longrightarrow & \\mathbb{R} \\\\ & \\left(x, y\\right) & \\longmapsto & 1 \\end{array}\\)</html>"
      ],
      "text/latex": [
       "$\\displaystyle \\begin{array}{llcl} g\\left( e_{ x } , e_{ x } \\right) : & \\mathbb{E}^{2} & \\longrightarrow & \\mathbb{R} \\\\ & \\left(x, y\\right) & \\longmapsto & 1 \\end{array}$"
      ],
      "text/plain": [
       "g(e_x,e_x): E^2 → ℝ\n",
       "   (x, y) ↦ 1"
      ]
     },
     "metadata": {},
     "output_type": "display_data"
    },
    {
     "data": {
      "text/html": [
       "<html>\\(\\displaystyle \\begin{array}{llcl} g\\left( e_{ x } , e_{ y } \\right) : & \\mathbb{E}^{2} & \\longrightarrow & \\mathbb{R} \\\\ & \\left(x, y\\right) & \\longmapsto & 0 \\end{array}\\)</html>"
      ],
      "text/latex": [
       "$\\displaystyle \\begin{array}{llcl} g\\left( e_{ x } , e_{ y } \\right) : & \\mathbb{E}^{2} & \\longrightarrow & \\mathbb{R} \\\\ & \\left(x, y\\right) & \\longmapsto & 0 \\end{array}$"
      ],
      "text/plain": [
       "g(e_x,e_y): E^2 → ℝ\n",
       "   (x, y) ↦ 0"
      ]
     },
     "metadata": {},
     "output_type": "display_data"
    },
    {
     "data": {
      "text/html": [
       "<html>\\(\\displaystyle \\begin{array}{llcl} g\\left( e_{ y } , e_{ y } \\right) : & \\mathbb{E}^{2} & \\longrightarrow & \\mathbb{R} \\\\ & \\left(x, y\\right) & \\longmapsto & 1 \\end{array}\\)</html>"
      ],
      "text/latex": [
       "$\\displaystyle \\begin{array}{llcl} g\\left( e_{ y } , e_{ y } \\right) : & \\mathbb{E}^{2} & \\longrightarrow & \\mathbb{R} \\\\ & \\left(x, y\\right) & \\longmapsto & 1 \\end{array}$"
      ],
      "text/plain": [
       "g(e_y,e_y): E^2 → ℝ\n",
       "   (x, y) ↦ 1"
      ]
     },
     "metadata": {},
     "output_type": "display_data"
    }
   ],
   "source": [
    "X, Y = E2.default_frame()\n",
    "display(g(X, X).display())\n",
    "display(g(X, Y).display())\n",
    "display(g(Y, Y).display())"
   ]
  },
  {
   "cell_type": "markdown",
   "id": "0a773de7",
   "metadata": {
    "slideshow": {
     "slide_type": "subslide"
    }
   },
   "source": [
    "También podemos ver la representación matricial de la métrica (por medio de una matriz simétrica definida positiva)."
   ]
  },
  {
   "cell_type": "code",
   "execution_count": 93,
   "id": "ce3d0d0a",
   "metadata": {},
   "outputs": [
    {
     "data": {
      "text/html": [
       "<html>\\(\\displaystyle \\left(\\begin{array}{rr}\n",
       "1 & 0 \\\\\n",
       "0 & 1\n",
       "\\end{array}\\right)\\)</html>"
      ],
      "text/latex": [
       "$\\displaystyle \\left(\\begin{array}{rr}\n",
       "1 & 0 \\\\\n",
       "0 & 1\n",
       "\\end{array}\\right)$"
      ],
      "text/plain": [
       "[1 0]\n",
       "[0 1]"
      ]
     },
     "execution_count": 93,
     "metadata": {},
     "output_type": "execute_result"
    }
   ],
   "source": [
    "g[:]"
   ]
  },
  {
   "cell_type": "markdown",
   "id": "8599e44f",
   "metadata": {
    "slideshow": {
     "slide_type": "subslide"
    }
   },
   "source": [
    "Calculemos a modo de ejemplo la longitud de una elipse (con respecto a la métrica euclídea)."
   ]
  },
  {
   "cell_type": "code",
   "execution_count": 94,
   "id": "2b75ac60",
   "metadata": {},
   "outputs": [
    {
     "data": {
      "image/png": "[encoded data removed]",
      "text/plain": [
       "Graphics object consisting of 1 graphics primitive"
      ]
     },
     "execution_count": 94,
     "metadata": {},
     "output_type": "execute_result"
    }
   ],
   "source": [
    "R.<t> = manifolds.RealLine()\n",
    "c = E2.curve((3*cos(t),2*sin(t)), (t,0,2*pi), name='c')\n",
    "c.plot()"
   ]
  },
  {
   "cell_type": "markdown",
   "id": "7d9a9734",
   "metadata": {},
   "source": [
    "Para ello integramos la norma del vector velocidad. "
   ]
  },
  {
   "cell_type": "code",
   "execution_count": 95,
   "id": "14f02006",
   "metadata": {
    "slideshow": {
     "slide_type": "subslide"
    }
   },
   "outputs": [
    {
     "data": {
      "text/html": [
       "<html>\\(\\displaystyle {c'} = -3 \\, \\sin\\left(t\\right) e_{ x } + 2 \\, \\cos\\left(t\\right) e_{ y }\\)</html>"
      ],
      "text/latex": [
       "$\\displaystyle {c'} = -3 \\, \\sin\\left(t\\right) e_{ x } + 2 \\, \\cos\\left(t\\right) e_{ y }$"
      ],
      "text/plain": [
       "c' = -3*sin(t) e_x + 2*cos(t) e_y"
      ]
     },
     "metadata": {},
     "output_type": "display_data"
    },
    {
     "name": "stdout",
     "output_type": "stream",
     "text": [
      "Vector c' at Point on the Euclidean plane E^2\n"
     ]
    },
    {
     "data": {
      "text/html": [
       "<html>\\(\\displaystyle T_{None}\\,\\mathbb{E}^{2}\\)</html>"
      ],
      "text/latex": [
       "$\\displaystyle T_{None}\\,\\mathbb{E}^{2}$"
      ],
      "text/plain": [
       "Tangent space at Point on the Euclidean plane E^2"
      ]
     },
     "metadata": {},
     "output_type": "display_data"
    },
    {
     "data": {
      "text/html": [
       "<html>\\(\\displaystyle \\mathrm{True}\\)</html>"
      ],
      "text/latex": [
       "$\\displaystyle \\mathrm{True}$"
      ],
      "text/plain": [
       "True"
      ]
     },
     "execution_count": 95,
     "metadata": {},
     "output_type": "execute_result"
    }
   ],
   "source": [
    "v = c.tangent_vector_field()\n",
    "display(v.display())\n",
    "print(v.at(R(t)))\n",
    "display(v.at(R(t)).parent())\n",
    "v.at(R(t)) in E2.tangent_space(c(t))"
   ]
  },
  {
   "cell_type": "markdown",
   "id": "422b9d2b",
   "metadata": {
    "slideshow": {
     "slide_type": "subslide"
    }
   },
   "source": [
    "Para calcular la norma de $c'(t)$, necesitamos evaluar la métrica en $c(t)$, es decir usamos el producto interno $g_{c(t)}$ en el espacio tangente $T_{c(t)}\\mathbb E^2$."
   ]
  },
  {
   "cell_type": "code",
   "execution_count": 96,
   "id": "6fe760db",
   "metadata": {},
   "outputs": [
    {
     "data": {
      "text/html": [
       "<html>\\(\\displaystyle 4 \\, \\cos\\left(t\\right)^{2} + 9 \\, \\sin\\left(t\\right)^{2}\\)</html>"
      ],
      "text/latex": [
       "$\\displaystyle 4 \\, \\cos\\left(t\\right)^{2} + 9 \\, \\sin\\left(t\\right)^{2}$"
      ],
      "text/plain": [
       "4*cos(t)^2 + 9*sin(t)^2"
      ]
     },
     "execution_count": 96,
     "metadata": {},
     "output_type": "execute_result"
    }
   ],
   "source": [
    "gt = g.at(c(t))\n",
    "vt = v.at(R(t))\n",
    "gt(vt,vt)"
   ]
  },
  {
   "cell_type": "markdown",
   "id": "43580fb4",
   "metadata": {},
   "source": [
    "Finalmente integramos."
   ]
  },
  {
   "cell_type": "code",
   "execution_count": 97,
   "id": "3a293c09",
   "metadata": {},
   "outputs": [
    {
     "name": "stderr",
     "output_type": "stream",
     "text": [
      "Warning: vanishing non integral power expansion\n"
     ]
    },
    {
     "data": {
      "text/html": [
       "<html>\\(\\displaystyle \\int_{0}^{2 \\, \\pi} \\sqrt{4 \\, \\cos\\left(t\\right)^{2} + 9 \\, \\sin\\left(t\\right)^{2}}\\,{d t}\\)</html>"
      ],
      "text/latex": [
       "$\\displaystyle \\int_{0}^{2 \\, \\pi} \\sqrt{4 \\, \\cos\\left(t\\right)^{2} + 9 \\, \\sin\\left(t\\right)^{2}}\\,{d t}$"
      ],
      "text/plain": [
       "integrate(sqrt(4*cos(t)^2 + 9*sin(t)^2), t, 0, 2*pi)"
      ]
     },
     "execution_count": 97,
     "metadata": {},
     "output_type": "execute_result"
    }
   ],
   "source": [
    "integrate(sqrt(gt(vt,vt)),t,0,2*pi)"
   ]
  },
  {
   "cell_type": "markdown",
   "id": "6a73fe5e",
   "metadata": {},
   "source": [
    "Si queremos una aproximación numérica podemos usar `.n()`."
   ]
  },
  {
   "cell_type": "code",
   "execution_count": 98,
   "id": "ab93b0e0",
   "metadata": {},
   "outputs": [
    {
     "data": {
      "text/html": [
       "<html>\\(\\displaystyle 15.86543958929059\\)</html>"
      ],
      "text/latex": [
       "$\\displaystyle 15.86543958929059$"
      ],
      "text/plain": [
       "15.86543958929059"
      ]
     },
     "execution_count": 98,
     "metadata": {},
     "output_type": "execute_result"
    }
   ],
   "source": [
    "_.n()"
   ]
  },
  {
   "cell_type": "markdown",
   "id": "6c3f2e69",
   "metadata": {
    "slideshow": {
     "slide_type": "subslide"
    }
   },
   "source": [
    "## Ejemplo: el plano hiperbólico $\\mathbb H^2$\n",
    "\n",
    "Usaremos la presentación del semiplano superior. Es decir, la estrucutra diferenciable es la usual heredada de $\\mathbb R^2$, $\\mathbb H^2 = \\{(x,y): y > 0\\}$ y la métrica riemanniana dada en el punto $(x, y)$ por\n",
    "$$\n",
    "g_{(x, y)} = \\frac{1}{y^2} (dx \\otimes dx + dy \\otimes dy) \n",
    "$$"
   ]
  },
  {
   "cell_type": "code",
   "execution_count": 99,
   "id": "39ae7fab",
   "metadata": {
    "slideshow": {
     "slide_type": "subslide"
    }
   },
   "outputs": [
    {
     "data": {
      "text/html": [
       "<html>\\(\\displaystyle x :\\ \\left( -\\infty, +\\infty \\right) ;\\quad y :\\ \\left( 0 , +\\infty \\right)\\)</html>"
      ],
      "text/latex": [
       "$\\displaystyle x :\\ \\left( -\\infty, +\\infty \\right) ;\\quad y :\\ \\left( 0 , +\\infty \\right)$"
      ],
      "text/plain": [
       "x: (-oo, +oo); y: (0, +oo)"
      ]
     },
     "execution_count": 99,
     "metadata": {},
     "output_type": "execute_result"
    }
   ],
   "source": [
    "H2 = Manifold(2, name=r'\\mathbb H^2', structure='Riemannian')\n",
    "H2_chart.<x,y> = H2.chart(r'x:(-oo,+oo) y:(0,+oo)')\n",
    "H2_chart.coord_range()"
   ]
  },
  {
   "cell_type": "markdown",
   "id": "3d9c6194",
   "metadata": {},
   "source": [
    "Introducimos la métrica manualmente"
   ]
  },
  {
   "cell_type": "code",
   "execution_count": 100,
   "id": "4bb4badb",
   "metadata": {},
   "outputs": [
    {
     "data": {
      "text/html": [
       "<html>\\(\\displaystyle g = \\frac{1}{y^{2}} \\mathrm{d} x\\otimes \\mathrm{d} x + \\frac{1}{y^{2}} \\mathrm{d} y\\otimes \\mathrm{d} y\\)</html>"
      ],
      "text/latex": [
       "$\\displaystyle g = \\frac{1}{y^{2}} \\mathrm{d} x\\otimes \\mathrm{d} x + \\frac{1}{y^{2}} \\mathrm{d} y\\otimes \\mathrm{d} y$"
      ],
      "text/plain": [
       "g = y^(-2) dx⊗dx + y^(-2) dy⊗dy"
      ]
     },
     "execution_count": 100,
     "metadata": {},
     "output_type": "execute_result"
    }
   ],
   "source": [
    "g = H2.metric()\n",
    "g[0,0] = 1/y^2\n",
    "g[1,1] = 1/y^2\n",
    "g.display()"
   ]
  },
  {
   "cell_type": "markdown",
   "id": "8883766f",
   "metadata": {
    "slideshow": {
     "slide_type": "subslide"
    }
   },
   "source": [
    "Consideremos la siguiente curva en $\\mathbb H^2$"
   ]
  },
  {
   "cell_type": "code",
   "execution_count": 101,
   "id": "94542831",
   "metadata": {
    "slideshow": {
     "slide_type": "-"
    }
   },
   "outputs": [
    {
     "data": {
      "image/png": "[encoded data removed]",
      "text/plain": [
       "Graphics object consisting of 1 graphics primitive"
      ]
     },
     "execution_count": 101,
     "metadata": {},
     "output_type": "execute_result"
    }
   ],
   "source": [
    "R.<t> = manifolds.RealLine()\n",
    "gamma = H2.curve((1,t), (t,0,oo), name=r\"\\gamma\")\n",
    "v = gamma.tangent_vector_field()\n",
    "gamma.plot()"
   ]
  },
  {
   "cell_type": "markdown",
   "id": "378b5186",
   "metadata": {
    "slideshow": {
     "slide_type": "subslide"
    }
   },
   "source": [
    "Calculemos la longitud de la curva $\\gamma(t)$, para $t \\in [1, 8]$, con respecto a la métrica hiperbólica."
   ]
  },
  {
   "cell_type": "code",
   "execution_count": 102,
   "id": "5a1f78a0",
   "metadata": {},
   "outputs": [
    {
     "data": {
      "text/html": [
       "<html>\\(\\displaystyle 3 \\, \\log\\left(2\\right)\\)</html>"
      ],
      "text/latex": [
       "$\\displaystyle 3 \\, \\log\\left(2\\right)$"
      ],
      "text/plain": [
       "3*log(2)"
      ]
     },
     "execution_count": 102,
     "metadata": {},
     "output_type": "execute_result"
    }
   ],
   "source": [
    "gt = g.at(gamma(t))\n",
    "vt = v.at(R(t))\n",
    "integrate(sqrt(gt(vt,vt)),t,1,8)"
   ]
  },
  {
   "cell_type": "markdown",
   "id": "53b31c2d",
   "metadata": {},
   "source": [
    "que aproximadamente es"
   ]
  },
  {
   "cell_type": "code",
   "execution_count": 103,
   "id": "c598f000",
   "metadata": {},
   "outputs": [
    {
     "data": {
      "text/html": [
       "<html>\\(\\displaystyle 2.07944154167984\\)</html>"
      ],
      "text/latex": [
       "$\\displaystyle 2.07944154167984$"
      ],
      "text/plain": [
       "2.07944154167984"
      ]
     },
     "execution_count": 103,
     "metadata": {},
     "output_type": "execute_result"
    }
   ],
   "source": [
    "_.n()"
   ]
  },
  {
   "cell_type": "markdown",
   "id": "c7800264",
   "metadata": {},
   "source": [
    "La longitud euclídea esta curva es claramente 7. La longitud hiperbólica es menor que $7$ porque \"los vectores euclídeos se ven más pequeños con la métrica hiperbólica en los puntos que tienen coordenada $y > 0$\"\n"
   ]
  },
  {
   "cell_type": "markdown",
   "id": "62dd70d5",
   "metadata": {
    "slideshow": {
     "slide_type": "subslide"
    }
   },
   "source": [
    "Sin calculáramos la longitud de $\\gamma(t)$ con $t \\in [\\frac12,1]$ nos debería dar más grande que $\\frac12$"
   ]
  },
  {
   "cell_type": "code",
   "execution_count": 104,
   "id": "20839b89",
   "metadata": {},
   "outputs": [
    {
     "data": {
      "text/html": [
       "<html>\\(\\displaystyle \\log\\left(2\\right)\\)</html>"
      ],
      "text/latex": [
       "$\\displaystyle \\log\\left(2\\right)$"
      ],
      "text/plain": [
       "log(2)"
      ]
     },
     "metadata": {},
     "output_type": "display_data"
    },
    {
     "data": {
      "text/html": [
       "<html>\\(\\displaystyle 2.07944154167984\\)</html>"
      ],
      "text/latex": [
       "$\\displaystyle 2.07944154167984$"
      ],
      "text/plain": [
       "2.07944154167984"
      ]
     },
     "execution_count": 104,
     "metadata": {},
     "output_type": "execute_result"
    }
   ],
   "source": [
    "display(integrate(sqrt(gt(vt,vt)),t,1/2,1))\n",
    "_.n()"
   ]
  },
  {
   "cell_type": "markdown",
   "id": "1bfdc4ec-dd7f-45e2-a6a6-c0b920123426",
   "metadata": {
    "slideshow": {
     "slide_type": "slide"
    }
   },
   "source": [
    "# Conexión de Levi Civita\n",
    "\n",
    "Asociada a una métrica riemanniana tenemos una *conexión*\n",
    "$$\n",
    "\\nabla: \\mathfrak X(M) \\times \\mathfrak X(M)  \\to \\mathfrak X(M), \\qquad (X, Y)  \\mapsto \\nabla_XY\n",
    "$$\n",
    "llamada conexión de Levi-Civita caracterizada por las propiedades:\n",
    "* $\\nabla$ es $\\mathbb R$ bilineal\n",
    "* $\\nabla$ es tensorial en la primera variable: $\\nabla_{fX}Y = f \\nabla_XY$, para toda $f \\in C^\\infty(M)$\n",
    "* Se satisface la regla de Leibniz: $\\nabla_X(fY) = X(f) Y + f \\nabla_XY$, para toda $f \\in C^\\infty(M)$\n",
    "* $\\nabla$ es una conexión métrica: $X(g(Y, Z)) = g(\\nabla_XY, Z) + g(Y, \\nabla_XZ)$\n",
    "* $\\nabla$ es sin torsión: $\\nabla_XY - \\nabla_YX = [X, Y]$"
   ]
  },
  {
   "cell_type": "markdown",
   "id": "5bc271ed-f0eb-4c16-a157-6fb571764480",
   "metadata": {
    "slideshow": {
     "slide_type": "subslide"
    }
   },
   "source": [
    "Remarcamos muy rápidamente algunas similiides y diferencias entre entre el corchete de Lie y la conexión de Levi-Civita\n",
    "* Ambos se generalizan para poder derivar objetos más generales que campos (tensores). \n",
    "* Sin embargo, una detecta simetrías y la otra paralelismo. Más precisamente, si $X$ es un campo:\n",
    "    - $\\mathcal L_X T = 0 \\implies$ el flujo de $X$ preserva $T$. \n",
    "    - $\\nabla_X T = 0 \\implies T$ es paralelo en la dirección de $X$.\n",
    "* El corchete/derivada de Lie es independiente de la métrica.\n",
    "* La conexión de Levi-Civita está unívocamente determinada por la métrica.\n",
    "* La conexión de Levi-Civita permite derivar objetos que estén definidos solo a lo largo de curvas. En particular, nos permite definir la aceleración de una curva (esto no se puede hacer con la derivada de Lie)."
   ]
  },
  {
   "cell_type": "markdown",
   "id": "21bdc64f",
   "metadata": {
    "slideshow": {
     "slide_type": "subslide"
    }
   },
   "source": [
    "## Símbolos de Christoffel \n",
    "\n",
    "Si $M$ es una variedad riemanniana y $x_1, \\ldots, x_n$ es una carta local, las propiedades anteriores nos dicen que para calcular $\\nabla_X Y$, es suficiente con saber calcular $\\nabla_{\\frac{\\partial}{\\partial x_i}} \\frac{\\partial }{\\partial x_j}$. Estos campos quedan determinados por los símbolos de Christoffel (en la carta dada)\n",
    "$$\n",
    "\\nabla_{\\frac{\\partial}{\\partial x_i}} \\frac{\\partial }{\\partial x_j} = \\sum_k \\Gamma_{ij}^k \\frac{\\partial}{\\partial x_k}\n",
    "$$"
   ]
  },
  {
   "cell_type": "markdown",
   "id": "127c0d65",
   "metadata": {
    "slideshow": {
     "slide_type": "subslide"
    }
   },
   "source": [
    "Sage nos permite calcular la conexión de Levi-Civita con `g.connection()` y nos muestra los síbolos de Christoffel con `g.connection().display()`.\n",
    "\n",
    "Por ejemplo para el plano hiperbólico:"
   ]
  },
  {
   "cell_type": "code",
   "execution_count": 105,
   "id": "54e32f9e",
   "metadata": {},
   "outputs": [
    {
     "data": {
      "text/html": [
       "<html>\\(\\displaystyle \\begin{array}{lcl} \\Gamma_{ \\phantom{\\, x} \\, x \\, y }^{ \\, x \\phantom{\\, x} \\phantom{\\, y} } & = & -\\frac{1}{y} \\\\ \\Gamma_{ \\phantom{\\, x} \\, y \\, x }^{ \\, x \\phantom{\\, y} \\phantom{\\, x} } & = & -\\frac{1}{y} \\\\ \\Gamma_{ \\phantom{\\, y} \\, x \\, x }^{ \\, y \\phantom{\\, x} \\phantom{\\, x} } & = & \\frac{1}{y} \\\\ \\Gamma_{ \\phantom{\\, y} \\, y \\, y }^{ \\, y \\phantom{\\, y} \\phantom{\\, y} } & = & -\\frac{1}{y} \\end{array}\\)</html>"
      ],
      "text/latex": [
       "$\\displaystyle \\begin{array}{lcl} \\Gamma_{ \\phantom{\\, x} \\, x \\, y }^{ \\, x \\phantom{\\, x} \\phantom{\\, y} } & = & -\\frac{1}{y} \\\\ \\Gamma_{ \\phantom{\\, x} \\, y \\, x }^{ \\, x \\phantom{\\, y} \\phantom{\\, x} } & = & -\\frac{1}{y} \\\\ \\Gamma_{ \\phantom{\\, y} \\, x \\, x }^{ \\, y \\phantom{\\, x} \\phantom{\\, x} } & = & \\frac{1}{y} \\\\ \\Gamma_{ \\phantom{\\, y} \\, y \\, y }^{ \\, y \\phantom{\\, y} \\phantom{\\, y} } & = & -\\frac{1}{y} \\end{array}$"
      ],
      "text/plain": [
       "Gam^x_xy = -1/y \n",
       "Gam^x_yx = -1/y \n",
       "Gam^y_xx = 1/y \n",
       "Gam^y_yy = -1/y "
      ]
     },
     "execution_count": 105,
     "metadata": {},
     "output_type": "execute_result"
    }
   ],
   "source": [
    "nabla = g.connection()\n",
    "nabla.display()"
   ]
  },
  {
   "cell_type": "markdown",
   "id": "bba0c053",
   "metadata": {
    "slideshow": {
     "slide_type": "subslide"
    }
   },
   "source": [
    "Por defecto solo se muestran los símbolos de Christoffel no nulos, pero podemos pedir que se muestren todos."
   ]
  },
  {
   "cell_type": "code",
   "execution_count": 106,
   "id": "935ec9fc",
   "metadata": {},
   "outputs": [
    {
     "data": {
      "text/html": [
       "<html>\\(\\displaystyle \\begin{array}{lcl} \\Gamma_{ \\phantom{\\, x} \\, x \\, x }^{ \\, x \\phantom{\\, x} \\phantom{\\, x} } & = & 0 \\\\ \\Gamma_{ \\phantom{\\, x} \\, x \\, y }^{ \\, x \\phantom{\\, x} \\phantom{\\, y} } & = & -\\frac{1}{y} \\\\ \\Gamma_{ \\phantom{\\, x} \\, y \\, x }^{ \\, x \\phantom{\\, y} \\phantom{\\, x} } & = & -\\frac{1}{y} \\\\ \\Gamma_{ \\phantom{\\, x} \\, y \\, y }^{ \\, x \\phantom{\\, y} \\phantom{\\, y} } & = & 0 \\\\ \\Gamma_{ \\phantom{\\, y} \\, x \\, x }^{ \\, y \\phantom{\\, x} \\phantom{\\, x} } & = & \\frac{1}{y} \\\\ \\Gamma_{ \\phantom{\\, y} \\, x \\, y }^{ \\, y \\phantom{\\, x} \\phantom{\\, y} } & = & 0 \\\\ \\Gamma_{ \\phantom{\\, y} \\, y \\, x }^{ \\, y \\phantom{\\, y} \\phantom{\\, x} } & = & 0 \\\\ \\Gamma_{ \\phantom{\\, y} \\, y \\, y }^{ \\, y \\phantom{\\, y} \\phantom{\\, y} } & = & -\\frac{1}{y} \\end{array}\\)</html>"
      ],
      "text/latex": [
       "$\\displaystyle \\begin{array}{lcl} \\Gamma_{ \\phantom{\\, x} \\, x \\, x }^{ \\, x \\phantom{\\, x} \\phantom{\\, x} } & = & 0 \\\\ \\Gamma_{ \\phantom{\\, x} \\, x \\, y }^{ \\, x \\phantom{\\, x} \\phantom{\\, y} } & = & -\\frac{1}{y} \\\\ \\Gamma_{ \\phantom{\\, x} \\, y \\, x }^{ \\, x \\phantom{\\, y} \\phantom{\\, x} } & = & -\\frac{1}{y} \\\\ \\Gamma_{ \\phantom{\\, x} \\, y \\, y }^{ \\, x \\phantom{\\, y} \\phantom{\\, y} } & = & 0 \\\\ \\Gamma_{ \\phantom{\\, y} \\, x \\, x }^{ \\, y \\phantom{\\, x} \\phantom{\\, x} } & = & \\frac{1}{y} \\\\ \\Gamma_{ \\phantom{\\, y} \\, x \\, y }^{ \\, y \\phantom{\\, x} \\phantom{\\, y} } & = & 0 \\\\ \\Gamma_{ \\phantom{\\, y} \\, y \\, x }^{ \\, y \\phantom{\\, y} \\phantom{\\, x} } & = & 0 \\\\ \\Gamma_{ \\phantom{\\, y} \\, y \\, y }^{ \\, y \\phantom{\\, y} \\phantom{\\, y} } & = & -\\frac{1}{y} \\end{array}$"
      ],
      "text/plain": [
       "Gam^x_xx = 0 \n",
       "Gam^x_xy = -1/y \n",
       "Gam^x_yx = -1/y \n",
       "Gam^x_yy = 0 \n",
       "Gam^y_xx = 1/y \n",
       "Gam^y_xy = 0 \n",
       "Gam^y_yx = 0 \n",
       "Gam^y_yy = -1/y "
      ]
     },
     "execution_count": 106,
     "metadata": {},
     "output_type": "execute_result"
    }
   ],
   "source": [
    "nabla.display(only_nonzero=False)"
   ]
  },
  {
   "cell_type": "markdown",
   "id": "34f3d26d",
   "metadata": {
    "slideshow": {
     "slide_type": "subslide"
    }
   },
   "source": [
    "También podemos acceder a los símbolos de Christoffel usando índices, notar que $\\Gamma_{ij}^k$ se calula con `nabla[i,j,k]`."
   ]
  },
  {
   "cell_type": "code",
   "execution_count": 107,
   "id": "7f91cb71",
   "metadata": {},
   "outputs": [
    {
     "data": {
      "text/html": [
       "<html>\\(\\displaystyle \\left[\\frac{1}{y}, 0, -\\frac{1}{y}\\right]\\)</html>"
      ],
      "text/latex": [
       "$\\displaystyle \\left[\\frac{1}{y}, 0, -\\frac{1}{y}\\right]$"
      ],
      "text/plain": [
       "[1/y, 0, -1/y]"
      ]
     },
     "metadata": {},
     "output_type": "display_data"
    }
   ],
   "source": [
    "display([nabla[1,0,0], nabla[1,0,1], nabla[1,1,1]])"
   ]
  },
  {
   "cell_type": "markdown",
   "id": "30375de1",
   "metadata": {
    "slideshow": {
     "slide_type": "slide"
    }
   },
   "source": [
    "# Geodésicas\n",
    "\n",
    "Una curva $\\gamma(t)$ en $M$ se dice una *geodésica* si su velocidad es paralela (a veces también se dice que tiene aceleración nula, pero esto se puede prestar a confusión)\n",
    "$$\n",
    "\\nabla_{\\gamma'(t)}\\gamma'(t) = 0.\n",
    "$$\n",
    "\n",
    "SageManifolds todavía no tiene implementada la derivada covariante a lo largo de curvas, pero podemos ayudarnos de los símbolos de Christoffel para estudiar la existencia de geodésicas."
   ]
  },
  {
   "cell_type": "markdown",
   "id": "8f07314c-3fe7-46f2-9d39-c37a1d57f9a8",
   "metadata": {
    "slideshow": {
     "slide_type": "subslide"
    }
   },
   "source": [
    "## La ecuación geodésica\n",
    "\n",
    "Si $\\gamma(t)$ es una geodésica tal que $\\gamma(0) = p$ y $\\gamma'(0) = v \\in T_pM$, se satisface\n",
    "$$\n",
    "\\gamma_k'' + \\sum_{i,j}\\Gamma_{ij}^k \\, \\gamma_i' \\, \\gamma_j' = 0\n",
    "$$\n",
    "\n",
    "En particular, siempre existen las geodésicas (para $t$ pequeño) en cualquier dirección y las geodésicas son las curvas que localmente minimizan la distancia.\n"
   ]
  },
  {
   "cell_type": "markdown",
   "id": "1c5b71e2",
   "metadata": {
    "slideshow": {
     "slide_type": "subslide"
    }
   },
   "source": [
    "## Geodésicas en el plano hiperbólico\n",
    "\n",
    "Se puede probar que las geodésicas en nuestra versión del plano hiperbólico son las semirrectas paralelas al eje $y$ y los semicírculos que intersectan perpendicularmente el eje $x$. El siguiente ejemplo fue tomado del foro de discusión de Sage y puede consultarse [aquí](https://ask.sagemath.org/question/48915/check-if-a-curve-is-a-geodesic/)."
   ]
  },
  {
   "cell_type": "code",
   "execution_count": 108,
   "id": "2ea9357c-eaf1-48d1-8ed6-399e01b2998b",
   "metadata": {
    "slideshow": {
     "slide_type": "subslide"
    }
   },
   "outputs": [
    {
     "data": {
      "text/html": [
       "<html>\\(\\displaystyle g = \\frac{1}{y^{2}} \\mathrm{d} x\\otimes \\mathrm{d} x + \\frac{1}{y^{2}} \\mathrm{d} y\\otimes \\mathrm{d} y\\)</html>"
      ],
      "text/latex": [
       "$\\displaystyle g = \\frac{1}{y^{2}} \\mathrm{d} x\\otimes \\mathrm{d} x + \\frac{1}{y^{2}} \\mathrm{d} y\\otimes \\mathrm{d} y$"
      ],
      "text/plain": [
       "g = y^(-2) dx⊗dx + y^(-2) dy⊗dy"
      ]
     },
     "execution_count": 108,
     "metadata": {},
     "output_type": "execute_result"
    }
   ],
   "source": [
    "H2 = Manifold(2, r'\\mathbb H^2', structure='Riemannian')\n",
    "X.<x,y> = H2.chart(r'x y:(0,+oo)')\n",
    "g = H2.metric()\n",
    "g[0, 0], g[1, 1] = 1/y^2, 1/y^2\n",
    "g.display()"
   ]
  },
  {
   "cell_type": "markdown",
   "id": "fbc74e4d",
   "metadata": {},
   "source": [
    "Definamos la siguiete curva"
   ]
  },
  {
   "cell_type": "code",
   "execution_count": 109,
   "id": "224bc892-0dd9-48b6-a520-4bd861ab972d",
   "metadata": {
    "slideshow": {
     "slide_type": "subslide"
    }
   },
   "outputs": [
    {
     "data": {
      "text/html": [
       "<html>\\(\\displaystyle \\begin{array}{llcl} \\gamma:& \\left(0, \\pi\\right) & \\longrightarrow & \\mathbb H^2 \\\\ & t & \\longmapsto & \\left(x, y\\right) = \\left(\\cos\\left(t\\right), \\sin\\left(t\\right)\\right) \\end{array}\\)</html>"
      ],
      "text/latex": [
       "$\\displaystyle \\begin{array}{llcl} \\gamma:& \\left(0, \\pi\\right) & \\longrightarrow & \\mathbb H^2 \\\\ & t & \\longmapsto & \\left(x, y\\right) = \\left(\\cos\\left(t\\right), \\sin\\left(t\\right)\\right) \\end{array}$"
      ],
      "text/plain": [
       "\\gamma: (0, pi) → \\mathbb H^2\n",
       "   t ↦ (x, y) = (cos(t), sin(t))"
      ]
     },
     "metadata": {},
     "output_type": "display_data"
    },
    {
     "data": {
      "text/html": [
       "<html>\\(\\displaystyle {\\gamma'} = -\\sin\\left(t\\right) \\frac{\\partial}{\\partial x } + \\cos\\left(t\\right) \\frac{\\partial}{\\partial y }\\)</html>"
      ],
      "text/latex": [
       "$\\displaystyle {\\gamma'} = -\\sin\\left(t\\right) \\frac{\\partial}{\\partial x } + \\cos\\left(t\\right) \\frac{\\partial}{\\partial y }$"
      ],
      "text/plain": [
       "\\gamma' = -sin(t) ∂/∂x + cos(t) ∂/∂y"
      ]
     },
     "metadata": {},
     "output_type": "display_data"
    },
    {
     "data": {
      "image/png": "[encoded data removed]",
      "text/plain": [
       "Graphics object consisting of 1 graphics primitive"
      ]
     },
     "execution_count": 109,
     "metadata": {},
     "output_type": "execute_result"
    }
   ],
   "source": [
    "R.<t> = manifolds.RealLine()\n",
    "gamma = H2.curve([cos(t), sin(t)], (t, 0, pi), name=r'\\gamma')\n",
    "display(gamma.display())\n",
    "v = gamma.tangent_vector_field()\n",
    "display(v.display())\n",
    "gamma.plot()"
   ]
  },
  {
   "cell_type": "markdown",
   "id": "5f05830e",
   "metadata": {},
   "source": [
    "Nos ayudamos de los símbolos de Christoffel para estudiar la ecuación geodésica."
   ]
  },
  {
   "cell_type": "code",
   "execution_count": 110,
   "id": "ae23a8ab",
   "metadata": {
    "slideshow": {
     "slide_type": "subslide"
    }
   },
   "outputs": [
    {
     "name": "stdout",
     "output_type": "stream",
     "text": [
      "Vector field along the Real interval (0, pi) with values on the 2-dimensional Riemannian manifold \\mathbb H^2\n"
     ]
    },
    {
     "data": {
      "text/html": [
       "<html>\\(\\displaystyle \\cos\\left(t\\right) \\frac{\\partial}{\\partial x } -\\frac{\\cos\\left(t\\right)^{2}}{\\sin\\left(t\\right)} \\frac{\\partial}{\\partial y }\\)</html>"
      ],
      "text/latex": [
       "$\\displaystyle \\cos\\left(t\\right) \\frac{\\partial}{\\partial x } -\\frac{\\cos\\left(t\\right)^{2}}{\\sin\\left(t\\right)} \\frac{\\partial}{\\partial y }$"
      ],
      "text/plain": [
       "cos(t) ∂/∂x - cos(t)^2/sin(t) ∂/∂y"
      ]
     },
     "execution_count": 110,
     "metadata": {},
     "output_type": "execute_result"
    }
   ],
   "source": [
    "cc = g.christoffel_symbols()\n",
    "a = gamma.domain().vector_field(dest_map=gamma)\n",
    "for i in H2.irange():\n",
    "    a[i] = diff(v[i].expr(), t) \\\n",
    "           + sum(sum(cc[i, j, k](*X(gamma(t)))*v[j]\\\n",
    "                     .expr()*v[k].expr() \n",
    "                     for j in H2.irange()) for k in H2.irange())\n",
    "\n",
    "print(a)\n",
    "a.display()\n"
   ]
  },
  {
   "cell_type": "markdown",
   "id": "a155e8fd",
   "metadata": {},
   "source": [
    "Lo anterior nos dice que $\\gamma(t)$ no es una geodésica. Sin embargo, sabemos que la imagen de $\\gamma$ es la imagen de una geodésica en el plano hiperbólico (lo que falla entonces es la parametrización). Tratemos de encontrar cuál es esa geodésica. Primero elijamos las condiciones iniciales."
   ]
  },
  {
   "cell_type": "code",
   "execution_count": 111,
   "id": "6b07ee74",
   "metadata": {},
   "outputs": [
    {
     "data": {
      "text/html": [
       "<html>\\(\\displaystyle \\left(0, 1\\right)\\)</html>"
      ],
      "text/latex": [
       "$\\displaystyle \\left(0, 1\\right)$"
      ],
      "text/plain": [
       "(0, 1)"
      ]
     },
     "metadata": {},
     "output_type": "display_data"
    },
    {
     "data": {
      "image/png": "[encoded data removed]",
      "text/plain": [
       "Graphics object consisting of 3 graphics primitives"
      ]
     },
     "execution_count": 111,
     "metadata": {},
     "output_type": "execute_result"
    }
   ],
   "source": [
    "display(gamma(pi/2).coord())\n",
    "v.at(R(pi/2)).plot() + gamma.plot(thickness=2)"
   ]
  },
  {
   "cell_type": "markdown",
   "id": "a396ec83",
   "metadata": {
    "slideshow": {
     "slide_type": "subslide"
    }
   },
   "source": [
    "A continuación definimos una cruva genérica $\\gamma(t)$ con coordenadas $f_1(t), f_2(t)$. Las condiciones iniciales deberían ser\n",
    "\\begin{align*}\n",
    "f_1(0) = 1 && f_1'(0) &= 0 \\\\\n",
    "f_2(0) = 1 && f_2'(0) &= -1\n",
    "\\end{align*}"
   ]
  },
  {
   "cell_type": "code",
   "execution_count": 112,
   "id": "d8d5ad57",
   "metadata": {},
   "outputs": [],
   "source": [
    "f1 = function('f_1')(t)\n",
    "f2 = function('f_2')(t)"
   ]
  },
  {
   "cell_type": "markdown",
   "id": "582af085",
   "metadata": {},
   "source": [
    "Lo que estamos haciendo con esto es definir expresiones simbólicas que dependen de `t`."
   ]
  },
  {
   "cell_type": "code",
   "execution_count": 113,
   "id": "d1a4cf6e",
   "metadata": {},
   "outputs": [
    {
     "name": "stdout",
     "output_type": "stream",
     "text": [
      "<class 'sage.symbolic.expression.Expression'>\n"
     ]
    }
   ],
   "source": [
    "print(type(f1))"
   ]
  },
  {
   "cell_type": "markdown",
   "id": "50f36241",
   "metadata": {},
   "source": [
    "Las cuales luego pueden ser usadas para definir una curva genérica."
   ]
  },
  {
   "cell_type": "code",
   "execution_count": 114,
   "id": "ac08e97a",
   "metadata": {},
   "outputs": [
    {
     "data": {
      "text/html": [
       "<html>\\(\\displaystyle {\\gamma'} = \\frac{\\partial\\,f_{1}}{\\partial t} \\frac{\\partial}{\\partial x } + \\frac{\\partial\\,f_{2}}{\\partial t} \\frac{\\partial}{\\partial y }\\)</html>"
      ],
      "text/latex": [
       "$\\displaystyle {\\gamma'} = \\frac{\\partial\\,f_{1}}{\\partial t} \\frac{\\partial}{\\partial x } + \\frac{\\partial\\,f_{2}}{\\partial t} \\frac{\\partial}{\\partial y }$"
      ],
      "text/plain": [
       "\\gamma' = d(f_1)/dt ∂/∂x + d(f_2)/dt ∂/∂y"
      ]
     },
     "execution_count": 114,
     "metadata": {},
     "output_type": "execute_result"
    }
   ],
   "source": [
    "gamma = H2.curve([f1, f2], t, name=r'\\gamma')\n",
    "v = gamma.tangent_vector_field()\n",
    "v.display()"
   ]
  },
  {
   "cell_type": "markdown",
   "id": "68676d84",
   "metadata": {},
   "source": [
    "Aquí recibimos una amable advertencia de que el método que estamos usando para definir $\\gamma$ es ahora obsoleto. "
   ]
  },
  {
   "cell_type": "code",
   "execution_count": 115,
   "id": "6e6a51d5",
   "metadata": {
    "slideshow": {
     "slide_type": "subslide"
    }
   },
   "outputs": [
    {
     "name": "stdout",
     "output_type": "stream",
     "text": [
      "Vector field along the Real number line ℝ with values on the 2-dimensional Riemannian manifold \\mathbb H^2\n"
     ]
    },
    {
     "data": {
      "text/html": [
       "<html>\\(\\displaystyle \\left( -\\frac{2 \\, \\frac{\\partial\\,f_{1}}{\\partial t} \\frac{\\partial\\,f_{2}}{\\partial t}}{f_{2}\\left(t\\right)} + \\frac{\\partial^2\\,f_{1}}{\\partial t ^ 2} \\right) \\frac{\\partial}{\\partial x } + \\left( \\frac{\\left(\\frac{\\partial\\,f_{1}}{\\partial t}\\right)^{2}}{f_{2}\\left(t\\right)} - \\frac{\\left(\\frac{\\partial\\,f_{2}}{\\partial t}\\right)^{2}}{f_{2}\\left(t\\right)} + \\frac{\\partial^2\\,f_{2}}{\\partial t ^ 2} \\right) \\frac{\\partial}{\\partial y }\\)</html>"
      ],
      "text/latex": [
       "$\\displaystyle \\left( -\\frac{2 \\, \\frac{\\partial\\,f_{1}}{\\partial t} \\frac{\\partial\\,f_{2}}{\\partial t}}{f_{2}\\left(t\\right)} + \\frac{\\partial^2\\,f_{1}}{\\partial t ^ 2} \\right) \\frac{\\partial}{\\partial x } + \\left( \\frac{\\left(\\frac{\\partial\\,f_{1}}{\\partial t}\\right)^{2}}{f_{2}\\left(t\\right)} - \\frac{\\left(\\frac{\\partial\\,f_{2}}{\\partial t}\\right)^{2}}{f_{2}\\left(t\\right)} + \\frac{\\partial^2\\,f_{2}}{\\partial t ^ 2} \\right) \\frac{\\partial}{\\partial y }$"
      ],
      "text/plain": [
       "(-2*d(f_1)/dt*d(f_2)/dt/f_2(t) + d^2(f_1)/dt^2) ∂/∂x + ((d(f_1)/dt)^2/f_2(t) - (d(f_2)/dt)^2/f_2(t) + d^2(f_2)/dt^2) ∂/∂y"
      ]
     },
     "execution_count": 115,
     "metadata": {},
     "output_type": "execute_result"
    }
   ],
   "source": [
    "cc = g.christoffel_symbols()\n",
    "a = gamma.domain().vector_field(dest_map=gamma)\n",
    "for i in H2.irange():\n",
    "    a[i] = diff(v[i].expr(), t) \\\n",
    "           + sum(sum(cc[i, j, k](*X(gamma(t)))*v[j]\\\n",
    "                     .expr()*v[k].expr() \n",
    "                     for j in H2.irange()) for k in H2.irange())\n",
    "\n",
    "print(a)\n",
    "a.display()\n"
   ]
  },
  {
   "cell_type": "markdown",
   "id": "807a7ef8",
   "metadata": {},
   "source": [
    "Habría que resolver estas ecuaciones diferenciales, pero lo vamos a dejar acá ;-)"
   ]
  },
  {
   "cell_type": "markdown",
   "id": "bb92162f",
   "metadata": {
    "slideshow": {
     "slide_type": "slide"
    }
   },
   "source": [
    "# Isometrías\n",
    "\n",
    "Una *isometría* entre dos variedades riemannianas es un difeomorfismo $f: M \\to N$ que preserva la métrica. Es decir,  \n",
    "$$\n",
    "df|_p : T_pM \\to T_{f(p)}N\n",
    "$$\n",
    "es una isometría lineal para cada $p \\in M$. Se tiene que \n",
    "$$I(M) = \\{f: M \\to M : f\\text{ es una isometría}\\}$$ forma un grupo con la composición, llamado el *grupo de isometrías* de $M$. El grupo $I(M)$ tiene una topología natural llamada [toplogía compacto abierta](https://en.wikipedia.org/wiki/Compact-open_topology) y es bien conocido el siguente resultado.\n",
    "\n",
    "**Teorema.** $I(M)$ es un grupo de Lie (con la topología compacto abierta) y si $\\dim M = n$, entonces\n",
    "$$\n",
    "\\dim I(M) \\le \\frac{n(n+1)}{2}\n",
    "$$\n",
    "\n",
    "Si se da la igualdad en el teorema anterior, entonces $M$ resulta ser de una clase muy especial: espacios de curvatura constante (veremos algo de esto en breve). \n",
    "\n",
    "\n",
    "El álgebra de Lie del grupo de isometrías está dada por los campos de Killing: un campo $X \\in \\mathfrak X(M)$ se dice un *campo de Killing* si $\\nabla X$ es antisimétrica con respecto a la métrica, es decir:\n",
    "$$\n",
    "\\langle \\nabla_Y X, Z\\rangle + \\langle Y, \\nabla_ZX\\rangle = 0\n",
    "$$\n",
    "para todos $Y, Z \\in \\mathfrak X(M)$\n",
    "\n",
    "Hay una criterio muy sencillo (en teoría) para verificar si un campo de $X$ es un campo de Killing.\n",
    "\n",
    "**Teorema.** $X$ es de Killing sii y sólo si la derivada de Lie de la métrica en la dirección de $X$ es cero:\n",
    "$$\n",
    "\\mathcal L_X \\langle\\cdot, \\cdot\\rangle = 0\n",
    "$$\n",
    "\n",
    "Llevaría un buen tiempo definir qué es la derivada de Lie (es la extensión de la que hablamos antes del corchete de Lie para poder derivar todo tipo de tensores). Afortunadamente, Sage sabe calcular derivadas de Lie.\n",
    "\n",
    "Sigamos explorando el ejemplo del plano hiperbólico"
   ]
  },
  {
   "cell_type": "code",
   "execution_count": 116,
   "id": "5b160ec7",
   "metadata": {
    "slideshow": {
     "slide_type": "subslide"
    }
   },
   "outputs": [],
   "source": [
    "H2 = Manifold(2, r'\\mathbb H^2', structure='Riemannian')\n",
    "H2_chart.<x,y> = H2.chart(r'x y:(0,+oo)')\n",
    "g = H2.metric()\n",
    "g[0, 0], g[1, 1] = 1/y^2, 1/y^2\n",
    "nabla = g.connection()\n"
   ]
  },
  {
   "cell_type": "markdown",
   "id": "2b9d51f5",
   "metadata": {},
   "source": [
    "Calculemos las derivadas de Lie de la métrica en las direcciones de los campos coordenados."
   ]
  },
  {
   "cell_type": "code",
   "execution_count": 117,
   "id": "1df3bb6f",
   "metadata": {},
   "outputs": [
    {
     "data": {
      "text/html": [
       "<html>\\(\\displaystyle 0\\)</html>"
      ],
      "text/latex": [
       "$\\displaystyle 0$"
      ],
      "text/plain": [
       "0"
      ]
     },
     "metadata": {},
     "output_type": "display_data"
    },
    {
     "data": {
      "text/html": [
       "<html>\\(\\displaystyle -\\frac{2}{y^{3}} \\mathrm{d} x\\otimes \\mathrm{d} x -\\frac{2}{y^{3}} \\mathrm{d} y\\otimes \\mathrm{d} y\\)</html>"
      ],
      "text/latex": [
       "$\\displaystyle -\\frac{2}{y^{3}} \\mathrm{d} x\\otimes \\mathrm{d} x -\\frac{2}{y^{3}} \\mathrm{d} y\\otimes \\mathrm{d} y$"
      ],
      "text/plain": [
       "-2/y^3 dx⊗dx - 2/y^3 dy⊗dy"
      ]
     },
     "metadata": {},
     "output_type": "display_data"
    }
   ],
   "source": [
    "X, Y = H2.default_frame()\n",
    "display(g.lie_derivative(X).disp())\n",
    "display(g.lie_derivative(Y).disp())\n"
   ]
  },
  {
   "cell_type": "markdown",
   "id": "414d1cf9",
   "metadata": {
    "slideshow": {
     "slide_type": "subslide"
    }
   },
   "source": [
    "De lo anterior sigue que $X = \\partial / \\partial x$ es un campo de Killing. Verifiquemos que efectivamente $\\nabla X$ es un tensor antisimétrico"
   ]
  },
  {
   "cell_type": "code",
   "execution_count": 118,
   "id": "bdaa28ad",
   "metadata": {},
   "outputs": [
    {
     "data": {
      "text/html": [
       "<html>\\(\\displaystyle \\nabla_{g} \\frac{\\partial}{\\partial x }\\)</html>"
      ],
      "text/latex": [
       "$\\displaystyle \\nabla_{g} \\frac{\\partial}{\\partial x }$"
      ],
      "text/plain": [
       "Tensor field nabla_g(∂/∂x) of type (1,1) on the 2-dimensional Riemannian manifold \\mathbb H^2"
      ]
     },
     "metadata": {},
     "output_type": "display_data"
    },
    {
     "data": {
      "text/html": [
       "<html>\\(\\displaystyle \\nabla_{g} \\frac{\\partial}{\\partial x } = -\\frac{1}{y} \\frac{\\partial}{\\partial x }\\otimes \\mathrm{d} y + \\frac{1}{y} \\frac{\\partial}{\\partial y }\\otimes \\mathrm{d} x\\)</html>"
      ],
      "text/latex": [
       "$\\displaystyle \\nabla_{g} \\frac{\\partial}{\\partial x } = -\\frac{1}{y} \\frac{\\partial}{\\partial x }\\otimes \\mathrm{d} y + \\frac{1}{y} \\frac{\\partial}{\\partial y }\\otimes \\mathrm{d} x$"
      ],
      "text/plain": [
       "nabla_g(∂/∂x) = -1/y ∂/∂x⊗dy + 1/y ∂/∂y⊗dx"
      ]
     },
     "execution_count": 118,
     "metadata": {},
     "output_type": "execute_result"
    }
   ],
   "source": [
    "display(nabla(X))\n",
    "nabla(X).display()"
   ]
  },
  {
   "cell_type": "markdown",
   "id": "b81588a4",
   "metadata": {},
   "source": [
    "Otra forma de hacer esto es observando que la matriz de $\\nabla X$ es antisimétrica, con respecto al producto interno asociado a la métrica riemanniana (que en este caso es un múltiplo, que varía punto a punto) del producto interno usual)"
   ]
  },
  {
   "cell_type": "code",
   "execution_count": 119,
   "id": "fa1a1fb5",
   "metadata": {},
   "outputs": [
    {
     "data": {
      "text/html": [
       "<html>\\(\\displaystyle \\left(\\left(\\begin{array}{rr}\n",
       "\\frac{1}{y^{2}} & 0 \\\\\n",
       "0 & \\frac{1}{y^{2}}\n",
       "\\end{array}\\right), \\left(\\begin{array}{rr}\n",
       "0 & -\\frac{1}{y} \\\\\n",
       "\\frac{1}{y} & 0\n",
       "\\end{array}\\right), \\left(\\begin{array}{rr}\n",
       "-\\frac{1}{y} & 0 \\\\\n",
       "0 & -\\frac{1}{y}\n",
       "\\end{array}\\right)\\right)\\)</html>"
      ],
      "text/latex": [
       "$\\displaystyle \\left(\\left(\\begin{array}{rr}\n",
       "\\frac{1}{y^{2}} & 0 \\\\\n",
       "0 & \\frac{1}{y^{2}}\n",
       "\\end{array}\\right), \\left(\\begin{array}{rr}\n",
       "0 & -\\frac{1}{y} \\\\\n",
       "\\frac{1}{y} & 0\n",
       "\\end{array}\\right), \\left(\\begin{array}{rr}\n",
       "-\\frac{1}{y} & 0 \\\\\n",
       "0 & -\\frac{1}{y}\n",
       "\\end{array}\\right)\\right)$"
      ],
      "text/plain": [
       "(\n",
       "[y^(-2)      0]  [   0 -1/y]  [-1/y    0]\n",
       "[     0 y^(-2)], [ 1/y    0], [   0 -1/y]\n",
       ")"
      ]
     },
     "execution_count": 119,
     "metadata": {},
     "output_type": "execute_result"
    }
   ],
   "source": [
    "g[:], nabla(X)[:], nabla(Y)[:]"
   ]
  },
  {
   "cell_type": "markdown",
   "id": "2fae605a",
   "metadata": {
    "slideshow": {
     "slide_type": "slide"
    }
   },
   "source": [
    "# Curvatura\n",
    "\n",
    "El *tensor de curvatura* es uno de los objetos más importantes asociados a una variedad riemanniana $M$, el cual captura casi toda la información geométrica de $M$. Usualmente denotado por $R$, es un tensor de tipo $(1,3)$, lo cual informalmente podemos pensar como una aplicación $C^\\infty(M)$-multilineal: recibe tres campos y devuelve un campo\n",
    "$$\n",
    "R : \\mathfrak X(M) \\times \\mathfrak X(M) \\times \\mathfrak X(M) \\to \\mathfrak X(M)\n",
    "$$\n",
    "y se define como\n",
    "$$\n",
    "R_{X, Y}Z = \\nabla_X \\nabla_Y Z - \\nabla_Y \\nabla_X Z - \\nabla_{[X, Y]}Z\n",
    "$$\n",
    "\n",
    "En Sage podemos acceder al tensor de curvatura de la métrica `g` usando el método `.riemann()`."
   ]
  },
  {
   "cell_type": "code",
   "execution_count": 120,
   "id": "3e910055",
   "metadata": {
    "slideshow": {
     "slide_type": "subslide"
    }
   },
   "outputs": [
    {
     "name": "stdout",
     "output_type": "stream",
     "text": [
      "Tensor field Riem(g) of type (1,3) on the 2-dimensional Riemannian manifold \\mathbb H^2\n"
     ]
    },
    {
     "data": {
      "text/html": [
       "<html>\\(\\displaystyle \\mathcal{T}^{(1, 3)}\\left(\\mathbb H^2\\right)\\)</html>"
      ],
      "text/latex": [
       "$\\displaystyle \\mathcal{T}^{(1, 3)}\\left(\\mathbb H^2\\right)$"
      ],
      "text/plain": [
       "Free module T^(1,3)(\\mathbb H^2) of type-(1,3) tensors fields on the 2-dimensional Riemannian manifold \\mathbb H^2"
      ]
     },
     "execution_count": 120,
     "metadata": {},
     "output_type": "execute_result"
    }
   ],
   "source": [
    "Riem = g.riemann()\n",
    "print(Riem)\n",
    "Riem.parent()"
   ]
  },
  {
   "cell_type": "markdown",
   "id": "d7a38366",
   "metadata": {},
   "source": [
    "En coordenadas locales, el tensor de curvatura tiene el siguiente aspecto."
   ]
  },
  {
   "cell_type": "code",
   "execution_count": 121,
   "id": "130a3561",
   "metadata": {},
   "outputs": [
    {
     "data": {
      "text/html": [
       "<html>\\(\\displaystyle \\mathrm{Riem}\\left(g\\right) = -\\frac{1}{y^{2}} \\frac{\\partial}{\\partial x }\\otimes \\mathrm{d} y\\otimes \\mathrm{d} x\\otimes \\mathrm{d} y + \\frac{1}{y^{2}} \\frac{\\partial}{\\partial x }\\otimes \\mathrm{d} y\\otimes \\mathrm{d} y\\otimes \\mathrm{d} x + \\frac{1}{y^{2}} \\frac{\\partial}{\\partial y }\\otimes \\mathrm{d} x\\otimes \\mathrm{d} x\\otimes \\mathrm{d} y -\\frac{1}{y^{2}} \\frac{\\partial}{\\partial y }\\otimes \\mathrm{d} x\\otimes \\mathrm{d} y\\otimes \\mathrm{d} x\\)</html>"
      ],
      "text/latex": [
       "$\\displaystyle \\mathrm{Riem}\\left(g\\right) = -\\frac{1}{y^{2}} \\frac{\\partial}{\\partial x }\\otimes \\mathrm{d} y\\otimes \\mathrm{d} x\\otimes \\mathrm{d} y + \\frac{1}{y^{2}} \\frac{\\partial}{\\partial x }\\otimes \\mathrm{d} y\\otimes \\mathrm{d} y\\otimes \\mathrm{d} x + \\frac{1}{y^{2}} \\frac{\\partial}{\\partial y }\\otimes \\mathrm{d} x\\otimes \\mathrm{d} x\\otimes \\mathrm{d} y -\\frac{1}{y^{2}} \\frac{\\partial}{\\partial y }\\otimes \\mathrm{d} x\\otimes \\mathrm{d} y\\otimes \\mathrm{d} x$"
      ],
      "text/plain": [
       "Riem(g) = -1/y^2 ∂/∂x⊗dy⊗dx⊗dy + y^(-2) ∂/∂x⊗dy⊗dy⊗dx + y^(-2) ∂/∂y⊗dx⊗dx⊗dy - 1/y^2 ∂/∂y⊗dx⊗dy⊗dx"
      ]
     },
     "execution_count": 121,
     "metadata": {},
     "output_type": "execute_result"
    }
   ],
   "source": [
    "Riem.display()"
   ]
  },
  {
   "cell_type": "markdown",
   "id": "2011a945",
   "metadata": {
    "slideshow": {
     "slide_type": "subslide"
    }
   },
   "source": [
    "A veces conviene pensar al tensor de curvatura como un tensor de tipo $(0, 4)$, es decir, recibe 4 campos y devuelve una función. Esto se hace contrayendo con la métrica\n",
    "$$\n",
    "(X, Y, Z, W) \\mapsto \\langle R_{X, Y}Z, W\\rangle\n",
    "$$\n",
    "\n",
    "Sage sabe hacer esto con el método `.down(g)`, pero hay que tener cuidado con los signos (ya que no hay una convención universal sobre el orden en el cual ponemos las variables del tensor de curvatura)."
   ]
  },
  {
   "cell_type": "code",
   "execution_count": 122,
   "id": "4cd1fbcd",
   "metadata": {},
   "outputs": [
    {
     "name": "stdout",
     "output_type": "stream",
     "text": [
      "Tensor field of type (0,4) on the 2-dimensional Riemannian manifold \\mathbb H^2\n"
     ]
    }
   ],
   "source": [
    "Riem1 = Riem.down(g)\n",
    "print(Riem1)"
   ]
  },
  {
   "cell_type": "code",
   "execution_count": 123,
   "id": "269b8dba",
   "metadata": {},
   "outputs": [
    {
     "data": {
      "text/html": [
       "<html>\\(\\displaystyle -\\frac{1}{y^{4}} \\mathrm{d} x\\otimes \\mathrm{d} y\\otimes \\mathrm{d} x\\otimes \\mathrm{d} y + \\frac{1}{y^{4}} \\mathrm{d} x\\otimes \\mathrm{d} y\\otimes \\mathrm{d} y\\otimes \\mathrm{d} x + \\frac{1}{y^{4}} \\mathrm{d} y\\otimes \\mathrm{d} x\\otimes \\mathrm{d} x\\otimes \\mathrm{d} y -\\frac{1}{y^{4}} \\mathrm{d} y\\otimes \\mathrm{d} x\\otimes \\mathrm{d} y\\otimes \\mathrm{d} x\\)</html>"
      ],
      "text/latex": [
       "$\\displaystyle -\\frac{1}{y^{4}} \\mathrm{d} x\\otimes \\mathrm{d} y\\otimes \\mathrm{d} x\\otimes \\mathrm{d} y + \\frac{1}{y^{4}} \\mathrm{d} x\\otimes \\mathrm{d} y\\otimes \\mathrm{d} y\\otimes \\mathrm{d} x + \\frac{1}{y^{4}} \\mathrm{d} y\\otimes \\mathrm{d} x\\otimes \\mathrm{d} x\\otimes \\mathrm{d} y -\\frac{1}{y^{4}} \\mathrm{d} y\\otimes \\mathrm{d} x\\otimes \\mathrm{d} y\\otimes \\mathrm{d} x$"
      ],
      "text/plain": [
       "-1/y^4 dx⊗dy⊗dx⊗dy + y^(-4) dx⊗dy⊗dy⊗dx + y^(-4) dy⊗dx⊗dx⊗dy - 1/y^4 dy⊗dx⊗dy⊗dx"
      ]
     },
     "execution_count": 123,
     "metadata": {},
     "output_type": "execute_result"
    }
   ],
   "source": [
    "Riem1.display()"
   ]
  },
  {
   "cell_type": "markdown",
   "id": "d0e1f46d",
   "metadata": {
    "slideshow": {
     "slide_type": "subslide"
    }
   },
   "source": [
    "Verifiquemos que $\\langle R, \\cdot\\rangle$ se puede obtener con `Riem.down(g)`. En primer lugar definamos cuatro campos genéricos."
   ]
  },
  {
   "cell_type": "code",
   "execution_count": 124,
   "id": "8e398b3e",
   "metadata": {
    "slideshow": {
     "slide_type": "-"
    }
   },
   "outputs": [
    {
     "data": {
      "text/html": [
       "<html>\\(\\displaystyle \\left(a_{0} \\frac{\\partial}{\\partial x } + a_{1} \\frac{\\partial}{\\partial y }, b_{0} \\frac{\\partial}{\\partial x } + b_{1} \\frac{\\partial}{\\partial y }, c_{0} \\frac{\\partial}{\\partial x } + c_{1} \\frac{\\partial}{\\partial y }, d_{0} \\frac{\\partial}{\\partial x } + d_{1} \\frac{\\partial}{\\partial y }\\right)\\)</html>"
      ],
      "text/latex": [
       "$\\displaystyle \\left(a_{0} \\frac{\\partial}{\\partial x } + a_{1} \\frac{\\partial}{\\partial y }, b_{0} \\frac{\\partial}{\\partial x } + b_{1} \\frac{\\partial}{\\partial y }, c_{0} \\frac{\\partial}{\\partial x } + c_{1} \\frac{\\partial}{\\partial y }, d_{0} \\frac{\\partial}{\\partial x } + d_{1} \\frac{\\partial}{\\partial y }\\right)$"
      ],
      "text/plain": [
       "(a0 ∂/∂x + a1 ∂/∂y, b0 ∂/∂x + b1 ∂/∂y, c0 ∂/∂x + c1 ∂/∂y, d0 ∂/∂x + d1 ∂/∂y)"
      ]
     },
     "execution_count": 124,
     "metadata": {},
     "output_type": "execute_result"
    }
   ],
   "source": [
    "a0,a1,b0,b1,c0,c1,d0,d1 = var(\"a0,a1,b0,b1,c0,c1,d0,d1\")\n",
    "X1 = a0*X + a1*Y\n",
    "X2 = b0*X + b1*Y\n",
    "X3 = c0*X + c1*Y\n",
    "X4 = d0*X + d1*Y\n",
    "X1.display(), X2.display(), X3.display(), X4.display()"
   ]
  },
  {
   "cell_type": "markdown",
   "id": "2f89bab0",
   "metadata": {},
   "source": [
    "**Observación importante:** cuando decimos que $R$ es un tensor, estamos pensando en que es $C^\\infty(M)$-multineal (i.e., saca funciones diferenciables multiplicando). Por ende para calcular $R_{X,Y}Z$ en un punto $p$, solo necesitamos conocer $X_p, Y_p, Z_p$.\n",
    "\n",
    "En ese sentido es que los campos $X_1, X_2, X_3, X_4$ que definimos más arriba son genéricos, ya que son combinaciones lineales (sobre $\\mathbb R$) de un frame global.\n",
    "\n",
    "Calculamos por un lado"
   ]
  },
  {
   "cell_type": "code",
   "execution_count": 125,
   "id": "e1c93fc3",
   "metadata": {
    "slideshow": {
     "slide_type": "subslide"
    }
   },
   "outputs": [
    {
     "data": {
      "text/html": [
       "<html>\\(\\displaystyle -\\frac{a_{1} b_{0} c_{1} d_{0}}{y^{4}} + \\frac{a_{0} b_{1} c_{1} d_{0}}{y^{4}} + \\frac{a_{1} b_{0} c_{0} d_{1}}{y^{4}} - \\frac{a_{0} b_{1} c_{0} d_{1}}{y^{4}}\\)</html>"
      ],
      "text/latex": [
       "$\\displaystyle -\\frac{a_{1} b_{0} c_{1} d_{0}}{y^{4}} + \\frac{a_{0} b_{1} c_{1} d_{0}}{y^{4}} + \\frac{a_{1} b_{0} c_{0} d_{1}}{y^{4}} - \\frac{a_{0} b_{1} c_{0} d_{1}}{y^{4}}$"
      ],
      "text/plain": [
       "-a1*b0*c1*d0/y^4 + a0*b1*c1*d0/y^4 + a1*b0*c0*d1/y^4 - a0*b1*c0*d1/y^4"
      ]
     },
     "execution_count": 125,
     "metadata": {},
     "output_type": "execute_result"
    }
   ],
   "source": [
    "comp_1 = Riem1(X1,X2,X3,X4).expr().expand()\n",
    "comp_1"
   ]
  },
  {
   "cell_type": "markdown",
   "id": "a3b8d332",
   "metadata": {},
   "source": [
    "por el otro"
   ]
  },
  {
   "cell_type": "code",
   "execution_count": 126,
   "id": "2b85ae98",
   "metadata": {},
   "outputs": [
    {
     "data": {
      "text/html": [
       "<html>\\(\\displaystyle \\frac{a_{1} b_{0} c_{1} d_{0}}{y^{4}} - \\frac{a_{0} b_{1} c_{1} d_{0}}{y^{4}} - \\frac{a_{1} b_{0} c_{0} d_{1}}{y^{4}} + \\frac{a_{0} b_{1} c_{0} d_{1}}{y^{4}}\\)</html>"
      ],
      "text/latex": [
       "$\\displaystyle \\frac{a_{1} b_{0} c_{1} d_{0}}{y^{4}} - \\frac{a_{0} b_{1} c_{1} d_{0}}{y^{4}} - \\frac{a_{1} b_{0} c_{0} d_{1}}{y^{4}} + \\frac{a_{0} b_{1} c_{0} d_{1}}{y^{4}}$"
      ],
      "text/plain": [
       "a1*b0*c1*d0/y^4 - a0*b1*c1*d0/y^4 - a1*b0*c0*d1/y^4 + a0*b1*c0*d1/y^4"
      ]
     },
     "execution_count": 126,
     "metadata": {},
     "output_type": "execute_result"
    }
   ],
   "source": [
    "comp_2 = g(nabla(nabla(X3)(X2))(X1) \\\n",
    "           - nabla(nabla(X3)(X1))(X2), X4).expr().expand()\n",
    "comp_2"
   ]
  },
  {
   "cell_type": "markdown",
   "id": "8b012edc",
   "metadata": {},
   "source": [
    "y verificamos que una es menos la otra."
   ]
  },
  {
   "cell_type": "code",
   "execution_count": 127,
   "id": "07b12682",
   "metadata": {},
   "outputs": [
    {
     "data": {
      "text/html": [
       "<html>\\(\\displaystyle 0\\)</html>"
      ],
      "text/latex": [
       "$\\displaystyle 0$"
      ],
      "text/plain": [
       "0"
      ]
     },
     "execution_count": 127,
     "metadata": {},
     "output_type": "execute_result"
    }
   ],
   "source": [
    "comp_1 + comp_2"
   ]
  },
  {
   "cell_type": "markdown",
   "id": "34f9771f",
   "metadata": {
    "slideshow": {
     "slide_type": "slide"
    }
   },
   "source": [
    "# Curvatura seccional\n",
    "\n",
    "La curvatura seccional es la versión de la curvatura gaussiana para variedades $n$ dimensionales. De hecho, cuando $n = 2$, nos dan la misma información. La curvatura secciona $K$ en un punto $p$ de $M$ es un valor que se asigna a cada subespacio bidimensional de $T_pM$. Si $u, v$ es una base de $\\mathbb V \\subset T_pM$\n",
    "$$\n",
    "K(\\mathbb V) = K(u, v) = \\frac{\\langle R_{u, v}v, u\\rangle}{\\langle u, u\\rangle \\langle v, v\\rangle - \\langle u, v\\rangle^2}\n",
    "$$\n",
    "(se puede probar que está definición es independiente de la base elegida). Si $n \\ge 3$, $K$ brinda menos información que el tensor de curvatura, pero es un invariante más sencillo.\n",
    "\n",
    "La curvatura seccional no viene por defecto en Sage, hay que definirla. Verifiquemos que el plano hiperbólico tiene curvatura constante $-1$."
   ]
  },
  {
   "cell_type": "code",
   "execution_count": 128,
   "id": "aa2e643e",
   "metadata": {
    "slideshow": {
     "slide_type": "-"
    }
   },
   "outputs": [
    {
     "data": {
      "text/html": [
       "<html>\\(\\displaystyle -1\\)</html>"
      ],
      "text/latex": [
       "$\\displaystyle -1$"
      ],
      "text/plain": [
       "-1"
      ]
     },
     "execution_count": 128,
     "metadata": {},
     "output_type": "execute_result"
    }
   ],
   "source": [
    "(Riem1(X1,X2,X1,X2) / (g(X1,X1) * g(X2,X2) - g(X1,X2)^2)).expr()"
   ]
  },
  {
   "cell_type": "markdown",
   "id": "15302deb",
   "metadata": {},
   "source": [
    "Y ya que estamos, definamos una función que calcule la curvatura seccional."
   ]
  },
  {
   "cell_type": "code",
   "execution_count": 129,
   "id": "049b84fc",
   "metadata": {},
   "outputs": [
    {
     "data": {
      "text/html": [
       "<html>\\(\\displaystyle -1\\)</html>"
      ],
      "text/latex": [
       "$\\displaystyle -1$"
      ],
      "text/plain": [
       "-1"
      ]
     },
     "execution_count": 129,
     "metadata": {},
     "output_type": "execute_result"
    }
   ],
   "source": [
    "def curv_secc(u,v):\n",
    "    p = u.parent().base_point()\n",
    "    M = p.parent()\n",
    "    g = M.metric()\n",
    "    gp = g.at(p)\n",
    "    Riem = g.riemann().down(g).at(p)\n",
    "    return (Riem(u,v,u,v) / \\\n",
    "            (gp(u,u)*gp(v,v) - gp(u,v)^2)).simplify_full()\n",
    "p = H2.point(H2_chart[:])\n",
    "u, v = H2_chart.frame().at(p)\n",
    "curv_secc(u, v)"
   ]
  },
  {
   "cell_type": "markdown",
   "id": "bf08ed55",
   "metadata": {
    "slideshow": {
     "slide_type": "slide"
    }
   },
   "source": [
    "# Espacios de curvatura constante\n",
    "\n",
    "Son aquellos espacios en los que la curvatura seccional es independiente del punto (y del plano elegido en el espacio). Hay 3 modelos simplemente conexos de espacios de curvatura constante:\n",
    "\n",
    "* $\\mathbb R^n$ con la métrica euclídea es un espaicio de curvatura constante nula (también llamado plano o flat);\n",
    "\n",
    "* $\\mathbb S^n$ con la métrica redonda (heredada de $\\mathbb R^{n+1}$) es un espacio de curvatura constante positiva;\n",
    "\n",
    "* $\\mathbb H^n$ con la métrica hiperbólica es un espacio de curvatura constante negativa.\n",
    "\n",
    "Para terminar el curso tratemos de probar el siguiente resultado con lo que aprendimos hasta ahora\n",
    "\n",
    "**Teorema.** Sea $M$ una variedad riemanniana simplemente conexa de dimensión 3 y curvatura constante. Entonces existe un grupo de Lie $G$ con una métrica invariante a izquierda isométrico a $M$."
   ]
  },
  {
   "cell_type": "markdown",
   "id": "d678519c",
   "metadata": {
    "slideshow": {
     "slide_type": "subslide"
    }
   },
   "source": []
  },
  {
   "cell_type": "markdown",
   "id": "03559450",
   "metadata": {
    "slideshow": {
     "slide_type": "slide"
    }
   },
   "source": [
    "## Ejemplo flat (con grupo de Lie abeliano)\n",
    "\n",
    "Es fácil ver a mano que el espacio euclídeo $\\mathbb R^3$ tiene curvatura nula. Más aún, probemos que cualquier métrica constante en $\\mathbb R^3$ tiene curvatura cero (notar que $\\mathbb R^3$ es un grupo de Lie abeliano y los campos coordenados usuales son invariantes a izquierda)."
   ]
  },
  {
   "cell_type": "code",
   "execution_count": 130,
   "id": "dd99f57a",
   "metadata": {},
   "outputs": [],
   "source": [
    "M = Manifold(3, r'\\mathbb R^3', structure='Riemannian')\n",
    "M_chart.<x,y,z> = M.chart()\n",
    "M_frame = M_chart.frame()\n",
    "g = M.metric()"
   ]
  },
  {
   "cell_type": "markdown",
   "id": "1e559801",
   "metadata": {},
   "source": [
    "Definimos las siguientes variables simbólicas para construir una métrica constante arbitraria"
   ]
  },
  {
   "cell_type": "code",
   "execution_count": 131,
   "id": "125ba2d1",
   "metadata": {},
   "outputs": [
    {
     "data": {
      "text/html": [
       "<html>\\(\\displaystyle \\left(\\begin{array}{rrr}\n",
       "\\mu & \\alpha & \\beta \\\\\n",
       "\\alpha & \\nu & \\gamma \\\\\n",
       "\\beta & \\gamma & \\eta\n",
       "\\end{array}\\right)\\)</html>"
      ],
      "text/latex": [
       "$\\displaystyle \\left(\\begin{array}{rrr}\n",
       "\\mu & \\alpha & \\beta \\\\\n",
       "\\alpha & \\nu & \\gamma \\\\\n",
       "\\beta & \\gamma & \\eta\n",
       "\\end{array}\\right)$"
      ],
      "text/plain": [
       "[   mu alpha  beta]\n",
       "[alpha    nu gamma]\n",
       "[ beta gamma   eta]"
      ]
     },
     "execution_count": 131,
     "metadata": {},
     "output_type": "execute_result"
    }
   ],
   "source": [
    "mu, nu, eta, alpha, beta, gamma \\\n",
    "= var(\"mu, nu, eta, alpha, beta, gamma\")\n",
    "g[0,0], g[1,1], g[2,2], g[0,1], g[0,2], g[1,2] \\\n",
    "= mu, nu, eta, alpha, beta, gamma\n",
    "g[:] # esta matriz debe ser simétrica y definida positiva"
   ]
  },
  {
   "cell_type": "markdown",
   "id": "247632b5",
   "metadata": {
    "slideshow": {
     "slide_type": "subslide"
    }
   },
   "source": [
    "Veamos que los campos coordenados son invariantes a izquierda."
   ]
  },
  {
   "cell_type": "code",
   "execution_count": 132,
   "id": "3f4bd12a",
   "metadata": {},
   "outputs": [
    {
     "data": {
      "text/html": [
       "<html>\\(\\displaystyle \\begin{array}{llcl} L_p:& \\mathbb R^3 & \\longrightarrow & \\mathbb R^3 \\\\ & \\left(x, y, z\\right) & \\longmapsto & \\left(x + x_{0}, y + y_{0}, z + z_{0}\\right) \\end{array}\\)</html>"
      ],
      "text/latex": [
       "$\\displaystyle \\begin{array}{llcl} L_p:& \\mathbb R^3 & \\longrightarrow & \\mathbb R^3 \\\\ & \\left(x, y, z\\right) & \\longmapsto & \\left(x + x_{0}, y + y_{0}, z + z_{0}\\right) \\end{array}$"
      ],
      "text/plain": [
       "L_p: \\mathbb R^3 → \\mathbb R^3\n",
       "   (x, y, z) ↦ (x + x0, y + y0, z + z0)"
      ]
     },
     "execution_count": 132,
     "metadata": {},
     "output_type": "execute_result"
    }
   ],
   "source": [
    "x0, y0, z0 = var('x0 y0 z0')\n",
    "p = M.point((x0, y0, z0))\n",
    "Lp = M.diffeomorphism(M, (x + x0, y + y0, z + z0), name='L_p')\n",
    "Lp.display()"
   ]
  },
  {
   "cell_type": "markdown",
   "id": "9c67fe39",
   "metadata": {},
   "source": [
    "$L_p$ es la traslación a izquierda en $p = (x_0, y_0, z_0)$ y su diferencial se identifica con la transformación identidad. "
   ]
  },
  {
   "cell_type": "code",
   "execution_count": 133,
   "id": "182a83c6",
   "metadata": {},
   "outputs": [
    {
     "data": {
      "text/html": [
       "<html>\\(\\displaystyle \\left(\\begin{array}{rrr}\n",
       "1 & 0 & 0 \\\\\n",
       "0 & 1 & 0 \\\\\n",
       "0 & 0 & 1\n",
       "\\end{array}\\right)\\)</html>"
      ],
      "text/latex": [
       "$\\displaystyle \\left(\\begin{array}{rrr}\n",
       "1 & 0 & 0 \\\\\n",
       "0 & 1 & 0 \\\\\n",
       "0 & 0 & 1\n",
       "\\end{array}\\right)$"
      ],
      "text/plain": [
       "[1 0 0]\n",
       "[0 1 0]\n",
       "[0 0 1]"
      ]
     },
     "execution_count": 133,
     "metadata": {},
     "output_type": "execute_result"
    }
   ],
   "source": [
    "zero = M.point((0, 0, 0))\n",
    "dLp_0 = Lp.differential(zero)\n",
    "dLp_0.matrix()"
   ]
  },
  {
   "cell_type": "markdown",
   "id": "050301e8",
   "metadata": {
    "slideshow": {
     "slide_type": "subslide"
    }
   },
   "source": [
    "Como  los campos coordenados tienen coordenadas constantes en el frame `M_frame`, sigue que $dL_p$ preserva los campos invariantes a izquierda. Además, como la métrica `g` tiene coeficientes constantes en un frame invariante a izquierda, resulta una métrica invariante a izquierda."
   ]
  },
  {
   "cell_type": "markdown",
   "id": "d0904e3e",
   "metadata": {
    "slideshow": {
     "slide_type": "-"
    }
   },
   "source": [
    "Por último, verifiquemos que la métrica es plana."
   ]
  },
  {
   "cell_type": "code",
   "execution_count": 134,
   "id": "c17367b0",
   "metadata": {},
   "outputs": [
    {
     "name": "stdout",
     "output_type": "stream",
     "text": [
      "CPU times: user 1.15 ms, sys: 0 ns, total: 1.15 ms\n",
      "Wall time: 1.16 ms\n"
     ]
    },
    {
     "data": {
      "text/html": [
       "<html>\\(\\displaystyle \\mathrm{Riem}\\left(g\\right) = 0\\)</html>"
      ],
      "text/latex": [
       "$\\displaystyle \\mathrm{Riem}\\left(g\\right) = 0$"
      ],
      "text/plain": [
       "Riem(g) = 0"
      ]
     },
     "execution_count": 134,
     "metadata": {},
     "output_type": "execute_result"
    }
   ],
   "source": [
    "Riem = g.riemann()\n",
    "%time Riem.display()"
   ]
  },
  {
   "cell_type": "markdown",
   "id": "4667fda6",
   "metadata": {
    "slideshow": {
     "slide_type": "slide"
    }
   },
   "source": [
    "## Ejemplo flat (con grupo de Lie soluble no abeliano)\n",
    "\n",
    "Es un poco más interesante observar que existe un grupo de Lie no abeliano que admite una métrica plana. Consideremos el grupo euclídeo $E(2)$ de movimientos rígidos del plano. Se puede ver que:\n",
    "\n",
    "* $E(2)$ es un grupo de Lie de dimensión $3$ y su estructura de grupo queda determinado por el siguiente hecho: todo movimiento rígido es composición de una traslación $T_v$, $v \\in \\mathbb R^2$ y una rotación $R_t$, alrededor del origen, en un ángulo $t \\in \\mathbb R$:\n",
    "\\begin{align*}\n",
    "(T_v \\circ R_t) \\circ (T_w \\circ R_s) & = (T_v \\circ R_t \\circ T_w \\circ (R_t)^{-1}) \\circ (R_t \\circ R_s)  \\\\\n",
    "& = (T_v \\circ T_{R_t(w)}) \\circ R_{t + s} \\\\\n",
    "& = T_{v + R_t(w)} \\circ R_{t + s}\n",
    "\\end{align*}\n",
    "\n",
    "* En coordenadas $(v, t) = (x,y,t)$ el producto en el cubrimiento universal de $E(2)$ queda\n",
    "$$\n",
    "(x, y, t)(x', y', t') = (x + x' \\cos t - y' \\sin t, y + x' \\sin t + y' \\cos t, t + t')\n",
    "$$"
   ]
  },
  {
   "cell_type": "code",
   "execution_count": 135,
   "id": "a9b0c953",
   "metadata": {
    "slideshow": {
     "slide_type": "subslide"
    }
   },
   "outputs": [],
   "source": [
    "M = Manifold(3, r'\\tilde E(2)',structure='Riemannian')\n",
    "M_chart.<x,y,t> = M.chart()\n",
    "g = M.metric()"
   ]
  },
  {
   "cell_type": "markdown",
   "id": "b4f7a0a3",
   "metadata": {},
   "source": [
    "Definimos las traslaciones a izquierda usando la fórmula anterior."
   ]
  },
  {
   "cell_type": "code",
   "execution_count": 136,
   "id": "7c884094",
   "metadata": {},
   "outputs": [
    {
     "data": {
      "text/html": [
       "<html>\\(\\displaystyle \\begin{array}{llcl} L_p:& \\tilde E(2) & \\longrightarrow & \\tilde E(2) \\\\ & \\left(x, y, t\\right) & \\longmapsto & \\left(x \\cos\\left(t_{0}\\right) - y \\sin\\left(t_{0}\\right) + x_{0}, y \\cos\\left(t_{0}\\right) + x \\sin\\left(t_{0}\\right) + y_{0}, t + t_{0}\\right) \\end{array}\\)</html>"
      ],
      "text/latex": [
       "$\\displaystyle \\begin{array}{llcl} L_p:& \\tilde E(2) & \\longrightarrow & \\tilde E(2) \\\\ & \\left(x, y, t\\right) & \\longmapsto & \\left(x \\cos\\left(t_{0}\\right) - y \\sin\\left(t_{0}\\right) + x_{0}, y \\cos\\left(t_{0}\\right) + x \\sin\\left(t_{0}\\right) + y_{0}, t + t_{0}\\right) \\end{array}$"
      ],
      "text/plain": [
       "L_p: \\tilde E(2) → \\tilde E(2)\n",
       "   (x, y, t) ↦ (x*cos(t0) - y*sin(t0) + x0, y*cos(t0) + x*sin(t0) + y0, t + t0)"
      ]
     },
     "execution_count": 136,
     "metadata": {},
     "output_type": "execute_result"
    }
   ],
   "source": [
    "x0, y0, t0 = var(\"x0 y0 t0\")\n",
    "p = M.point((x0, y0, t0))\n",
    "Lp = M.diffeomorphism(M, \\\n",
    "                      (x0+x*cos(t0)-y*sin(t0), \\\n",
    "                       y0+x*sin(t0)+y*cos(t0),t0+t), \\\n",
    "                      name='L_p')\n",
    "Lp.display()"
   ]
  },
  {
   "cell_type": "markdown",
   "id": "572ef3d4",
   "metadata": {},
   "source": [
    "Y calculamos su diferencial."
   ]
  },
  {
   "cell_type": "code",
   "execution_count": 137,
   "id": "67e65e3f",
   "metadata": {},
   "outputs": [
    {
     "data": {
      "text/html": [
       "<html>\\(\\displaystyle \\left(\\begin{array}{rrr}\n",
       "\\cos\\left(t_{0}\\right) & -\\sin\\left(t_{0}\\right) & 0 \\\\\n",
       "\\sin\\left(t_{0}\\right) & \\cos\\left(t_{0}\\right) & 0 \\\\\n",
       "0 & 0 & 1\n",
       "\\end{array}\\right)\\)</html>"
      ],
      "text/latex": [
       "$\\displaystyle \\left(\\begin{array}{rrr}\n",
       "\\cos\\left(t_{0}\\right) & -\\sin\\left(t_{0}\\right) & 0 \\\\\n",
       "\\sin\\left(t_{0}\\right) & \\cos\\left(t_{0}\\right) & 0 \\\\\n",
       "0 & 0 & 1\n",
       "\\end{array}\\right)$"
      ],
      "text/plain": [
       "[ cos(t0) -sin(t0)        0]\n",
       "[ sin(t0)  cos(t0)        0]\n",
       "[       0        0        1]"
      ]
     },
     "execution_count": 137,
     "metadata": {},
     "output_type": "execute_result"
    }
   ],
   "source": [
    "zero = M.point((0,0,0))\n",
    "dLp_0 = Lp.differential(zero)\n",
    "dLp_0.matrix()"
   ]
  },
  {
   "cell_type": "markdown",
   "id": "38c1b876",
   "metadata": {},
   "source": [
    "Las columnas de la matriz `dLp_0.matrix()` nos dan los coeficientes del frame invariante asociado, con respecto a `M.default_frame()`."
   ]
  },
  {
   "cell_type": "code",
   "execution_count": 138,
   "id": "fa3a36a5",
   "metadata": {
    "slideshow": {
     "slide_type": "subslide"
    }
   },
   "outputs": [
    {
     "data": {
      "text/html": [
       "<html>\\(\\displaystyle \\left[\\left(\\tilde E(2), \\left(\\frac{\\partial}{\\partial x },\\frac{\\partial}{\\partial y },\\frac{\\partial}{\\partial t }\\right)\\right), \\left(\\tilde E(2), \\left(L_{0},L_{1},L_{2}\\right)\\right)\\right]\\)</html>"
      ],
      "text/latex": [
       "$\\displaystyle \\left[\\left(\\tilde E(2), \\left(\\frac{\\partial}{\\partial x },\\frac{\\partial}{\\partial y },\\frac{\\partial}{\\partial t }\\right)\\right), \\left(\\tilde E(2), \\left(L_{0},L_{1},L_{2}\\right)\\right)\\right]$"
      ],
      "text/plain": [
       "[Coordinate frame (\\tilde E(2), (∂/∂x,∂/∂y,∂/∂t)),\n",
       " Vector frame (\\tilde E(2), (L_0,L_1,L_2))]"
      ]
     },
     "execution_count": 138,
     "metadata": {},
     "output_type": "execute_result"
    }
   ],
   "source": [
    "X, Y, T = M.default_frame()\n",
    "L0 = M.vector_field([cos(t),sin(t),0], name='L_0')\n",
    "L1 = M.vector_field([-sin(t),cos(t),0], name='L_1')\n",
    "L2 = M.vector_field([0,0,1], name='L_2')\n",
    "M_left_inv_frame = M.vector_frame('L',(L0,L1,L2))\n",
    "M.frames()"
   ]
  },
  {
   "cell_type": "markdown",
   "id": "232eb19e",
   "metadata": {},
   "source": [
    "Verifiquemos que el corchete de campos invariantes a izquida es invariante a izquierda."
   ]
  },
  {
   "cell_type": "code",
   "execution_count": 139,
   "id": "d04a65a2",
   "metadata": {},
   "outputs": [
    {
     "data": {
      "text/html": [
       "<html>\\(\\displaystyle \\left[L_0,L_1\\right] = 0\\)</html>"
      ],
      "text/latex": [
       "$\\displaystyle \\left[L_0,L_1\\right] = 0$"
      ],
      "text/plain": [
       "[L_0,L_1] = 0"
      ]
     },
     "metadata": {},
     "output_type": "display_data"
    },
    {
     "data": {
      "text/html": [
       "<html>\\(\\displaystyle \\left[L_0,L_2\\right] = -L_{1}\\)</html>"
      ],
      "text/latex": [
       "$\\displaystyle \\left[L_0,L_2\\right] = -L_{1}$"
      ],
      "text/plain": [
       "[L_0,L_2] = -L_1"
      ]
     },
     "metadata": {},
     "output_type": "display_data"
    },
    {
     "data": {
      "text/html": [
       "<html>\\(\\displaystyle \\left[L_1,L_2\\right] = L_{0}\\)</html>"
      ],
      "text/latex": [
       "$\\displaystyle \\left[L_1,L_2\\right] = L_{0}$"
      ],
      "text/plain": [
       "[L_1,L_2] = L_0"
      ]
     },
     "metadata": {},
     "output_type": "display_data"
    }
   ],
   "source": [
    "display(L0.bracket(L1).display(M_left_inv_frame))\n",
    "display(L0.bracket(L2).display(M_left_inv_frame))\n",
    "display(L1.bracket(L2).display(M_left_inv_frame))"
   ]
  },
  {
   "cell_type": "markdown",
   "id": "6013cd04",
   "metadata": {
    "slideshow": {
     "slide_type": "subslide"
    }
   },
   "source": [
    "Para definir una métrica invariante a izquierda hay que usar un pequeño truco ya que a `.metric()` no podemos pasarel el parámetro `frame=` pero a `.tensor_field()` sí. Entonces creamos un tensor `g_aux` con los mismo coeficientes que queremos para nuestra métrica en un frame invariante a izquierda y luego definimos los coeficientes de `g[i,j] = g_aux[i,j]` en el frame `M.default_frame()`. "
   ]
  },
  {
   "cell_type": "code",
   "execution_count": 140,
   "id": "e906fb44",
   "metadata": {},
   "outputs": [
    {
     "data": {
      "text/plain": [
       "g = ((mu - nu)*cos(t)^2 + nu) dx⊗dx + (mu - nu)*cos(t)*sin(t) dx⊗dy + (mu - nu)*cos(t)*sin(t) dy⊗dx + (-(mu - nu)*cos(t)^2 + mu) dy⊗dy + eta dt⊗dt"
      ]
     },
     "execution_count": 140,
     "metadata": {},
     "output_type": "execute_result"
    }
   ],
   "source": [
    "mu, nu, eta = var(\"mu, nu, eta\")\n",
    "assume(mu>0,nu>0,eta>0)\n",
    "g_aux = M.tensor_field(0,2,\\\n",
    "                       [[mu,0,0],[0,nu,0],[0,0,eta]],\\\n",
    "                       frame=M_left_inv_frame,name='g_a')\n",
    "g[:] = g_aux[:]\n",
    "%display plain\n",
    "g.display()"
   ]
  },
  {
   "cell_type": "markdown",
   "id": "9c663f8d",
   "metadata": {
    "slideshow": {
     "slide_type": "subslide"
    }
   },
   "source": [
    "La métrica es invariante a izquierda ya que tiene coeficientes constantes con respecto al frame invariante a izquierda."
   ]
  },
  {
   "cell_type": "code",
   "execution_count": 141,
   "id": "459762ec",
   "metadata": {},
   "outputs": [
    {
     "name": "stdout",
     "output_type": "stream",
     "text": [
      "CPU times: user 1.21 s, sys: 13.3 ms, total: 1.22 s\n",
      "Wall time: 942 ms\n"
     ]
    },
    {
     "data": {
      "text/html": [
       "<html>\\(\\displaystyle g = \\mu L^{0}\\otimes L^{0} + \\nu L^{1}\\otimes L^{1} + \\eta L^{2}\\otimes L^{2}\\)</html>"
      ],
      "text/latex": [
       "$\\displaystyle g = \\mu L^{0}\\otimes L^{0} + \\nu L^{1}\\otimes L^{1} + \\eta L^{2}\\otimes L^{2}$"
      ],
      "text/plain": [
       "g = mu L^0⊗L^0 + nu L^1⊗L^1 + eta L^2⊗L^2"
      ]
     },
     "execution_count": 141,
     "metadata": {},
     "output_type": "execute_result"
    }
   ],
   "source": [
    "%display latex\n",
    "%time g.display(M_left_inv_frame)"
   ]
  },
  {
   "cell_type": "markdown",
   "id": "1177d888",
   "metadata": {
    "slideshow": {
     "slide_type": "subslide"
    }
   },
   "source": [
    "Definimos el tensor de curvatura `Riem` de la métrica `g`."
   ]
  },
  {
   "cell_type": "code",
   "execution_count": 142,
   "id": "4271c699",
   "metadata": {},
   "outputs": [
    {
     "name": "stdout",
     "output_type": "stream",
     "text": [
      "CPU times: user 6.7 s, sys: 86.8 ms, total: 6.79 s\n",
      "Wall time: 4.97 s\n"
     ]
    }
   ],
   "source": [
    "#Long time\n",
    "%time Riem = g.riemann() "
   ]
  },
  {
   "cell_type": "markdown",
   "id": "268c996a",
   "metadata": {
    "slideshow": {
     "slide_type": "subslide"
    }
   },
   "source": [
    "Hacer un `Riem.display(M_left_inv_frame)` lleva mucho tiempo, podemos acelerar un poco la cosa con `Parellelism()`."
   ]
  },
  {
   "cell_type": "code",
   "execution_count": 143,
   "id": "1fbb5587",
   "metadata": {},
   "outputs": [
    {
     "name": "stdout",
     "output_type": "stream",
     "text": [
      "CPU times: user 447 ms, sys: 92.5 ms, total: 540 ms\n",
      "Wall time: 19.4 s\n"
     ]
    },
    {
     "data": {
      "text/plain": [
       "Riem(g) = 1/4*(mu^2 - 2*mu*nu + nu^2)/(eta*mu) L_0⊗L^1⊗L^0⊗L^1 - 1/4*(mu^2 - 2*mu*nu + nu^2)/(eta*mu) L_0⊗L^1⊗L^1⊗L^0 + 1/4*(mu^2 + 2*mu*nu - 3*nu^2)/(mu*nu) L_0⊗L^2⊗L^0⊗L^2 - 1/4*(mu^2 + 2*mu*nu - 3*nu^2)/(mu*nu) L_0⊗L^2⊗L^2⊗L^0 - 1/4*(mu^2 - 2*mu*nu + nu^2)/(eta*nu) L_1⊗L^0⊗L^0⊗L^1 + 1/4*(mu^2 - 2*mu*nu + nu^2)/(eta*nu) L_1⊗L^0⊗L^1⊗L^0 - 1/4*(3*mu^2 - 2*mu*nu - nu^2)/(mu*nu) L_1⊗L^2⊗L^1⊗L^2 + 1/4*(3*mu^2 - 2*mu*nu - nu^2)/(mu*nu) L_1⊗L^2⊗L^2⊗L^1 - 1/4*(mu^2 + 2*mu*nu - 3*nu^2)/(eta*nu) L_2⊗L^0⊗L^0⊗L^2 + 1/4*(mu^2 + 2*mu*nu - 3*nu^2)/(eta*nu) L_2⊗L^0⊗L^2⊗L^0 + 1/4*(3*mu^2 - 2*mu*nu - nu^2)/(eta*mu) L_2⊗L^1⊗L^1⊗L^2 - 1/4*(3*mu^2 - 2*mu*nu - nu^2)/(eta*mu) L_2⊗L^1⊗L^2⊗L^1"
      ]
     },
     "execution_count": 143,
     "metadata": {},
     "output_type": "execute_result"
    }
   ],
   "source": [
    "Parallelism().set(nproc=8)\n",
    "%display plain\n",
    "%time Riem.display(M_left_inv_frame)"
   ]
  },
  {
   "cell_type": "markdown",
   "id": "752bd2fc",
   "metadata": {
    "slideshow": {
     "slide_type": "subslide"
    }
   },
   "source": [
    "\n",
    "Otra opción sería ir pidiéndole a Sage que haga cálculos más sencillos. Por ejemplo"
   ]
  },
  {
   "cell_type": "code",
   "execution_count": 144,
   "id": "ea68d335",
   "metadata": {},
   "outputs": [
    {
     "data": {
      "text/html": [
       "<html>\\(\\displaystyle \\frac{{\\left(\\mu \\cos\\left(t\\right)^{2} - \\nu \\cos\\left(t\\right)^{2} + \\nu\\right)} {\\left(\\mu - \\nu\\right)}^{2}}{4 \\, \\eta \\mu \\nu}\\)</html>"
      ],
      "text/latex": [
       "$\\displaystyle \\frac{{\\left(\\mu \\cos\\left(t\\right)^{2} - \\nu \\cos\\left(t\\right)^{2} + \\nu\\right)} {\\left(\\mu - \\nu\\right)}^{2}}{4 \\, \\eta \\mu \\nu}$"
      ],
      "text/plain": [
       "1/4*(mu*cos(t)^2 - nu*cos(t)^2 + nu)*(mu - nu)^2/(eta*mu*nu)"
      ]
     },
     "execution_count": 144,
     "metadata": {},
     "output_type": "execute_result"
    }
   ],
   "source": [
    "%display latex\n",
    "Riem[1,0,1,0].factor()"
   ]
  },
  {
   "cell_type": "markdown",
   "id": "58418f9a",
   "metadata": {},
   "source": [
    "nos dice que para que la métrica sea plana necesitamos que $\\mu = \\nu$. Y podemos empezar de nuevo..."
   ]
  },
  {
   "cell_type": "code",
   "execution_count": 145,
   "id": "1d62c73b",
   "metadata": {},
   "outputs": [
    {
     "name": "stdout",
     "output_type": "stream",
     "text": [
      "CPU times: user 91.9 ms, sys: 231 ms, total: 323 ms\n",
      "Wall time: 422 ms\n"
     ]
    }
   ],
   "source": [
    "g_aux = M.tensor_field(0,2,\\\n",
    "                       [[mu,0,0],[0,mu,0],[0,0,eta]],\\\n",
    "                       frame=M_left_inv_frame,name='g_a')\n",
    "g[:] = g_aux[:]\n",
    "%time Riem = g.riemann() #Tarda mucho menos"
   ]
  },
  {
   "cell_type": "markdown",
   "id": "d23109ae",
   "metadata": {
    "slideshow": {
     "slide_type": "subslide"
    }
   },
   "source": [
    "Con esto ya hacemos que la métrica sea plana"
   ]
  },
  {
   "cell_type": "code",
   "execution_count": 146,
   "id": "96756fd5",
   "metadata": {},
   "outputs": [
    {
     "data": {
      "text/html": [
       "<html>\\(\\displaystyle \\mathrm{Riem}\\left(g\\right) = 0\\)</html>"
      ],
      "text/latex": [
       "$\\displaystyle \\mathrm{Riem}\\left(g\\right) = 0$"
      ],
      "text/plain": [
       "Riem(g) = 0"
      ]
     },
     "execution_count": 146,
     "metadata": {},
     "output_type": "execute_result"
    }
   ],
   "source": [
    "Riem.display()"
   ]
  },
  {
   "cell_type": "markdown",
   "id": "37ef0198",
   "metadata": {},
   "source": [
    "Esto también lo podemos comprobar viendo que la métrica invariante a izquierda coincide con una métrica euclídea"
   ]
  },
  {
   "cell_type": "code",
   "execution_count": 147,
   "id": "d80c0ddc",
   "metadata": {},
   "outputs": [
    {
     "data": {
      "text/html": [
       "<html>\\(\\displaystyle g = \\mu L^{0}\\otimes L^{0} + \\mu L^{1}\\otimes L^{1} + \\eta L^{2}\\otimes L^{2}\\)</html>"
      ],
      "text/latex": [
       "$\\displaystyle g = \\mu L^{0}\\otimes L^{0} + \\mu L^{1}\\otimes L^{1} + \\eta L^{2}\\otimes L^{2}$"
      ],
      "text/plain": [
       "g = mu L^0⊗L^0 + mu L^1⊗L^1 + eta L^2⊗L^2"
      ]
     },
     "execution_count": 147,
     "metadata": {},
     "output_type": "execute_result"
    }
   ],
   "source": [
    "g.display()\n",
    "g.display(M_left_inv_frame)"
   ]
  },
  {
   "cell_type": "markdown",
   "id": "e11a44d3",
   "metadata": {
    "slideshow": {
     "slide_type": "slide"
    }
   },
   "source": [
    "## Ejemplo curvatura negativa\n",
    "\n",
    "Para estudiar el caso del espacio hiperbólico nos ayudaremos de un resultados que son conocidos en la literatura. Consideremos el grupo de Lie soluble $G$, cuya álgebra de Lie $\\mathfrak g$ admite una base $e_0, e_1, e_2$ con los corchetes dados por\n",
    "\\begin{align*}\n",
    "[L_0, L_1] = 0, && [L_2, L_0] = L_0 && [L_2, L_1] = L_1\n",
    "\\end{align*}\n",
    "\n",
    "Se puede ver que el grupo de Lie simplemente conexo asociado a esta álgebra de Lie es $\\mathbb R^3$ con el producto\n",
    "$$\n",
    "(x, y, t)(x', y', t') = (x + e^t x', y + e^t y', t + t').\n",
    "$$\n",
    "\n",
    "Sabiendo esto, ya podemos implementarlo en Sage."
   ]
  },
  {
   "cell_type": "code",
   "execution_count": 148,
   "id": "aa9d87b8",
   "metadata": {
    "slideshow": {
     "slide_type": "subslide"
    }
   },
   "outputs": [
    {
     "data": {
      "text/html": [
       "<html>\\(\\displaystyle \\begin{array}{llcl} L_p:& M & \\longrightarrow & M \\\\ & \\left(x, y, t\\right) & \\longmapsto & \\left(x e^{t_{0}} + x_{0}, y e^{t_{0}} + y_{0}, t + t_{0}\\right) \\end{array}\\)</html>"
      ],
      "text/latex": [
       "$\\displaystyle \\begin{array}{llcl} L_p:& M & \\longrightarrow & M \\\\ & \\left(x, y, t\\right) & \\longmapsto & \\left(x e^{t_{0}} + x_{0}, y e^{t_{0}} + y_{0}, t + t_{0}\\right) \\end{array}$"
      ],
      "text/plain": [
       "L_p: M → M\n",
       "   (x, y, t) ↦ (x*e^t0 + x0, y*e^t0 + y0, t + t0)"
      ]
     },
     "execution_count": 148,
     "metadata": {},
     "output_type": "execute_result"
    }
   ],
   "source": [
    "M = Manifold(3, 'M',structure='Riemannian')\n",
    "M_chart.<x,y,t> = M.chart()\n",
    "g = M.metric()\n",
    "x0, y0, t0 = var(\"x0 y0 t0\")\n",
    "p = M.point((x0, y0, t0), name='p')\n",
    "zero = M.point((0,0,0))\n",
    "Lp = M.diffeomorphism(M, (x0+x*exp(t0),y0+y*exp(t0),t0+t), \\\n",
    "                      name='L_p')\n",
    "Lp.display()"
   ]
  },
  {
   "cell_type": "markdown",
   "id": "76863246",
   "metadata": {},
   "source": [
    "**Ejecicio.** Verificar que $M$ es un grupo de Lie:\n",
    "\n",
    "* Probar que el producto es asociativo definiendo otro punto arbitrario `q`, los difeomorfismos `Lq`, `Lpq` y chequeando que `Lp.post_compose(Lq) == Lpq`\n",
    "* Probar que existen inversos verificando que `Lp.inverse() == Lq` con `q = Lp.inverse()(zero)`\n",
    "\n",
    "Para calcular los campos invariantes a izquierda usamos el mimsmo truco que antes."
   ]
  },
  {
   "cell_type": "code",
   "execution_count": 149,
   "id": "050c17b0",
   "metadata": {},
   "outputs": [
    {
     "data": {
      "text/html": [
       "<html>\\(\\displaystyle \\left(\\begin{array}{rrr}\n",
       "e^{t_{0}} & 0 & 0 \\\\\n",
       "0 & e^{t_{0}} & 0 \\\\\n",
       "0 & 0 & 1\n",
       "\\end{array}\\right)\\)</html>"
      ],
      "text/latex": [
       "$\\displaystyle \\left(\\begin{array}{rrr}\n",
       "e^{t_{0}} & 0 & 0 \\\\\n",
       "0 & e^{t_{0}} & 0 \\\\\n",
       "0 & 0 & 1\n",
       "\\end{array}\\right)$"
      ],
      "text/plain": [
       "[e^t0    0    0]\n",
       "[   0 e^t0    0]\n",
       "[   0    0    1]"
      ]
     },
     "execution_count": 149,
     "metadata": {},
     "output_type": "execute_result"
    }
   ],
   "source": [
    "dLp_0 = Lp.differential(zero)\n",
    "dLp_0.matrix()"
   ]
  },
  {
   "cell_type": "markdown",
   "id": "27263689",
   "metadata": {},
   "source": [
    "Y como antes definimos un frame invariante a izquierda."
   ]
  },
  {
   "cell_type": "code",
   "execution_count": 150,
   "id": "7e62e913",
   "metadata": {},
   "outputs": [
    {
     "data": {
      "text/html": [
       "<html>\\(\\displaystyle \\left[\\left(M, \\left(\\frac{\\partial}{\\partial x },\\frac{\\partial}{\\partial y },\\frac{\\partial}{\\partial t }\\right)\\right), \\left(M, \\left(L_{0},L_{1},L_{2}\\right)\\right)\\right]\\)</html>"
      ],
      "text/latex": [
       "$\\displaystyle \\left[\\left(M, \\left(\\frac{\\partial}{\\partial x },\\frac{\\partial}{\\partial y },\\frac{\\partial}{\\partial t }\\right)\\right), \\left(M, \\left(L_{0},L_{1},L_{2}\\right)\\right)\\right]$"
      ],
      "text/plain": [
       "[Coordinate frame (M, (∂/∂x,∂/∂y,∂/∂t)), Vector frame (M, (L_0,L_1,L_2))]"
      ]
     },
     "execution_count": 150,
     "metadata": {},
     "output_type": "execute_result"
    }
   ],
   "source": [
    "X, Y, T = M.default_frame()\n",
    "L0 = M.vector_field([exp(t),0,0], name='L_0')\n",
    "L1 = M.vector_field([0,exp(t),0], name='L_1')\n",
    "L2 = M.vector_field([0,0,1], name='L_2')\n",
    "M_left_inv_frame = M.vector_frame('L',(L0,L1,L2))\n",
    "M.frames()"
   ]
  },
  {
   "cell_type": "markdown",
   "id": "004409db",
   "metadata": {
    "slideshow": {
     "slide_type": "subslide"
    }
   },
   "source": [
    "Chequeemos el corchete de Lie satisface las relaciones propuestas"
   ]
  },
  {
   "cell_type": "code",
   "execution_count": 151,
   "id": "872de1c1",
   "metadata": {},
   "outputs": [
    {
     "data": {
      "text/html": [
       "<html>\\(\\displaystyle \\left[L_0,L_1\\right] = 0\\)</html>"
      ],
      "text/latex": [
       "$\\displaystyle \\left[L_0,L_1\\right] = 0$"
      ],
      "text/plain": [
       "[L_0,L_1] = 0"
      ]
     },
     "metadata": {},
     "output_type": "display_data"
    },
    {
     "data": {
      "text/html": [
       "<html>\\(\\displaystyle \\left[L_2,L_0\\right] = L_{0}\\)</html>"
      ],
      "text/latex": [
       "$\\displaystyle \\left[L_2,L_0\\right] = L_{0}$"
      ],
      "text/plain": [
       "[L_2,L_0] = L_0"
      ]
     },
     "metadata": {},
     "output_type": "display_data"
    },
    {
     "data": {
      "text/html": [
       "<html>\\(\\displaystyle \\left[L_2,L_1\\right] = L_{1}\\)</html>"
      ],
      "text/latex": [
       "$\\displaystyle \\left[L_2,L_1\\right] = L_{1}$"
      ],
      "text/plain": [
       "[L_2,L_1] = L_1"
      ]
     },
     "metadata": {},
     "output_type": "display_data"
    }
   ],
   "source": [
    "display(L0.bracket(L1).display(M_left_inv_frame))\n",
    "display(L2.bracket(L0).display(M_left_inv_frame))\n",
    "display(L2.bracket(L1).display(M_left_inv_frame))"
   ]
  },
  {
   "cell_type": "markdown",
   "id": "b623dc8f",
   "metadata": {
    "slideshow": {
     "slide_type": "subslide"
    }
   },
   "source": [
    "Para hacer las cuentas más sencillas (y breves) consideramos métricas diagonales."
   ]
  },
  {
   "cell_type": "code",
   "execution_count": 152,
   "id": "b0f2da9b",
   "metadata": {},
   "outputs": [
    {
     "data": {
      "text/html": [
       "<html>\\(\\displaystyle g = \\mu e^{\\left(-2 \\, t\\right)} \\mathrm{d} x\\otimes \\mathrm{d} x + \\nu e^{\\left(-2 \\, t\\right)} \\mathrm{d} y\\otimes \\mathrm{d} y + \\eta \\mathrm{d} t\\otimes \\mathrm{d} t\\)</html>"
      ],
      "text/latex": [
       "$\\displaystyle g = \\mu e^{\\left(-2 \\, t\\right)} \\mathrm{d} x\\otimes \\mathrm{d} x + \\nu e^{\\left(-2 \\, t\\right)} \\mathrm{d} y\\otimes \\mathrm{d} y + \\eta \\mathrm{d} t\\otimes \\mathrm{d} t$"
      ],
      "text/plain": [
       "g = mu*e^(-2*t) dx⊗dx + nu*e^(-2*t) dy⊗dy + eta dt⊗dt"
      ]
     },
     "metadata": {},
     "output_type": "display_data"
    },
    {
     "data": {
      "text/html": [
       "<html>\\(\\displaystyle g = \\mu L^{0}\\otimes L^{0} + \\nu L^{1}\\otimes L^{1} + \\eta L^{2}\\otimes L^{2}\\)</html>"
      ],
      "text/latex": [
       "$\\displaystyle g = \\mu L^{0}\\otimes L^{0} + \\nu L^{1}\\otimes L^{1} + \\eta L^{2}\\otimes L^{2}$"
      ],
      "text/plain": [
       "g = mu L^0⊗L^0 + nu L^1⊗L^1 + eta L^2⊗L^2"
      ]
     },
     "execution_count": 152,
     "metadata": {},
     "output_type": "execute_result"
    }
   ],
   "source": [
    "mu, nu, eta = var(\"mu, nu, eta\")\n",
    "assume(mu>0,nu>0,eta>0)\n",
    "g_aux = M.tensor_field(0,2,[[mu,0,0],[0,nu,0],[0,0,eta]],\n",
    "                       frame=M_left_inv_frame,name='g_a')\n",
    "g[:] = g_aux[:]\n",
    "display(g.display())\n",
    "g.display(M_left_inv_frame)"
   ]
  },
  {
   "cell_type": "code",
   "execution_count": 153,
   "id": "dcad58d0",
   "metadata": {
    "slideshow": {
     "slide_type": "subslide"
    }
   },
   "outputs": [
    {
     "name": "stdout",
     "output_type": "stream",
     "text": [
      "CPU times: user 265 ms, sys: 297 ms, total: 562 ms\n",
      "Wall time: 889 ms\n"
     ]
    }
   ],
   "source": [
    "%time Riem = g.riemann()"
   ]
  },
  {
   "cell_type": "markdown",
   "id": "f9076e2a",
   "metadata": {},
   "source": [
    "Con esto ya podemos calcular la curvatura seccional y verificar que $M$ es un espacio de curvatura constante negativa."
   ]
  },
  {
   "cell_type": "code",
   "execution_count": 154,
   "id": "8f85f26a",
   "metadata": {},
   "outputs": [
    {
     "data": {
      "text/html": [
       "<html>\\(\\displaystyle -\\frac{1}{\\eta}\\)</html>"
      ],
      "text/latex": [
       "$\\displaystyle -\\frac{1}{\\eta}$"
      ],
      "text/plain": [
       "-1/eta"
      ]
     },
     "execution_count": 154,
     "metadata": {},
     "output_type": "execute_result"
    }
   ],
   "source": [
    "u0,u1,u2,v0,v1,v2 = var(\"u0,u1,u2,v0,v1,v2\")\n",
    "u = u0 * L0.at(p) + u1 * L1.at(p) + u2 * L2.at(p)\n",
    "v = v0 * L0.at(p) + v1 * L1.at(p) + v2 * L2.at(p)\n",
    "curv_secc(u, v)"
   ]
  },
  {
   "cell_type": "markdown",
   "id": "42eb4b23",
   "metadata": {
    "slideshow": {
     "slide_type": "slide"
    }
   },
   "source": [
    "# Ejemplo: curvatura positiva"
   ]
  },
  {
   "cell_type": "markdown",
   "id": "c04d3627",
   "metadata": {},
   "source": [
    "Esto lo vamos a dejar como un ejercicio para quien esté interesado. La idea es la siguiente. Consideramos la inmersión $\\mathbb S^3 \\hookrightarrow \\mathbb R^4$. La métrica en $\\mathbb S^3$ es la inducida de $\\mathbb R^4$, vía la identificación\n",
    "$$\n",
    "T_p\\mathbb S^3 = \\{p\\}^\\perp = \\{v \\in \\mathbb R^4: \\langle v, p\\rangle = 0\\}\n",
    "$$\n",
    "Con esta métrica la esfera (de radio $1$, centrada en el origen) es un espacio de curvatura constate $1$. Pero además la esfera es un grupo de Lie: si identificamos $\\mathbb R^4$ con los cuaterniones $\\mathbb H$, entonces\n",
    "$$\n",
    "\\mathbb S^3 = \\{p \\in \\mathbb H: |p| = 1\\}\n",
    "$$\n",
    "es un subgrupo con la multiplicación (y resulta grupo de Lie porque la multiplicación en $\\mathbb H$ es diferenciable). En $\\mathbb S^3$ hay un frame invariante a izquierda. En efecto, si $X, Y, Z \\in \\mathfrak X(\\mathbb H)$ son los campos\n",
    "\\begin{align*}\n",
    "X_p = \\mathbf ip && Y_p = \\mathbf jp && Z_p = \\mathbf kp\n",
    "\\end{align*}\n",
    "entonces $X, Y, Z$ son tangentes a la esfera y de hecho su restricción a $\\mathbb S^3$ forma un frame invariante a izquierda (porque multiplicar por $\\mathbf i, \\mathbf j, \\mathbf k$ son isometrías en $\\mathbb R^4$).\n",
    "\n",
    "Ahora sólo falta implementar esto en Sage. Algunas ideas que pueden servir para hacer esto.\n"
   ]
  },
  {
   "cell_type": "markdown",
   "id": "c96f6814",
   "metadata": {
    "slideshow": {
     "slide_type": "subslide"
    }
   },
   "source": []
  },
  {
   "cell_type": "code",
   "execution_count": 155,
   "id": "cbf201fb",
   "metadata": {},
   "outputs": [
    {
     "name": "stdout",
     "output_type": "stream",
     "text": [
      "3-sphere S^3 of radius 1 smoothly embedded in the 4-dimensional Euclidean space E^4\n"
     ]
    }
   ],
   "source": [
    "#A partir de la version 9.3, la esfera ya viene cargada\n",
    "S3 = manifolds.Sphere(3) \n",
    "print(S3)"
   ]
  },
  {
   "cell_type": "markdown",
   "id": "4d44f364",
   "metadata": {},
   "source": [
    "Por defecto $\\mathbb S^3$ viene con coordenadas esféricas, pero también podríamos pedirle a Sage que use las proyecciones estereográficas"
   ]
  },
  {
   "cell_type": "code",
   "execution_count": 156,
   "id": "63c34da8",
   "metadata": {},
   "outputs": [
    {
     "data": {
      "text/plain": [
       "iota: S^3 → E^4\n",
       "on A: (chi, theta, phi) ↦ (x1, x2, x3, x4) = (cos(phi)*sin(chi)*sin(theta), sin(chi)*sin(phi)*sin(theta), cos(theta)*sin(chi), cos(chi))"
      ]
     },
     "execution_count": 156,
     "metadata": {},
     "output_type": "execute_result"
    }
   ],
   "source": [
    "%display plain\n",
    "iota = S3.embedding()\n",
    "iota.display()"
   ]
  },
  {
   "cell_type": "markdown",
   "id": "3545c028",
   "metadata": {
    "slideshow": {
     "slide_type": "subslide"
    }
   },
   "source": [
    "Podemos inducir la métrica de $\\mathbb E^4$ a la esfera:"
   ]
  },
  {
   "cell_type": "code",
   "execution_count": 157,
   "id": "1f7e2400",
   "metadata": {},
   "outputs": [
    {
     "name": "stdout",
     "output_type": "stream",
     "text": [
      "Riemannian metric g on the 3-sphere S^3 of radius 1 smoothly embedded in the 4-dimensional Euclidean space E^4\n"
     ]
    },
    {
     "data": {
      "text/html": [
       "<html>\\(\\displaystyle g = \\mathrm{d} \\chi\\otimes \\mathrm{d} \\chi + \\sin\\left(\\chi\\right)^{2} \\mathrm{d} \\theta\\otimes \\mathrm{d} \\theta + \\sin\\left(\\chi\\right)^{2} \\sin\\left(\\theta\\right)^{2} \\mathrm{d} \\phi\\otimes \\mathrm{d} \\phi\\)</html>"
      ],
      "text/latex": [
       "$\\displaystyle g = \\mathrm{d} \\chi\\otimes \\mathrm{d} \\chi + \\sin\\left(\\chi\\right)^{2} \\mathrm{d} \\theta\\otimes \\mathrm{d} \\theta + \\sin\\left(\\chi\\right)^{2} \\sin\\left(\\theta\\right)^{2} \\mathrm{d} \\phi\\otimes \\mathrm{d} \\phi$"
      ],
      "text/plain": [
       "g = dchi⊗dchi + sin(chi)^2 dtheta⊗dtheta + sin(chi)^2*sin(theta)^2 dphi⊗dphi"
      ]
     },
     "execution_count": 157,
     "metadata": {},
     "output_type": "execute_result"
    }
   ],
   "source": [
    "%display latex\n",
    "gamma = S3.induced_metric()\n",
    "print(gamma)\n",
    "gamma.display()"
   ]
  },
  {
   "cell_type": "markdown",
   "id": "766b3569",
   "metadata": {},
   "source": [
    "Los campos $X, Y, Z$ en $\\mathbb E^4$ son fáciles de definir. Por ejemplo\n",
    "$$\n",
    "X = -x_2\\frac{\\partial}{\\partial x_1} + x_1\\frac{\\partial}{\\partial x_2} -x_4\\frac{\\partial}{\\partial x_3} + x_3\\frac{\\partial}{\\partial x_4} \n",
    "$$"
   ]
  },
  {
   "cell_type": "markdown",
   "id": "d5c3d765",
   "metadata": {
    "slideshow": {
     "slide_type": "-"
    }
   },
   "source": [
    "Solo faltaría definir sus restricciones a la esfera y probar que son invariantes a izquierda. \n"
   ]
  }
 ],
 "metadata": {
  "kernelspec": {
   "display_name": "SageMath 10.0",
   "language": "sage",
   "name": "sagemath"
  },
  "language_info": {
   "codemirror_mode": {
    "name": "ipython",
    "version": 3
   },
   "file_extension": ".py",
   "mimetype": "text/x-python",
   "name": "python",
   "nbconvert_exporter": "python",
   "pygments_lexer": "ipython3",
   "version": "3.11.3"
  },
  "toc-showtags": false
 },
 "nbformat": 4,
 "nbformat_minor": 5
}
